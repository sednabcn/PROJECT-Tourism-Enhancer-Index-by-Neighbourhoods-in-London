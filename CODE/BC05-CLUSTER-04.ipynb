{
 "cells": [
  {
   "cell_type": "markdown",
   "metadata": {},
   "source": [
    "Import libraries"
   ]
  },
  {
   "cell_type": "code",
   "execution_count": 1,
   "metadata": {},
   "outputs": [
    {
     "name": "stdout",
     "output_type": "stream",
     "text": [
      "Requirement already satisfied: folium in /usr/local/lib/python3.7/dist-packages (0.10.0)\n",
      "Requirement already satisfied: branca>=0.3.0 in /usr/local/lib/python3.7/dist-packages (from folium) (0.3.1)\n",
      "Requirement already satisfied: numpy in /usr/local/lib/python3.7/dist-packages (from folium) (1.17.2)\n",
      "Requirement already satisfied: requests in /usr/lib/python3/dist-packages (from folium) (2.21.0)\n",
      "Requirement already satisfied: jinja2>=2.9 in /usr/lib/python3/dist-packages (from folium) (2.10)\n",
      "Requirement already satisfied: six in /usr/lib/python3/dist-packages (from branca>=0.3.0->folium) (1.12.0)\n",
      "Libraries imported.\n"
     ]
    }
   ],
   "source": [
    "import pandas as pd\n",
    "import numpy as np # library to handle data in a vectorized manner\n",
    "\n",
    "import geopy\n",
    "from geopy.geocoders import Nominatim # convert an address into latitude and longitude values\n",
    "\n",
    "import requests # library to handle requests\n",
    "from pandas.io.json import json_normalize # tranform JSON file into a pandas dataframe\n",
    "\n",
    "# Matplotlib and associated plotting modules\n",
    "import matplotlib.pyplot as plt\n",
    "import matplotlib.cm as cm\n",
    "import matplotlib.colors as colors\n",
    "\n",
    "# import k-means from clustering stage\n",
    "from sklearn.preprocessing import MinMaxScaler,StandardScaler\n",
    "from sklearn.cluster import KMeans\n",
    "!pip install folium\n",
    "import folium # map rendering library\n",
    "\n",
    "print('Libraries imported.')\n"
   ]
  },
  {
   "cell_type": "code",
   "execution_count": 2,
   "metadata": {},
   "outputs": [],
   "source": [
    "def top_venues(num_top_venues,data):\n",
    "    for hood in data['Neighbourhood']:\n",
    "        print(\"----\"+hood+\"----\")\n",
    "        temp = data[data['Neighbourhood'] == hood].T.reset_index()\n",
    "        temp.columns = ['venue','freq']\n",
    "        temp = temp.iloc[1:]\n",
    "        temp['freq'] = temp['freq'].astype(float)\n",
    "        temp = temp.round({'freq': 2})\n",
    "        print(temp.sort_values('freq', ascending=False).reset_index(drop=True).head(num_top_venues))\n",
    "        print('\\n')"
   ]
  },
  {
   "cell_type": "code",
   "execution_count": 3,
   "metadata": {},
   "outputs": [],
   "source": [
    "def return_most_common_venues(row, num_top_venues):\n",
    "    row_categories = row.iloc[1:]\n",
    "    row_categories_sorted = row_categories.sort_values(ascending=False)\n",
    "    \n",
    "    return row_categories_sorted.index.values[0:num_top_venues]"
   ]
  },
  {
   "cell_type": "code",
   "execution_count": 4,
   "metadata": {},
   "outputs": [],
   "source": [
    "# create a new dataframe\n",
    "def venues_to_dataframe(num_top_venues,columns,data,col):\n",
    "    indicators = ['st', 'nd', 'rd']\n",
    "    \n",
    "    # create columns according to number of top venues\n",
    "    for ind in np.arange(num_top_venues):\n",
    "        try:\n",
    "            columns.append('{}{} Most Common Venue'.format(ind+1, indicators[ind]))\n",
    "        except:\n",
    "            columns.append('{}th Most Common Venue'.format(ind+1))\n",
    "    neighbourhoods_venues_sorted = pd.DataFrame(columns=columns)\n",
    "    neighbourhoods_venues_sorted[col] = data[col]   \n",
    "    for ind in np.arange(data.shape[0]):\n",
    "        neighbourhoods_venues_sorted.iloc[ind, 1:] = return_most_common_venues(data.iloc[ind, :], num_top_venues)\n",
    "    return neighbourhoods_venues_sorted\n"
   ]
  },
  {
   "cell_type": "code",
   "execution_count": 5,
   "metadata": {},
   "outputs": [],
   "source": [
    "def get_colors(n):\n",
    "    return list(map(lambda i: \"#\" + \"%06x\" % random.randint(0, 0xFFFFFF),range(n)))"
   ]
  },
  {
   "cell_type": "code",
   "execution_count": 6,
   "metadata": {},
   "outputs": [],
   "source": [
    "neighbourhoods=pd.read_csv('/home/sedna/Downloads/PROJECT-COURSERA-CAPSTONE/DATA/neighbourhoods_london.csv',index_col=0)"
   ]
  },
  {
   "cell_type": "code",
   "execution_count": 7,
   "metadata": {},
   "outputs": [
    {
     "data": {
      "text/plain": [
       "(563, 4)"
      ]
     },
     "execution_count": 7,
     "metadata": {},
     "output_type": "execute_result"
    }
   ],
   "source": [
    "neighbourhoods.shape"
   ]
  },
  {
   "cell_type": "markdown",
   "metadata": {},
   "source": [
    "Read borough_CLustering_05 csvfile"
   ]
  },
  {
   "cell_type": "code",
   "execution_count": 8,
   "metadata": {},
   "outputs": [],
   "source": [
    "\n",
    "bc05=pd.read_csv('/home/sedna/Downloads/PROJECT-COURSERA-CAPSTONE/DATA/Borough_Cluster_05.csv',index_col=0)"
   ]
  },
  {
   "cell_type": "code",
   "execution_count": 9,
   "metadata": {},
   "outputs": [],
   "source": [
    "for ii in bc05.columns:\n",
    "    \n",
    "        bc05[ii][0]=[x.strip() for x in eval(bc05[ii][0])]"
   ]
  },
  {
   "cell_type": "markdown",
   "metadata": {},
   "source": []
  },
  {
   "cell_type": "markdown",
   "metadata": {},
   "source": []
  },
  {
   "cell_type": "code",
   "execution_count": 10,
   "metadata": {},
   "outputs": [],
   "source": [
    "London_neig_grouped=pd.read_csv('/home/sedna/Downloads/PROJECT-COURSERA-CAPSTONE/DATA/london_neig_grouped_CATEGORY_mean.csv', index_col=0)"
   ]
  },
  {
   "cell_type": "code",
   "execution_count": 11,
   "metadata": {},
   "outputs": [
    {
     "data": {
      "text/html": [
       "<div>\n",
       "<style scoped>\n",
       "    .dataframe tbody tr th:only-of-type {\n",
       "        vertical-align: middle;\n",
       "    }\n",
       "\n",
       "    .dataframe tbody tr th {\n",
       "        vertical-align: top;\n",
       "    }\n",
       "\n",
       "    .dataframe thead th {\n",
       "        text-align: right;\n",
       "    }\n",
       "</style>\n",
       "<table border=\"1\" class=\"dataframe\">\n",
       "  <thead>\n",
       "    <tr style=\"text-align: right;\">\n",
       "      <th></th>\n",
       "      <th>Neighbourhood</th>\n",
       "      <th>arts_entertainment</th>\n",
       "      <th>building</th>\n",
       "      <th>education</th>\n",
       "      <th>event</th>\n",
       "      <th>food</th>\n",
       "      <th>nightlife</th>\n",
       "      <th>parks_outdoors</th>\n",
       "      <th>shops</th>\n",
       "      <th>travel</th>\n",
       "    </tr>\n",
       "  </thead>\n",
       "  <tbody>\n",
       "    <tr>\n",
       "      <td>0</td>\n",
       "      <td>Abbey Wood</td>\n",
       "      <td>0.0</td>\n",
       "      <td>0.0</td>\n",
       "      <td>0.0</td>\n",
       "      <td>0.0</td>\n",
       "      <td>0.00</td>\n",
       "      <td>0.00</td>\n",
       "      <td>0.50</td>\n",
       "      <td>0.50</td>\n",
       "      <td>0.00</td>\n",
       "    </tr>\n",
       "    <tr>\n",
       "      <td>1</td>\n",
       "      <td>Acton</td>\n",
       "      <td>0.0</td>\n",
       "      <td>0.0</td>\n",
       "      <td>0.0</td>\n",
       "      <td>0.0</td>\n",
       "      <td>0.20</td>\n",
       "      <td>0.00</td>\n",
       "      <td>0.10</td>\n",
       "      <td>0.30</td>\n",
       "      <td>0.40</td>\n",
       "    </tr>\n",
       "    <tr>\n",
       "      <td>2</td>\n",
       "      <td>Addington</td>\n",
       "      <td>0.0</td>\n",
       "      <td>0.0</td>\n",
       "      <td>0.0</td>\n",
       "      <td>0.0</td>\n",
       "      <td>0.25</td>\n",
       "      <td>0.00</td>\n",
       "      <td>0.00</td>\n",
       "      <td>0.25</td>\n",
       "      <td>0.50</td>\n",
       "    </tr>\n",
       "    <tr>\n",
       "      <td>3</td>\n",
       "      <td>Addiscombe</td>\n",
       "      <td>0.0</td>\n",
       "      <td>0.0</td>\n",
       "      <td>0.0</td>\n",
       "      <td>0.0</td>\n",
       "      <td>0.50</td>\n",
       "      <td>0.00</td>\n",
       "      <td>0.25</td>\n",
       "      <td>0.25</td>\n",
       "      <td>0.00</td>\n",
       "    </tr>\n",
       "    <tr>\n",
       "      <td>4</td>\n",
       "      <td>Albany Park</td>\n",
       "      <td>0.0</td>\n",
       "      <td>0.0</td>\n",
       "      <td>0.0</td>\n",
       "      <td>0.0</td>\n",
       "      <td>0.25</td>\n",
       "      <td>0.25</td>\n",
       "      <td>0.00</td>\n",
       "      <td>0.25</td>\n",
       "      <td>0.25</td>\n",
       "    </tr>\n",
       "  </tbody>\n",
       "</table>\n",
       "</div>"
      ],
      "text/plain": [
       "  Neighbourhood  arts_entertainment  building  education  event  food  \\\n",
       "0    Abbey Wood                 0.0       0.0        0.0    0.0  0.00   \n",
       "1         Acton                 0.0       0.0        0.0    0.0  0.20   \n",
       "2     Addington                 0.0       0.0        0.0    0.0  0.25   \n",
       "3    Addiscombe                 0.0       0.0        0.0    0.0  0.50   \n",
       "4   Albany Park                 0.0       0.0        0.0    0.0  0.25   \n",
       "\n",
       "   nightlife  parks_outdoors  shops  travel  \n",
       "0       0.00            0.50   0.50    0.00  \n",
       "1       0.00            0.10   0.30    0.40  \n",
       "2       0.00            0.00   0.25    0.50  \n",
       "3       0.00            0.25   0.25    0.00  \n",
       "4       0.25            0.00   0.25    0.25  "
      ]
     },
     "execution_count": 11,
     "metadata": {},
     "output_type": "execute_result"
    }
   ],
   "source": [
    "London_neig_grouped.head()"
   ]
  },
  {
   "cell_type": "code",
   "execution_count": 12,
   "metadata": {},
   "outputs": [],
   "source": [
    "bc051=pd.DataFrame(bc05['3'][0],columns=['Borough'])"
   ]
  },
  {
   "cell_type": "code",
   "execution_count": 13,
   "metadata": {},
   "outputs": [],
   "source": [
    "pp=neighbourhoods.loc[neighbourhoods['Borough'].isin(bc051['Borough'].values)]['Neighbourhood']"
   ]
  },
  {
   "cell_type": "code",
   "execution_count": 14,
   "metadata": {},
   "outputs": [],
   "source": [
    "London_neig_grouped_mean=London_neig_grouped.loc[London_neig_grouped['Neighbourhood'].isin(pp.values)]"
   ]
  },
  {
   "cell_type": "markdown",
   "metadata": {},
   "source": [
    "Let's print each neighbourhood with the 5 most common venues"
   ]
  },
  {
   "cell_type": "code",
   "execution_count": 15,
   "metadata": {},
   "outputs": [
    {
     "data": {
      "text/plain": [
       "(9, 10)"
      ]
     },
     "execution_count": 15,
     "metadata": {},
     "output_type": "execute_result"
    }
   ],
   "source": [
    "London_neig_grouped_mean.shape"
   ]
  },
  {
   "cell_type": "code",
   "execution_count": 16,
   "metadata": {},
   "outputs": [
    {
     "name": "stdout",
     "output_type": "stream",
     "text": [
      "----Barking----\n",
      "       venue  freq\n",
      "0       food  0.35\n",
      "1      shops  0.35\n",
      "2     travel  0.15\n",
      "3   building  0.05\n",
      "4  nightlife  0.05\n",
      "\n",
      "\n",
      "----Becontree----\n",
      "                venue  freq\n",
      "0               shops   1.0\n",
      "1  arts_entertainment   0.0\n",
      "2            building   0.0\n",
      "3           education   0.0\n",
      "4               event   0.0\n",
      "\n",
      "\n",
      "----Becontree Heath----\n",
      "            venue  freq\n",
      "0           shops  0.38\n",
      "1  parks_outdoors  0.25\n",
      "2        building  0.12\n",
      "3            food  0.12\n",
      "4          travel  0.12\n",
      "\n",
      "\n",
      "----Castle Green----\n",
      "                venue  freq\n",
      "0  arts_entertainment  0.50\n",
      "1           nightlife  0.25\n",
      "2      parks_outdoors  0.25\n",
      "3            building  0.00\n",
      "4           education  0.00\n",
      "\n",
      "\n",
      "----Chadwell Heath----\n",
      "                venue  freq\n",
      "0      parks_outdoors  0.50\n",
      "1           nightlife  0.25\n",
      "2               shops  0.25\n",
      "3  arts_entertainment  0.00\n",
      "4            building  0.00\n",
      "\n",
      "\n",
      "----Creekmouth----\n",
      "                venue  freq\n",
      "0               shops   1.0\n",
      "1  arts_entertainment   0.0\n",
      "2            building   0.0\n",
      "3           education   0.0\n",
      "4               event   0.0\n",
      "\n",
      "\n",
      "----Dagenham----\n",
      "                venue  freq\n",
      "0               shops  0.75\n",
      "1      parks_outdoors  0.25\n",
      "2  arts_entertainment  0.00\n",
      "3            building  0.00\n",
      "4           education  0.00\n",
      "\n",
      "\n",
      "----Marks Gate----\n",
      "                venue  freq\n",
      "0           nightlife   0.5\n",
      "1               shops   0.5\n",
      "2  arts_entertainment   0.0\n",
      "3            building   0.0\n",
      "4           education   0.0\n",
      "\n",
      "\n",
      "----Rush Green----\n",
      "                venue  freq\n",
      "0               shops   0.8\n",
      "1                food   0.2\n",
      "2  arts_entertainment   0.0\n",
      "3            building   0.0\n",
      "4           education   0.0\n",
      "\n",
      "\n"
     ]
    }
   ],
   "source": [
    "num_top_venues = 5\n",
    "top_venues(num_top_venues,London_neig_grouped_mean)"
   ]
  },
  {
   "cell_type": "markdown",
   "metadata": {},
   "source": [
    "Let's put that into a pandas dataframe. First, let's write a function to sort the venues in descending order."
   ]
  },
  {
   "cell_type": "markdown",
   "metadata": {},
   "source": [
    "Now let's create the new dataframe and display the top 5 venues for each neighborhood."
   ]
  },
  {
   "cell_type": "code",
   "execution_count": 17,
   "metadata": {},
   "outputs": [],
   "source": [
    "neighbourhoods_venues_sorted=venues_to_dataframe(num_top_venues,['Neighbourhood'],London_neig_grouped_mean,'Neighbourhood')"
   ]
  },
  {
   "cell_type": "code",
   "execution_count": 18,
   "metadata": {},
   "outputs": [
    {
     "data": {
      "text/html": [
       "<div>\n",
       "<style scoped>\n",
       "    .dataframe tbody tr th:only-of-type {\n",
       "        vertical-align: middle;\n",
       "    }\n",
       "\n",
       "    .dataframe tbody tr th {\n",
       "        vertical-align: top;\n",
       "    }\n",
       "\n",
       "    .dataframe thead th {\n",
       "        text-align: right;\n",
       "    }\n",
       "</style>\n",
       "<table border=\"1\" class=\"dataframe\">\n",
       "  <thead>\n",
       "    <tr style=\"text-align: right;\">\n",
       "      <th></th>\n",
       "      <th>Neighbourhood</th>\n",
       "      <th>1st Most Common Venue</th>\n",
       "      <th>2nd Most Common Venue</th>\n",
       "      <th>3rd Most Common Venue</th>\n",
       "      <th>4th Most Common Venue</th>\n",
       "      <th>5th Most Common Venue</th>\n",
       "    </tr>\n",
       "  </thead>\n",
       "  <tbody>\n",
       "    <tr>\n",
       "      <td>19</td>\n",
       "      <td>Barking</td>\n",
       "      <td>shops</td>\n",
       "      <td>food</td>\n",
       "      <td>travel</td>\n",
       "      <td>parks_outdoors</td>\n",
       "      <td>nightlife</td>\n",
       "    </tr>\n",
       "    <tr>\n",
       "      <td>30</td>\n",
       "      <td>Becontree</td>\n",
       "      <td>shops</td>\n",
       "      <td>travel</td>\n",
       "      <td>parks_outdoors</td>\n",
       "      <td>nightlife</td>\n",
       "      <td>food</td>\n",
       "    </tr>\n",
       "    <tr>\n",
       "      <td>31</td>\n",
       "      <td>Becontree Heath</td>\n",
       "      <td>shops</td>\n",
       "      <td>parks_outdoors</td>\n",
       "      <td>travel</td>\n",
       "      <td>food</td>\n",
       "      <td>building</td>\n",
       "    </tr>\n",
       "    <tr>\n",
       "      <td>80</td>\n",
       "      <td>Castle Green</td>\n",
       "      <td>arts_entertainment</td>\n",
       "      <td>parks_outdoors</td>\n",
       "      <td>nightlife</td>\n",
       "      <td>travel</td>\n",
       "      <td>shops</td>\n",
       "    </tr>\n",
       "    <tr>\n",
       "      <td>82</td>\n",
       "      <td>Chadwell Heath</td>\n",
       "      <td>parks_outdoors</td>\n",
       "      <td>shops</td>\n",
       "      <td>nightlife</td>\n",
       "      <td>travel</td>\n",
       "      <td>food</td>\n",
       "    </tr>\n",
       "  </tbody>\n",
       "</table>\n",
       "</div>"
      ],
      "text/plain": [
       "      Neighbourhood 1st Most Common Venue 2nd Most Common Venue  \\\n",
       "19          Barking                 shops                  food   \n",
       "30        Becontree                 shops                travel   \n",
       "31  Becontree Heath                 shops        parks_outdoors   \n",
       "80     Castle Green    arts_entertainment        parks_outdoors   \n",
       "82   Chadwell Heath        parks_outdoors                 shops   \n",
       "\n",
       "   3rd Most Common Venue 4th Most Common Venue 5th Most Common Venue  \n",
       "19                travel        parks_outdoors             nightlife  \n",
       "30        parks_outdoors             nightlife                  food  \n",
       "31                travel                  food              building  \n",
       "80             nightlife                travel                 shops  \n",
       "82             nightlife                travel                  food  "
      ]
     },
     "execution_count": 18,
     "metadata": {},
     "output_type": "execute_result"
    }
   ],
   "source": [
    "neighbourhoods_venues_sorted.head()"
   ]
  },
  {
   "cell_type": "markdown",
   "metadata": {},
   "source": [
    "Cluster Neighborhoods. Analize the existence of an optim clusters number kclusters\n",
    "\n"
   ]
  },
  {
   "cell_type": "code",
   "execution_count": 19,
   "metadata": {},
   "outputs": [],
   "source": [
    "London_neig_grouped_clustering = London_neig_grouped_mean.drop('Neighbourhood', 1)"
   ]
  },
  {
   "cell_type": "code",
   "execution_count": 20,
   "metadata": {},
   "outputs": [
    {
     "data": {
      "text/html": [
       "<div>\n",
       "<style scoped>\n",
       "    .dataframe tbody tr th:only-of-type {\n",
       "        vertical-align: middle;\n",
       "    }\n",
       "\n",
       "    .dataframe tbody tr th {\n",
       "        vertical-align: top;\n",
       "    }\n",
       "\n",
       "    .dataframe thead th {\n",
       "        text-align: right;\n",
       "    }\n",
       "</style>\n",
       "<table border=\"1\" class=\"dataframe\">\n",
       "  <thead>\n",
       "    <tr style=\"text-align: right;\">\n",
       "      <th></th>\n",
       "      <th>arts_entertainment</th>\n",
       "      <th>building</th>\n",
       "      <th>education</th>\n",
       "      <th>event</th>\n",
       "      <th>food</th>\n",
       "      <th>nightlife</th>\n",
       "      <th>parks_outdoors</th>\n",
       "      <th>shops</th>\n",
       "      <th>travel</th>\n",
       "    </tr>\n",
       "  </thead>\n",
       "  <tbody>\n",
       "    <tr>\n",
       "      <td>19</td>\n",
       "      <td>0.0</td>\n",
       "      <td>0.050</td>\n",
       "      <td>0.0</td>\n",
       "      <td>0.0</td>\n",
       "      <td>0.350</td>\n",
       "      <td>0.05</td>\n",
       "      <td>0.05</td>\n",
       "      <td>0.350</td>\n",
       "      <td>0.150</td>\n",
       "    </tr>\n",
       "    <tr>\n",
       "      <td>30</td>\n",
       "      <td>0.0</td>\n",
       "      <td>0.000</td>\n",
       "      <td>0.0</td>\n",
       "      <td>0.0</td>\n",
       "      <td>0.000</td>\n",
       "      <td>0.00</td>\n",
       "      <td>0.00</td>\n",
       "      <td>1.000</td>\n",
       "      <td>0.000</td>\n",
       "    </tr>\n",
       "    <tr>\n",
       "      <td>31</td>\n",
       "      <td>0.0</td>\n",
       "      <td>0.125</td>\n",
       "      <td>0.0</td>\n",
       "      <td>0.0</td>\n",
       "      <td>0.125</td>\n",
       "      <td>0.00</td>\n",
       "      <td>0.25</td>\n",
       "      <td>0.375</td>\n",
       "      <td>0.125</td>\n",
       "    </tr>\n",
       "    <tr>\n",
       "      <td>80</td>\n",
       "      <td>0.5</td>\n",
       "      <td>0.000</td>\n",
       "      <td>0.0</td>\n",
       "      <td>0.0</td>\n",
       "      <td>0.000</td>\n",
       "      <td>0.25</td>\n",
       "      <td>0.25</td>\n",
       "      <td>0.000</td>\n",
       "      <td>0.000</td>\n",
       "    </tr>\n",
       "    <tr>\n",
       "      <td>82</td>\n",
       "      <td>0.0</td>\n",
       "      <td>0.000</td>\n",
       "      <td>0.0</td>\n",
       "      <td>0.0</td>\n",
       "      <td>0.000</td>\n",
       "      <td>0.25</td>\n",
       "      <td>0.50</td>\n",
       "      <td>0.250</td>\n",
       "      <td>0.000</td>\n",
       "    </tr>\n",
       "    <tr>\n",
       "      <td>114</td>\n",
       "      <td>0.0</td>\n",
       "      <td>0.000</td>\n",
       "      <td>0.0</td>\n",
       "      <td>0.0</td>\n",
       "      <td>0.000</td>\n",
       "      <td>0.00</td>\n",
       "      <td>0.00</td>\n",
       "      <td>1.000</td>\n",
       "      <td>0.000</td>\n",
       "    </tr>\n",
       "    <tr>\n",
       "      <td>126</td>\n",
       "      <td>0.0</td>\n",
       "      <td>0.000</td>\n",
       "      <td>0.0</td>\n",
       "      <td>0.0</td>\n",
       "      <td>0.000</td>\n",
       "      <td>0.00</td>\n",
       "      <td>0.25</td>\n",
       "      <td>0.750</td>\n",
       "      <td>0.000</td>\n",
       "    </tr>\n",
       "    <tr>\n",
       "      <td>287</td>\n",
       "      <td>0.0</td>\n",
       "      <td>0.000</td>\n",
       "      <td>0.0</td>\n",
       "      <td>0.0</td>\n",
       "      <td>0.000</td>\n",
       "      <td>0.50</td>\n",
       "      <td>0.00</td>\n",
       "      <td>0.500</td>\n",
       "      <td>0.000</td>\n",
       "    </tr>\n",
       "    <tr>\n",
       "      <td>373</td>\n",
       "      <td>0.0</td>\n",
       "      <td>0.000</td>\n",
       "      <td>0.0</td>\n",
       "      <td>0.0</td>\n",
       "      <td>0.200</td>\n",
       "      <td>0.00</td>\n",
       "      <td>0.00</td>\n",
       "      <td>0.800</td>\n",
       "      <td>0.000</td>\n",
       "    </tr>\n",
       "  </tbody>\n",
       "</table>\n",
       "</div>"
      ],
      "text/plain": [
       "     arts_entertainment  building  education  event   food  nightlife  \\\n",
       "19                  0.0     0.050        0.0    0.0  0.350       0.05   \n",
       "30                  0.0     0.000        0.0    0.0  0.000       0.00   \n",
       "31                  0.0     0.125        0.0    0.0  0.125       0.00   \n",
       "80                  0.5     0.000        0.0    0.0  0.000       0.25   \n",
       "82                  0.0     0.000        0.0    0.0  0.000       0.25   \n",
       "114                 0.0     0.000        0.0    0.0  0.000       0.00   \n",
       "126                 0.0     0.000        0.0    0.0  0.000       0.00   \n",
       "287                 0.0     0.000        0.0    0.0  0.000       0.50   \n",
       "373                 0.0     0.000        0.0    0.0  0.200       0.00   \n",
       "\n",
       "     parks_outdoors  shops  travel  \n",
       "19             0.05  0.350   0.150  \n",
       "30             0.00  1.000   0.000  \n",
       "31             0.25  0.375   0.125  \n",
       "80             0.25  0.000   0.000  \n",
       "82             0.50  0.250   0.000  \n",
       "114            0.00  1.000   0.000  \n",
       "126            0.25  0.750   0.000  \n",
       "287            0.00  0.500   0.000  \n",
       "373            0.00  0.800   0.000  "
      ]
     },
     "execution_count": 20,
     "metadata": {},
     "output_type": "execute_result"
    }
   ],
   "source": [
    "London_neig_grouped_clustering"
   ]
  },
  {
   "cell_type": "markdown",
   "metadata": {},
   "source": [
    "SSD=norm2(samples,nearest_clusters_centre) \n",
    "Elbow curve to determine the optimal number of clusters"
   ]
  },
  {
   "cell_type": "code",
   "execution_count": 21,
   "metadata": {},
   "outputs": [],
   "source": [
    "SSD = []\n",
    "K = range(1,9)\n",
    "for k in K:\n",
    "    km = KMeans(n_clusters=k)\n",
    "    km = km.fit(London_neig_grouped_clustering)\n",
    "    SSD.append(km.inertia_)"
   ]
  },
  {
   "cell_type": "markdown",
   "metadata": {},
   "source": [
    "ELBOW CURVE FOR KMEANS"
   ]
  },
  {
   "cell_type": "code",
   "execution_count": 22,
   "metadata": {
    "scrolled": true
   },
   "outputs": [
    {
     "data": {
      "image/png": "[encoded data removed]",
      "text/plain": [
       "<Figure size 432x288 with 1 Axes>"
      ]
     },
     "metadata": {
      "needs_background": "light"
     },
     "output_type": "display_data"
    },
    {
     "data": {
      "text/plain": [
       "0.0"
      ]
     },
     "execution_count": 22,
     "metadata": {},
     "output_type": "execute_result"
    }
   ],
   "source": [
    "import matplotlib.pyplot as plt\n",
    "def elbow(norm):\n",
    "    plt.plot(K,norm, 'ro-')\n",
    "    plt.xlabel('k')\n",
    "    plt.ylabel('L2-norm')\n",
    "    plt.title('Elbow Method For Optimal k')\n",
    "    return plt.show()\n",
    "elbow_curve=elbow(SSD)\n",
    "elbow_curve\n",
    "np.min(np.array(SSD))"
   ]
  },
  {
   "cell_type": "code",
   "execution_count": 23,
   "metadata": {},
   "outputs": [],
   "source": [
    "elbow_N054=np.empty([8,2])\n",
    "elbow_N054=pd.DataFrame(elbow_N054,columns=['K','SSD'])\n",
    "elbow_N054['K']=K\n",
    "elbow_N054['SSD']=SSD\n",
    "elbow_N054.to_excel('/home/sedna/Downloads/PROJECT-COURSERA-CAPSTONE/RESULTS/elbow_N054.xlsx')"
   ]
  },
  {
   "cell_type": "markdown",
   "metadata": {},
   "source": [
    "Cluster Neighborhoods. Run k-means to cluster the neighborhood into 5 clusters."
   ]
  },
  {
   "cell_type": "code",
   "execution_count": 24,
   "metadata": {},
   "outputs": [],
   "source": [
    "# set number of clusters\n",
    "kclusters = 5"
   ]
  },
  {
   "cell_type": "code",
   "execution_count": 25,
   "metadata": {},
   "outputs": [
    {
     "data": {
      "text/plain": [
       "array([2, 0, 2, 3, 4, 0, 0, 1, 0], dtype=int32)"
      ]
     },
     "execution_count": 25,
     "metadata": {},
     "output_type": "execute_result"
    }
   ],
   "source": [
    "\n",
    "# run k-means clustering\n",
    "kmeans = KMeans(n_clusters=kclusters, random_state=0).fit(London_neig_grouped_clustering)\n",
    "\n",
    "# check cluster labels generated for each row in the dataframe\n",
    "kmeans_labels=kmeans.labels_\n",
    "kmeans_labels\n"
   ]
  },
  {
   "cell_type": "code",
   "execution_count": 26,
   "metadata": {},
   "outputs": [],
   "source": [
    "from sklearn import metrics\n",
    "from sklearn.metrics import pairwise_distances\n",
    "s_score=metrics.silhouette_score(London_neig_grouped_clustering,kmeans_labels, metric='euclidean')\n",
    "s_score=pd.Series(s_score,index=[kclusters])"
   ]
  },
  {
   "cell_type": "code",
   "execution_count": 27,
   "metadata": {},
   "outputs": [],
   "source": [
    "pp=pd.DataFrame(kmeans.labels_,columns=['Cluster Labels'])\n",
    "kclusters_N054=pp['Cluster Labels'].value_counts().sort_index()\n",
    "kclusters_N054=kclusters_N054.append(s_score)"
   ]
  },
  {
   "cell_type": "markdown",
   "metadata": {},
   "source": [
    "Identify each neighbourhood with its Cluster Labels"
   ]
  },
  {
   "cell_type": "code",
   "execution_count": 28,
   "metadata": {},
   "outputs": [
    {
     "data": {
      "text/html": [
       "<div>\n",
       "<style scoped>\n",
       "    .dataframe tbody tr th:only-of-type {\n",
       "        vertical-align: middle;\n",
       "    }\n",
       "\n",
       "    .dataframe tbody tr th {\n",
       "        vertical-align: top;\n",
       "    }\n",
       "\n",
       "    .dataframe thead th {\n",
       "        text-align: right;\n",
       "    }\n",
       "</style>\n",
       "<table border=\"1\" class=\"dataframe\">\n",
       "  <thead>\n",
       "    <tr style=\"text-align: right;\">\n",
       "      <th></th>\n",
       "      <th>Borough</th>\n",
       "      <th>Neighbourhood</th>\n",
       "      <th>Latitude</th>\n",
       "      <th>Longitude</th>\n",
       "      <th>Cluster Labels</th>\n",
       "      <th>1st Most Common Venue</th>\n",
       "      <th>2nd Most Common Venue</th>\n",
       "      <th>3rd Most Common Venue</th>\n",
       "      <th>4th Most Common Venue</th>\n",
       "      <th>5th Most Common Venue</th>\n",
       "    </tr>\n",
       "  </thead>\n",
       "  <tbody>\n",
       "    <tr>\n",
       "      <td>0</td>\n",
       "      <td>Barking and Dagenham</td>\n",
       "      <td>Rush Green</td>\n",
       "      <td>51.565500</td>\n",
       "      <td>0.176000</td>\n",
       "      <td>0</td>\n",
       "      <td>shops</td>\n",
       "      <td>food</td>\n",
       "      <td>travel</td>\n",
       "      <td>parks_outdoors</td>\n",
       "      <td>nightlife</td>\n",
       "    </tr>\n",
       "    <tr>\n",
       "      <td>3</td>\n",
       "      <td>Barking and Dagenham</td>\n",
       "      <td>Becontree</td>\n",
       "      <td>51.548700</td>\n",
       "      <td>0.142700</td>\n",
       "      <td>0</td>\n",
       "      <td>shops</td>\n",
       "      <td>travel</td>\n",
       "      <td>parks_outdoors</td>\n",
       "      <td>nightlife</td>\n",
       "      <td>food</td>\n",
       "    </tr>\n",
       "    <tr>\n",
       "      <td>7</td>\n",
       "      <td>Barking and Dagenham</td>\n",
       "      <td>Dagenham</td>\n",
       "      <td>51.539700</td>\n",
       "      <td>0.142200</td>\n",
       "      <td>0</td>\n",
       "      <td>shops</td>\n",
       "      <td>parks_outdoors</td>\n",
       "      <td>travel</td>\n",
       "      <td>nightlife</td>\n",
       "      <td>food</td>\n",
       "    </tr>\n",
       "    <tr>\n",
       "      <td>8</td>\n",
       "      <td>Barking and Dagenham</td>\n",
       "      <td>Creekmouth</td>\n",
       "      <td>51.516900</td>\n",
       "      <td>0.099100</td>\n",
       "      <td>0</td>\n",
       "      <td>shops</td>\n",
       "      <td>travel</td>\n",
       "      <td>parks_outdoors</td>\n",
       "      <td>nightlife</td>\n",
       "      <td>food</td>\n",
       "    </tr>\n",
       "    <tr>\n",
       "      <td>1</td>\n",
       "      <td>Barking and Dagenham</td>\n",
       "      <td>Marks Gate</td>\n",
       "      <td>51.586369</td>\n",
       "      <td>0.134848</td>\n",
       "      <td>1</td>\n",
       "      <td>shops</td>\n",
       "      <td>nightlife</td>\n",
       "      <td>travel</td>\n",
       "      <td>parks_outdoors</td>\n",
       "      <td>food</td>\n",
       "    </tr>\n",
       "  </tbody>\n",
       "</table>\n",
       "</div>"
      ],
      "text/plain": [
       "                Borough Neighbourhood   Latitude  Longitude  Cluster Labels  \\\n",
       "0  Barking and Dagenham    Rush Green  51.565500   0.176000               0   \n",
       "3  Barking and Dagenham     Becontree  51.548700   0.142700               0   \n",
       "7  Barking and Dagenham      Dagenham  51.539700   0.142200               0   \n",
       "8  Barking and Dagenham    Creekmouth  51.516900   0.099100               0   \n",
       "1  Barking and Dagenham    Marks Gate  51.586369   0.134848               1   \n",
       "\n",
       "  1st Most Common Venue 2nd Most Common Venue 3rd Most Common Venue  \\\n",
       "0                 shops                  food                travel   \n",
       "3                 shops                travel        parks_outdoors   \n",
       "7                 shops        parks_outdoors                travel   \n",
       "8                 shops                travel        parks_outdoors   \n",
       "1                 shops             nightlife                travel   \n",
       "\n",
       "  4th Most Common Venue 5th Most Common Venue  \n",
       "0        parks_outdoors             nightlife  \n",
       "3             nightlife                  food  \n",
       "7             nightlife                  food  \n",
       "8             nightlife                  food  \n",
       "1        parks_outdoors                  food  "
      ]
     },
     "execution_count": 28,
     "metadata": {},
     "output_type": "execute_result"
    }
   ],
   "source": [
    "# add clustering labels\n",
    "neighbourhoods_venues_sorted.insert(0, 'Cluster Labels', kmeans.labels_)\n",
    "\n",
    "London_neig_merged =pd.merge(neighbourhoods,neighbourhoods_venues_sorted, on='Neighbourhood').sort_values('Cluster Labels')\n",
    "\n",
    "London_neig_merged.head() # check the last columns!"
   ]
  },
  {
   "cell_type": "markdown",
   "metadata": {},
   "source": [
    "Finally, let's visualize the resulting clusters"
   ]
  },
  {
   "cell_type": "code",
   "execution_count": 29,
   "metadata": {},
   "outputs": [
    {
     "data": {
      "text/html": [
       "<div style=\"width:100%;\"><div style=\"position:relative;width:100%;height:0;padding-bottom:60%;\"><iframe src=\"data:text/html;charset=utf-8;base64,PCFET0NUWVBFIGh0bWw+CjxoZWFkPiAgICAKICAgIDxtZXRhIGh0dHAtZXF1aXY9ImNvbnRlbnQtdHlwZSIgY29udGVudD0idGV4dC9odG1sOyBjaGFyc2V0PVVURi04IiAvPgogICAgCiAgICAgICAgPHNjcmlwdD4KICAgICAgICAgICAgTF9OT19UT1VDSCA9IGZhbHNlOwogICAgICAgICAgICBMX0RJU0FCTEVfM0QgPSBmYWxzZTsKICAgICAgICA8L3NjcmlwdD4KICAgIAogICAgPHNjcmlwdCBzcmM9Imh0dHBzOi8vY2RuLmpzZGVsaXZyLm5ldC9ucG0vbGVhZmxldEAxLjUuMS9kaXN0L2xlYWZsZXQuanMiPjwvc2NyaXB0PgogICAgPHNjcmlwdCBzcmM9Imh0dHBzOi8vY29kZS5qcXVlcnkuY29tL2pxdWVyeS0xLjEyLjQubWluLmpzIj48L3NjcmlwdD4KICAgIDxzY3JpcHQgc3JjPSJodHRwczovL21heGNkbi5ib290c3RyYXBjZG4uY29tL2Jvb3RzdHJhcC8zLjIuMC9qcy9ib290c3RyYXAubWluLmpzIj48L3NjcmlwdD4KICAgIDxzY3JpcHQgc3JjPSJodHRwczovL2NkbmpzLmNsb3VkZmxhcmUuY29tL2FqYXgvbGlicy9MZWFmbGV0LmF3ZXNvbWUtbWFya2Vycy8yLjAuMi9sZWFmbGV0LmF3ZXNvbWUtbWFya2Vycy5qcyI+PC9zY3JpcHQ+CiAgICA8bGluayByZWw9InN0eWxlc2hlZXQiIGhyZWY9Imh0dHBzOi8vY2RuLmpzZGVsaXZyLm5ldC9ucG0vbGVhZmxldEAxLjUuMS9kaXN0L2xlYWZsZXQuY3NzIi8+CiAgICA8bGluayByZWw9InN0eWxlc2hlZXQiIGhyZWY9Imh0dHBzOi8vbWF4Y2RuLmJvb3RzdHJhcGNkbi5jb20vYm9vdHN0cmFwLzMuMi4wL2Nzcy9ib290c3RyYXAubWluLmNzcyIvPgogICAgPGxpbmsgcmVsPSJzdHlsZXNoZWV0IiBocmVmPSJodHRwczovL21heGNkbi5ib290c3RyYXBjZG4uY29tL2Jvb3RzdHJhcC8zLjIuMC9jc3MvYm9vdHN0cmFwLXRoZW1lLm1pbi5jc3MiLz4KICAgIDxsaW5rIHJlbD0ic3R5bGVzaGVldCIgaHJlZj0iaHR0cHM6Ly9tYXhjZG4uYm9vdHN0cmFwY2RuLmNvbS9mb250LWF3ZXNvbWUvNC42LjMvY3NzL2ZvbnQtYXdlc29tZS5taW4uY3NzIi8+CiAgICA8bGluayByZWw9InN0eWxlc2hlZXQiIGhyZWY9Imh0dHBzOi8vY2RuanMuY2xvdWRmbGFyZS5jb20vYWpheC9saWJzL0xlYWZsZXQuYXdlc29tZS1tYXJrZXJzLzIuMC4yL2xlYWZsZXQuYXdlc29tZS1tYXJrZXJzLmNzcyIvPgogICAgPGxpbmsgcmVsPSJzdHlsZXNoZWV0IiBocmVmPSJodHRwczovL3Jhd2Nkbi5naXRoYWNrLmNvbS9weXRob24tdmlzdWFsaXphdGlvbi9mb2xpdW0vbWFzdGVyL2ZvbGl1bS90ZW1wbGF0ZXMvbGVhZmxldC5hd2Vzb21lLnJvdGF0ZS5jc3MiLz4KICAgIDxzdHlsZT5odG1sLCBib2R5IHt3aWR0aDogMTAwJTtoZWlnaHQ6IDEwMCU7bWFyZ2luOiAwO3BhZGRpbmc6IDA7fTwvc3R5bGU+CiAgICA8c3R5bGU+I21hcCB7cG9zaXRpb246YWJzb2x1dGU7dG9wOjA7Ym90dG9tOjA7cmlnaHQ6MDtsZWZ0OjA7fTwvc3R5bGU+CiAgICAKICAgICAgICAgICAgPG1ldGEgbmFtZT0idmlld3BvcnQiIGNvbnRlbnQ9IndpZHRoPWRldmljZS13aWR0aCwKICAgICAgICAgICAgICAgIGluaXRpYWwtc2NhbGU9MS4wLCBtYXhpbXVtLXNjYWxlPTEuMCwgdXNlci1zY2FsYWJsZT1ubyIgLz4KICAgICAgICAgICAgPHN0eWxlPgogICAgICAgICAgICAgICAgI21hcF80ODFiNmIyNTkzYWE0NjZhOTVhZWYxOTE4MzIzZWI2MiB7CiAgICAgICAgICAgICAgICAgICAgcG9zaXRpb246IHJlbGF0aXZlOwogICAgICAgICAgICAgICAgICAgIHdpZHRoOiAxMDAuMCU7CiAgICAgICAgICAgICAgICAgICAgaGVpZ2h0OiAxMDAuMCU7CiAgICAgICAgICAgICAgICAgICAgbGVmdDogMC4wJTsKICAgICAgICAgICAgICAgICAgICB0b3A6IDAuMCU7CiAgICAgICAgICAgICAgICB9CiAgICAgICAgICAgIDwvc3R5bGU+CiAgICAgICAgCjwvaGVhZD4KPGJvZHk+ICAgIAogICAgCiAgICAgICAgICAgIDxkaXYgY2xhc3M9ImZvbGl1bS1tYXAiIGlkPSJtYXBfNDgxYjZiMjU5M2FhNDY2YTk1YWVmMTkxODMyM2ViNjIiID48L2Rpdj4KICAgICAgICAKPC9ib2R5Pgo8c2NyaXB0PiAgICAKICAgIAogICAgICAgICAgICB2YXIgbWFwXzQ4MWI2YjI1OTNhYTQ2NmE5NWFlZjE5MTgzMjNlYjYyID0gTC5tYXAoCiAgICAgICAgICAgICAgICAibWFwXzQ4MWI2YjI1OTNhYTQ2NmE5NWFlZjE5MTgzMjNlYjYyIiwKICAgICAgICAgICAgICAgIHsKICAgICAgICAgICAgICAgICAgICBjZW50ZXI6IFs1MS41MDczMjE5LCAtMC4xMjc2NDc0XSwKICAgICAgICAgICAgICAgICAgICBjcnM6IEwuQ1JTLkVQU0czODU3LAogICAgICAgICAgICAgICAgICAgIHpvb206IDExLAogICAgICAgICAgICAgICAgICAgIHpvb21Db250cm9sOiB0cnVlLAogICAgICAgICAgICAgICAgICAgIHByZWZlckNhbnZhczogZmFsc2UsCiAgICAgICAgICAgICAgICB9CiAgICAgICAgICAgICk7CgogICAgICAgICAgICAKCiAgICAgICAgCiAgICAKICAgICAgICAgICAgdmFyIHRpbGVfbGF5ZXJfNWUyYzhiNDg2ODRlNDllM2E4Mzg0YmJmN2FkN2UyNDYgPSBMLnRpbGVMYXllcigKICAgICAgICAgICAgICAgICJodHRwczovL3tzfS50aWxlLm9wZW5zdHJlZXRtYXAub3JnL3t6fS97eH0ve3l9LnBuZyIsCiAgICAgICAgICAgICAgICB7ImF0dHJpYnV0aW9uIjogIkRhdGEgYnkgXHUwMDI2Y29weTsgXHUwMDNjYSBocmVmPVwiaHR0cDovL29wZW5zdHJlZXRtYXAub3JnXCJcdTAwM2VPcGVuU3RyZWV0TWFwXHUwMDNjL2FcdTAwM2UsIHVuZGVyIFx1MDAzY2EgaHJlZj1cImh0dHA6Ly93d3cub3BlbnN0cmVldG1hcC5vcmcvY29weXJpZ2h0XCJcdTAwM2VPRGJMXHUwMDNjL2FcdTAwM2UuIiwgImRldGVjdFJldGluYSI6IGZhbHNlLCAibWF4TmF0aXZlWm9vbSI6IDE4LCAibWF4Wm9vbSI6IDE4LCAibWluWm9vbSI6IDAsICJub1dyYXAiOiBmYWxzZSwgIm9wYWNpdHkiOiAxLCAic3ViZG9tYWlucyI6ICJhYmMiLCAidG1zIjogZmFsc2V9CiAgICAgICAgICAgICkuYWRkVG8obWFwXzQ4MWI2YjI1OTNhYTQ2NmE5NWFlZjE5MTgzMjNlYjYyKTsKICAgICAgICAKICAgIAogICAgICAgICAgICB2YXIgY2lyY2xlX21hcmtlcl83MjQzOWI1Yzc4Mzg0ZDUwOTJlM2M0NDdmYmJiODc1ZSA9IEwuY2lyY2xlTWFya2VyKAogICAgICAgICAgICAgICAgWzUxLjU2NTUsIDAuMTc2MDAwMDAwMDAwMDAwMDJdLAogICAgICAgICAgICAgICAgeyJidWJibGluZ01vdXNlRXZlbnRzIjogdHJ1ZSwgImNvbG9yIjogIiNmNGFmZWQiLCAiZGFzaEFycmF5IjogbnVsbCwgImRhc2hPZmZzZXQiOiBudWxsLCAiZmlsbCI6IHRydWUsICJmaWxsQ29sb3IiOiAiI2Y0YWZlZCIsICJmaWxsT3BhY2l0eSI6IDAuMiwgImZpbGxSdWxlIjogImV2ZW5vZGQiLCAibGluZUNhcCI6ICJyb3VuZCIsICJsaW5lSm9pbiI6ICJyb3VuZCIsICJvcGFjaXR5IjogMS4wLCAicmFkaXVzIjogNSwgInN0cm9rZSI6IHRydWUsICJ3ZWlnaHQiOiAzfQogICAgICAgICAgICApLmFkZFRvKG1hcF80ODFiNmIyNTkzYWE0NjZhOTVhZWYxOTE4MzIzZWI2Mik7CiAgICAgICAgCiAgICAKICAgICAgICB2YXIgcG9wdXBfY2E0NWFiMzE5ODVmNDE4NmFmZDBlOWNkZDcwMDliMDYgPSBMLnBvcHVwKHsibWF4V2lkdGgiOiAiMTAwJSJ9KTsKCiAgICAgICAgCiAgICAgICAgICAgIHZhciBodG1sX2Y3NDFhYTg1OWM2NDRjYWI4ZDE5YWIzM2QyN2Y2N2MwID0gJChgPGRpdiBpZD0iaHRtbF9mNzQxYWE4NTljNjQ0Y2FiOGQxOWFiMzNkMjdmNjdjMCIgc3R5bGU9IndpZHRoOiAxMDAuMCU7IGhlaWdodDogMTAwLjAlOyI+UnVzaCBHcmVlbiBDbHVzdGVyIDA8L2Rpdj5gKVswXTsKICAgICAgICAgICAgcG9wdXBfY2E0NWFiMzE5ODVmNDE4NmFmZDBlOWNkZDcwMDliMDYuc2V0Q29udGVudChodG1sX2Y3NDFhYTg1OWM2NDRjYWI4ZDE5YWIzM2QyN2Y2N2MwKTsKICAgICAgICAKCiAgICAgICAgY2lyY2xlX21hcmtlcl83MjQzOWI1Yzc4Mzg0ZDUwOTJlM2M0NDdmYmJiODc1ZS5iaW5kUG9wdXAocG9wdXBfY2E0NWFiMzE5ODVmNDE4NmFmZDBlOWNkZDcwMDliMDYpCiAgICAgICAgOwoKICAgICAgICAKICAgIAogICAgCiAgICAgICAgICAgIHZhciBjaXJjbGVfbWFya2VyXzNkM2U3YWNhNDdhMTRiMzM4ZTA0MzQ4YjliM2NkYjE5ID0gTC5jaXJjbGVNYXJrZXIoCiAgICAgICAgICAgICAgICBbNTEuNTQ4NywgMC4xNDI3XSwKICAgICAgICAgICAgICAgIHsiYnViYmxpbmdNb3VzZUV2ZW50cyI6IHRydWUsICJjb2xvciI6ICIjZjRhZmVkIiwgImRhc2hBcnJheSI6IG51bGwsICJkYXNoT2Zmc2V0IjogbnVsbCwgImZpbGwiOiB0cnVlLCAiZmlsbENvbG9yIjogIiNmNGFmZWQiLCAiZmlsbE9wYWNpdHkiOiAwLjIsICJmaWxsUnVsZSI6ICJldmVub2RkIiwgImxpbmVDYXAiOiAicm91bmQiLCAibGluZUpvaW4iOiAicm91bmQiLCAib3BhY2l0eSI6IDEuMCwgInJhZGl1cyI6IDUsICJzdHJva2UiOiB0cnVlLCAid2VpZ2h0IjogM30KICAgICAgICAgICAgKS5hZGRUbyhtYXBfNDgxYjZiMjU5M2FhNDY2YTk1YWVmMTkxODMyM2ViNjIpOwogICAgICAgIAogICAgCiAgICAgICAgdmFyIHBvcHVwXzlmYzM2ZWExNTY5NDRiOGI5YTEwNDFkMGY4ODBkODE3ID0gTC5wb3B1cCh7Im1heFdpZHRoIjogIjEwMCUifSk7CgogICAgICAgIAogICAgICAgICAgICB2YXIgaHRtbF9lYmVmMzI4YjZlYmI0OTkxOTg2Y2Y3NjAyYTUxMDFlYiA9ICQoYDxkaXYgaWQ9Imh0bWxfZWJlZjMyOGI2ZWJiNDk5MTk4NmNmNzYwMmE1MTAxZWIiIHN0eWxlPSJ3aWR0aDogMTAwLjAlOyBoZWlnaHQ6IDEwMC4wJTsiPkJlY29udHJlZSBDbHVzdGVyIDA8L2Rpdj5gKVswXTsKICAgICAgICAgICAgcG9wdXBfOWZjMzZlYTE1Njk0NGI4YjlhMTA0MWQwZjg4MGQ4MTcuc2V0Q29udGVudChodG1sX2ViZWYzMjhiNmViYjQ5OTE5ODZjZjc2MDJhNTEwMWViKTsKICAgICAgICAKCiAgICAgICAgY2lyY2xlX21hcmtlcl8zZDNlN2FjYTQ3YTE0YjMzOGUwNDM0OGI5YjNjZGIxOS5iaW5kUG9wdXAocG9wdXBfOWZjMzZlYTE1Njk0NGI4YjlhMTA0MWQwZjg4MGQ4MTcpCiAgICAgICAgOwoKICAgICAgICAKICAgIAogICAgCiAgICAgICAgICAgIHZhciBjaXJjbGVfbWFya2VyXzc3MDI4NmIzNmJmYjQ4MWY5MTk2OGRjZTYxMjllN2IxID0gTC5jaXJjbGVNYXJrZXIoCiAgICAgICAgICAgICAgICBbNTEuNTM5NywgMC4xNDIyXSwKICAgICAgICAgICAgICAgIHsiYnViYmxpbmdNb3VzZUV2ZW50cyI6IHRydWUsICJjb2xvciI6ICIjZjRhZmVkIiwgImRhc2hBcnJheSI6IG51bGwsICJkYXNoT2Zmc2V0IjogbnVsbCwgImZpbGwiOiB0cnVlLCAiZmlsbENvbG9yIjogIiNmNGFmZWQiLCAiZmlsbE9wYWNpdHkiOiAwLjIsICJmaWxsUnVsZSI6ICJldmVub2RkIiwgImxpbmVDYXAiOiAicm91bmQiLCAibGluZUpvaW4iOiAicm91bmQiLCAib3BhY2l0eSI6IDEuMCwgInJhZGl1cyI6IDUsICJzdHJva2UiOiB0cnVlLCAid2VpZ2h0IjogM30KICAgICAgICAgICAgKS5hZGRUbyhtYXBfNDgxYjZiMjU5M2FhNDY2YTk1YWVmMTkxODMyM2ViNjIpOwogICAgICAgIAogICAgCiAgICAgICAgdmFyIHBvcHVwXzkxY2QxMzNhZGViOTQ1MjE4ZWU5NTliYzlhZTY5OTQzID0gTC5wb3B1cCh7Im1heFdpZHRoIjogIjEwMCUifSk7CgogICAgICAgIAogICAgICAgICAgICB2YXIgaHRtbF9jN2E1ZWFkNzAzZmY0ZTcwOThlNjQ0NjRlOTY0NmRlZSA9ICQoYDxkaXYgaWQ9Imh0bWxfYzdhNWVhZDcwM2ZmNGU3MDk4ZTY0NDY0ZTk2NDZkZWUiIHN0eWxlPSJ3aWR0aDogMTAwLjAlOyBoZWlnaHQ6IDEwMC4wJTsiPkRhZ2VuaGFtIENsdXN0ZXIgMDwvZGl2PmApWzBdOwogICAgICAgICAgICBwb3B1cF85MWNkMTMzYWRlYjk0NTIxOGVlOTU5YmM5YWU2OTk0My5zZXRDb250ZW50KGh0bWxfYzdhNWVhZDcwM2ZmNGU3MDk4ZTY0NDY0ZTk2NDZkZWUpOwogICAgICAgIAoKICAgICAgICBjaXJjbGVfbWFya2VyXzc3MDI4NmIzNmJmYjQ4MWY5MTk2OGRjZTYxMjllN2IxLmJpbmRQb3B1cChwb3B1cF85MWNkMTMzYWRlYjk0NTIxOGVlOTU5YmM5YWU2OTk0MykKICAgICAgICA7CgogICAgICAgIAogICAgCiAgICAKICAgICAgICAgICAgdmFyIGNpcmNsZV9tYXJrZXJfMDMyYzI0MDYwYWYzNDM2ZTg4YjkxYzU4YTgzMDAxOTcgPSBMLmNpcmNsZU1hcmtlcigKICAgICAgICAgICAgICAgIFs1MS41MTY5LCAwLjA5OTFdLAogICAgICAgICAgICAgICAgeyJidWJibGluZ01vdXNlRXZlbnRzIjogdHJ1ZSwgImNvbG9yIjogIiNmNGFmZWQiLCAiZGFzaEFycmF5IjogbnVsbCwgImRhc2hPZmZzZXQiOiBudWxsLCAiZmlsbCI6IHRydWUsICJmaWxsQ29sb3IiOiAiI2Y0YWZlZCIsICJmaWxsT3BhY2l0eSI6IDAuMiwgImZpbGxSdWxlIjogImV2ZW5vZGQiLCAibGluZUNhcCI6ICJyb3VuZCIsICJsaW5lSm9pbiI6ICJyb3VuZCIsICJvcGFjaXR5IjogMS4wLCAicmFkaXVzIjogNSwgInN0cm9rZSI6IHRydWUsICJ3ZWlnaHQiOiAzfQogICAgICAgICAgICApLmFkZFRvKG1hcF80ODFiNmIyNTkzYWE0NjZhOTVhZWYxOTE4MzIzZWI2Mik7CiAgICAgICAgCiAgICAKICAgICAgICB2YXIgcG9wdXBfYzNhYzkzNGUwOWRiNDFmMjg1ODc2Yjg0MWUyY2I4YzcgPSBMLnBvcHVwKHsibWF4V2lkdGgiOiAiMTAwJSJ9KTsKCiAgICAgICAgCiAgICAgICAgICAgIHZhciBodG1sX2U3Njg3NzI5NTE0MjQwYWY4MjExZDgwN2NkMmQzMmFjID0gJChgPGRpdiBpZD0iaHRtbF9lNzY4NzcyOTUxNDI0MGFmODIxMWQ4MDdjZDJkMzJhYyIgc3R5bGU9IndpZHRoOiAxMDAuMCU7IGhlaWdodDogMTAwLjAlOyI+Q3JlZWttb3V0aCBDbHVzdGVyIDA8L2Rpdj5gKVswXTsKICAgICAgICAgICAgcG9wdXBfYzNhYzkzNGUwOWRiNDFmMjg1ODc2Yjg0MWUyY2I4Yzcuc2V0Q29udGVudChodG1sX2U3Njg3NzI5NTE0MjQwYWY4MjExZDgwN2NkMmQzMmFjKTsKICAgICAgICAKCiAgICAgICAgY2lyY2xlX21hcmtlcl8wMzJjMjQwNjBhZjM0MzZlODhiOTFjNThhODMwMDE5Ny5iaW5kUG9wdXAocG9wdXBfYzNhYzkzNGUwOWRiNDFmMjg1ODc2Yjg0MWUyY2I4YzcpCiAgICAgICAgOwoKICAgICAgICAKICAgIAogICAgCiAgICAgICAgICAgIHZhciBjaXJjbGVfbWFya2VyXzY4MTZjMTVjYmJmYjQ0YjVhMzdlMWU5MDkyNzliMmU5ID0gTC5jaXJjbGVNYXJrZXIoCiAgICAgICAgICAgICAgICBbNTEuNTg2MzY5MjAwMDAwMDEsIDAuMTM0ODQ4MjAwMDAwMDAwMDNdLAogICAgICAgICAgICAgICAgeyJidWJibGluZ01vdXNlRXZlbnRzIjogdHJ1ZSwgImNvbG9yIjogIiM1Nzg4MDQiLCAiZGFzaEFycmF5IjogbnVsbCwgImRhc2hPZmZzZXQiOiBudWxsLCAiZmlsbCI6IHRydWUsICJmaWxsQ29sb3IiOiAiIzU3ODgwNCIsICJmaWxsT3BhY2l0eSI6IDAuMiwgImZpbGxSdWxlIjogImV2ZW5vZGQiLCAibGluZUNhcCI6ICJyb3VuZCIsICJsaW5lSm9pbiI6ICJyb3VuZCIsICJvcGFjaXR5IjogMS4wLCAicmFkaXVzIjogNSwgInN0cm9rZSI6IHRydWUsICJ3ZWlnaHQiOiAzfQogICAgICAgICAgICApLmFkZFRvKG1hcF80ODFiNmIyNTkzYWE0NjZhOTVhZWYxOTE4MzIzZWI2Mik7CiAgICAgICAgCiAgICAKICAgICAgICB2YXIgcG9wdXBfNTM1MGFiOGFlNjhjNGU2NWEzYmI3N2NkOTkxZDliNTMgPSBMLnBvcHVwKHsibWF4V2lkdGgiOiAiMTAwJSJ9KTsKCiAgICAgICAgCiAgICAgICAgICAgIHZhciBodG1sXzJmZTYzZmU2NjQ5NjQ1ZmI5OGNmMTA3ZWY1NzlmYWM5ID0gJChgPGRpdiBpZD0iaHRtbF8yZmU2M2ZlNjY0OTY0NWZiOThjZjEwN2VmNTc5ZmFjOSIgc3R5bGU9IndpZHRoOiAxMDAuMCU7IGhlaWdodDogMTAwLjAlOyI+TWFya3MgR2F0ZSBDbHVzdGVyIDE8L2Rpdj5gKVswXTsKICAgICAgICAgICAgcG9wdXBfNTM1MGFiOGFlNjhjNGU2NWEzYmI3N2NkOTkxZDliNTMuc2V0Q29udGVudChodG1sXzJmZTYzZmU2NjQ5NjQ1ZmI5OGNmMTA3ZWY1NzlmYWM5KTsKICAgICAgICAKCiAgICAgICAgY2lyY2xlX21hcmtlcl82ODE2YzE1Y2JiZmI0NGI1YTM3ZTFlOTA5Mjc5YjJlOS5iaW5kUG9wdXAocG9wdXBfNTM1MGFiOGFlNjhjNGU2NWEzYmI3N2NkOTkxZDliNTMpCiAgICAgICAgOwoKICAgICAgICAKICAgIAogICAgCiAgICAgICAgICAgIHZhciBjaXJjbGVfbWFya2VyXzkzMzQxZTRmNGU1YTQzMWE5ODVjNWQxZjA5NzI3MTQ4ID0gTC5jaXJjbGVNYXJrZXIoCiAgICAgICAgICAgICAgICBbNTEuNTYzNTk1LCAwLjE1MjYxNF0sCiAgICAgICAgICAgICAgICB7ImJ1YmJsaW5nTW91c2VFdmVudHMiOiB0cnVlLCAiY29sb3IiOiAiIzFkODEzZiIsICJkYXNoQXJyYXkiOiBudWxsLCAiZGFzaE9mZnNldCI6IG51bGwsICJmaWxsIjogdHJ1ZSwgImZpbGxDb2xvciI6ICIjMWQ4MTNmIiwgImZpbGxPcGFjaXR5IjogMC4yLCAiZmlsbFJ1bGUiOiAiZXZlbm9kZCIsICJsaW5lQ2FwIjogInJvdW5kIiwgImxpbmVKb2luIjogInJvdW5kIiwgIm9wYWNpdHkiOiAxLjAsICJyYWRpdXMiOiA1LCAic3Ryb2tlIjogdHJ1ZSwgIndlaWdodCI6IDN9CiAgICAgICAgICAgICkuYWRkVG8obWFwXzQ4MWI2YjI1OTNhYTQ2NmE5NWFlZjE5MTgzMjNlYjYyKTsKICAgICAgICAKICAgIAogICAgICAgIHZhciBwb3B1cF82NWNjOTJlN2UzYTU0Mzg3ODFkMTIzYmMxZDlhZmQwOSA9IEwucG9wdXAoeyJtYXhXaWR0aCI6ICIxMDAlIn0pOwoKICAgICAgICAKICAgICAgICAgICAgdmFyIGh0bWxfMjIzZjUyNzM0ZGE1NDVhZGI5OWVkYmNlODhiOWQxNGYgPSAkKGA8ZGl2IGlkPSJodG1sXzIyM2Y1MjczNGRhNTQ1YWRiOTllZGJjZTg4YjlkMTRmIiBzdHlsZT0id2lkdGg6IDEwMC4wJTsgaGVpZ2h0OiAxMDAuMCU7Ij5CZWNvbnRyZWUgSGVhdGggQ2x1c3RlciAyPC9kaXY+YClbMF07CiAgICAgICAgICAgIHBvcHVwXzY1Y2M5MmU3ZTNhNTQzODc4MWQxMjNiYzFkOWFmZDA5LnNldENvbnRlbnQoaHRtbF8yMjNmNTI3MzRkYTU0NWFkYjk5ZWRiY2U4OGI5ZDE0Zik7CiAgICAgICAgCgogICAgICAgIGNpcmNsZV9tYXJrZXJfOTMzNDFlNGY0ZTVhNDMxYTk4NWM1ZDFmMDk3MjcxNDguYmluZFBvcHVwKHBvcHVwXzY1Y2M5MmU3ZTNhNTQzODc4MWQxMjNiYzFkOWFmZDA5KQogICAgICAgIDsKCiAgICAgICAgCiAgICAKICAgIAogICAgICAgICAgICB2YXIgY2lyY2xlX21hcmtlcl85Y2M3NDVkMDFjN2I0MjZjODM5YWYwNzdiOTQ0MGNiNCA9IEwuY2lyY2xlTWFya2VyKAogICAgICAgICAgICAgICAgWzUxLjU0LCAwLjA4XSwKICAgICAgICAgICAgICAgIHsiYnViYmxpbmdNb3VzZUV2ZW50cyI6IHRydWUsICJjb2xvciI6ICIjMWQ4MTNmIiwgImRhc2hBcnJheSI6IG51bGwsICJkYXNoT2Zmc2V0IjogbnVsbCwgImZpbGwiOiB0cnVlLCAiZmlsbENvbG9yIjogIiMxZDgxM2YiLCAiZmlsbE9wYWNpdHkiOiAwLjIsICJmaWxsUnVsZSI6ICJldmVub2RkIiwgImxpbmVDYXAiOiAicm91bmQiLCAibGluZUpvaW4iOiAicm91bmQiLCAib3BhY2l0eSI6IDEuMCwgInJhZGl1cyI6IDUsICJzdHJva2UiOiB0cnVlLCAid2VpZ2h0IjogM30KICAgICAgICAgICAgKS5hZGRUbyhtYXBfNDgxYjZiMjU5M2FhNDY2YTk1YWVmMTkxODMyM2ViNjIpOwogICAgICAgIAogICAgCiAgICAgICAgdmFyIHBvcHVwXzYwZmJlMGY0NWY3YjRkZWRhYmU1ZDA2MjU1ZTY0MWRjID0gTC5wb3B1cCh7Im1heFdpZHRoIjogIjEwMCUifSk7CgogICAgICAgIAogICAgICAgICAgICB2YXIgaHRtbF9iYmIzNDM5ZWFkZGE0Yjg0OGZhZjQwZjYwYWJlMzAwMSA9ICQoYDxkaXYgaWQ9Imh0bWxfYmJiMzQzOWVhZGRhNGI4NDhmYWY0MGY2MGFiZTMwMDEiIHN0eWxlPSJ3aWR0aDogMTAwLjAlOyBoZWlnaHQ6IDEwMC4wJTsiPkJhcmtpbmcgQ2x1c3RlciAyPC9kaXY+YClbMF07CiAgICAgICAgICAgIHBvcHVwXzYwZmJlMGY0NWY3YjRkZWRhYmU1ZDA2MjU1ZTY0MWRjLnNldENvbnRlbnQoaHRtbF9iYmIzNDM5ZWFkZGE0Yjg0OGZhZjQwZjYwYWJlMzAwMSk7CiAgICAgICAgCgogICAgICAgIGNpcmNsZV9tYXJrZXJfOWNjNzQ1ZDAxYzdiNDI2YzgzOWFmMDc3Yjk0NDBjYjQuYmluZFBvcHVwKHBvcHVwXzYwZmJlMGY0NWY3YjRkZWRhYmU1ZDA2MjU1ZTY0MWRjKQogICAgICAgIDsKCiAgICAgICAgCiAgICAKICAgIAogICAgICAgICAgICB2YXIgY2lyY2xlX21hcmtlcl8xMGRjMzhlYTcxMmI0ZGJkYTI0YTU1Mjc2ZDU3NTZjYiA9IEwuY2lyY2xlTWFya2VyKAogICAgICAgICAgICAgICAgWzUxLjUzMzMyODAwMDAwMDAwNCwgMC4xMjIzOTVdLAogICAgICAgICAgICAgICAgeyJidWJibGluZ01vdXNlRXZlbnRzIjogdHJ1ZSwgImNvbG9yIjogIiM4ZTgyZDAiLCAiZGFzaEFycmF5IjogbnVsbCwgImRhc2hPZmZzZXQiOiBudWxsLCAiZmlsbCI6IHRydWUsICJmaWxsQ29sb3IiOiAiIzhlODJkMCIsICJmaWxsT3BhY2l0eSI6IDAuMiwgImZpbGxSdWxlIjogImV2ZW5vZGQiLCAibGluZUNhcCI6ICJyb3VuZCIsICJsaW5lSm9pbiI6ICJyb3VuZCIsICJvcGFjaXR5IjogMS4wLCAicmFkaXVzIjogNSwgInN0cm9rZSI6IHRydWUsICJ3ZWlnaHQiOiAzfQogICAgICAgICAgICApLmFkZFRvKG1hcF80ODFiNmIyNTkzYWE0NjZhOTVhZWYxOTE4MzIzZWI2Mik7CiAgICAgICAgCiAgICAKICAgICAgICB2YXIgcG9wdXBfYWZlY2M4Mjk0Mjk3NDIwNThjYWI2ODA4NDlhNGUxZjUgPSBMLnBvcHVwKHsibWF4V2lkdGgiOiAiMTAwJSJ9KTsKCiAgICAgICAgCiAgICAgICAgICAgIHZhciBodG1sX2IzNDRhYzEyNzQ1NzRhYmVhNzIyMzkxZmNiY2IwOGQwID0gJChgPGRpdiBpZD0iaHRtbF9iMzQ0YWMxMjc0NTc0YWJlYTcyMjM5MWZjYmNiMDhkMCIgc3R5bGU9IndpZHRoOiAxMDAuMCU7IGhlaWdodDogMTAwLjAlOyI+Q2FzdGxlIEdyZWVuIENsdXN0ZXIgMzwvZGl2PmApWzBdOwogICAgICAgICAgICBwb3B1cF9hZmVjYzgyOTQyOTc0MjA1OGNhYjY4MDg0OWE0ZTFmNS5zZXRDb250ZW50KGh0bWxfYjM0NGFjMTI3NDU3NGFiZWE3MjIzOTFmY2JjYjA4ZDApOwogICAgICAgIAoKICAgICAgICBjaXJjbGVfbWFya2VyXzEwZGMzOGVhNzEyYjRkYmRhMjRhNTUyNzZkNTc1NmNiLmJpbmRQb3B1cChwb3B1cF9hZmVjYzgyOTQyOTc0MjA1OGNhYjY4MDg0OWE0ZTFmNSkKICAgICAgICA7CgogICAgICAgIAogICAgCiAgICAKICAgICAgICAgICAgdmFyIGNpcmNsZV9tYXJrZXJfOTdmMjc1MWZjMmVkNGFlYWI3ZDg5OTJhNDg2YTQ0NGEgPSBMLmNpcmNsZU1hcmtlcigKICAgICAgICAgICAgICAgIFs1MS41NzU3LCAwLjE0NDAwMDAwMDAwMDAwMDAyXSwKICAgICAgICAgICAgICAgIHsiYnViYmxpbmdNb3VzZUV2ZW50cyI6IHRydWUsICJjb2xvciI6ICIjZGQyY2I4IiwgImRhc2hBcnJheSI6IG51bGwsICJkYXNoT2Zmc2V0IjogbnVsbCwgImZpbGwiOiB0cnVlLCAiZmlsbENvbG9yIjogIiNkZDJjYjgiLCAiZmlsbE9wYWNpdHkiOiAwLjIsICJmaWxsUnVsZSI6ICJldmVub2RkIiwgImxpbmVDYXAiOiAicm91bmQiLCAibGluZUpvaW4iOiAicm91bmQiLCAib3BhY2l0eSI6IDEuMCwgInJhZGl1cyI6IDUsICJzdHJva2UiOiB0cnVlLCAid2VpZ2h0IjogM30KICAgICAgICAgICAgKS5hZGRUbyhtYXBfNDgxYjZiMjU5M2FhNDY2YTk1YWVmMTkxODMyM2ViNjIpOwogICAgICAgIAogICAgCiAgICAgICAgdmFyIHBvcHVwXzMzY2U1Y2E3YTY0YjRiMWZiZjlkNDNlNjZlN2FhZGE0ID0gTC5wb3B1cCh7Im1heFdpZHRoIjogIjEwMCUifSk7CgogICAgICAgIAogICAgICAgICAgICB2YXIgaHRtbF8yMDQzNjdmMWY1N2M0MTQzYmVjNTYzNGI3Yzg0ZTUwZCA9ICQoYDxkaXYgaWQ9Imh0bWxfMjA0MzY3ZjFmNTdjNDE0M2JlYzU2MzRiN2M4NGU1MGQiIHN0eWxlPSJ3aWR0aDogMTAwLjAlOyBoZWlnaHQ6IDEwMC4wJTsiPkNoYWR3ZWxsIEhlYXRoIENsdXN0ZXIgNDwvZGl2PmApWzBdOwogICAgICAgICAgICBwb3B1cF8zM2NlNWNhN2E2NGI0YjFmYmY5ZDQzZTY2ZTdhYWRhNC5zZXRDb250ZW50KGh0bWxfMjA0MzY3ZjFmNTdjNDE0M2JlYzU2MzRiN2M4NGU1MGQpOwogICAgICAgIAoKICAgICAgICBjaXJjbGVfbWFya2VyXzk3ZjI3NTFmYzJlZDRhZWFiN2Q4OTkyYTQ4NmE0NDRhLmJpbmRQb3B1cChwb3B1cF8zM2NlNWNhN2E2NGI0YjFmYmY5ZDQzZTY2ZTdhYWRhNCkKICAgICAgICA7CgogICAgICAgIAogICAgCiAgICAKICAgICAgICAgICAgdmFyIGNpcmNsZV9tYXJrZXJfMTA0NDMxMmI5NjE0NDJhY2EzNTdiMjdlYzFjZGExMDQgPSBMLmNpcmNsZU1hcmtlcigKICAgICAgICAgICAgICAgIFs1MS41NzU3LCAwLjE0NDAwMDAwMDAwMDAwMDAyXSwKICAgICAgICAgICAgICAgIHsiYnViYmxpbmdNb3VzZUV2ZW50cyI6IHRydWUsICJjb2xvciI6ICIjZGQyY2I4IiwgImRhc2hBcnJheSI6IG51bGwsICJkYXNoT2Zmc2V0IjogbnVsbCwgImZpbGwiOiB0cnVlLCAiZmlsbENvbG9yIjogIiNkZDJjYjgiLCAiZmlsbE9wYWNpdHkiOiAwLjIsICJmaWxsUnVsZSI6ICJldmVub2RkIiwgImxpbmVDYXAiOiAicm91bmQiLCAibGluZUpvaW4iOiAicm91bmQiLCAib3BhY2l0eSI6IDEuMCwgInJhZGl1cyI6IDUsICJzdHJva2UiOiB0cnVlLCAid2VpZ2h0IjogM30KICAgICAgICAgICAgKS5hZGRUbyhtYXBfNDgxYjZiMjU5M2FhNDY2YTk1YWVmMTkxODMyM2ViNjIpOwogICAgICAgIAogICAgCiAgICAgICAgdmFyIHBvcHVwXzkzZTVhYWYyMGYzMTRlN2NiOWQ1NTY4Y2Y4MjRmNjAzID0gTC5wb3B1cCh7Im1heFdpZHRoIjogIjEwMCUifSk7CgogICAgICAgIAogICAgICAgICAgICB2YXIgaHRtbF9iMTEwMmMxNTY1MTY0Y2Q3YjYzNzQwNzEwNmNiYjdlMCA9ICQoYDxkaXYgaWQ9Imh0bWxfYjExMDJjMTU2NTE2NGNkN2I2Mzc0MDcxMDZjYmI3ZTAiIHN0eWxlPSJ3aWR0aDogMTAwLjAlOyBoZWlnaHQ6IDEwMC4wJTsiPkNoYWR3ZWxsIEhlYXRoIENsdXN0ZXIgNDwvZGl2PmApWzBdOwogICAgICAgICAgICBwb3B1cF85M2U1YWFmMjBmMzE0ZTdjYjlkNTU2OGNmODI0ZjYwMy5zZXRDb250ZW50KGh0bWxfYjExMDJjMTU2NTE2NGNkN2I2Mzc0MDcxMDZjYmI3ZTApOwogICAgICAgIAoKICAgICAgICBjaXJjbGVfbWFya2VyXzEwNDQzMTJiOTYxNDQyYWNhMzU3YjI3ZWMxY2RhMTA0LmJpbmRQb3B1cChwb3B1cF85M2U1YWFmMjBmMzE0ZTdjYjlkNTU2OGNmODI0ZjYwMykKICAgICAgICA7CgogICAgICAgIAogICAgCjwvc2NyaXB0Pg==\" style=\"position:absolute;width:100%;height:100%;left:0;top:0;border:none !important;\" allowfullscreen webkitallowfullscreen mozallowfullscreen></iframe></div></div>"
      ],
      "text/plain": [
       "<folium.folium.Map at 0x7f329a400cf8>"
      ]
     },
     "execution_count": 29,
     "metadata": {},
     "output_type": "execute_result"
    }
   ],
   "source": [
    "address = 'London,UK'\n",
    "\n",
    "geolocator = Nominatim(user_agent=\"to_explorer\")\n",
    "location = geolocator.geocode(address)\n",
    "latitude = location.latitude\n",
    "longitude = location.longitude\n",
    "\n",
    "import random\n",
    "\n",
    "# create map\n",
    "map_clusters = folium.Map(location=[latitude, longitude], zoom_start=11)\n",
    "\n",
    "# set color scheme for the clusters\n",
    "\n",
    "colors=get_colors(kclusters)\n",
    "\n",
    "# add markers to the map\n",
    "markers_colors = []\n",
    "for lat, lon, poi, cluster in zip(London_neig_merged['Latitude'], London_neig_merged['Longitude'],\n",
    "                                  London_neig_merged['Neighbourhood'], London_neig_merged['Cluster Labels']):\n",
    "    label = folium.Popup(str(poi) + ' Cluster ' + str(cluster), parse_html=True)\n",
    "    folium.CircleMarker(\n",
    "        [lat, lon],\n",
    "        radius=5,\n",
    "        popup=label,\n",
    "        color=colors[cluster-1],\n",
    "        fill=True,\n",
    "        #fill_colors=colors[cluster-1],\n",
    "        fill_colors='white',\n",
    "        fill_opacity=0.2).add_to(map_clusters)\n",
    "       \n",
    "map_clusters\n"
   ]
  },
  {
   "cell_type": "code",
   "execution_count": 30,
   "metadata": {},
   "outputs": [],
   "source": [
    "map_clusters.save(\"/home/sedna/Downloads/PROJECT-COURSERA-CAPSTONE/RESULTS/map_London_bc05_CLUSTER_04.html\")"
   ]
  },
  {
   "cell_type": "markdown",
   "metadata": {},
   "source": [
    "Examine Clusters. Now, I can examine each cluster and determine the discriminating venue categories that distinguish each cluster. Based on the defining categories, I will assign a name to each cluster."
   ]
  },
  {
   "cell_type": "code",
   "execution_count": 31,
   "metadata": {},
   "outputs": [
    {
     "name": "stdout",
     "output_type": "stream",
     "text": [
      "CLuster 1: \n"
     ]
    }
   ],
   "source": [
    "    print ('CLuster 1: ')\n",
    "\n",
    " "
   ]
  },
  {
   "cell_type": "code",
   "execution_count": 32,
   "metadata": {},
   "outputs": [
    {
     "data": {
      "text/html": [
       "<div>\n",
       "<style scoped>\n",
       "    .dataframe tbody tr th:only-of-type {\n",
       "        vertical-align: middle;\n",
       "    }\n",
       "\n",
       "    .dataframe tbody tr th {\n",
       "        vertical-align: top;\n",
       "    }\n",
       "\n",
       "    .dataframe thead th {\n",
       "        text-align: right;\n",
       "    }\n",
       "</style>\n",
       "<table border=\"1\" class=\"dataframe\">\n",
       "  <thead>\n",
       "    <tr style=\"text-align: right;\">\n",
       "      <th></th>\n",
       "      <th>Borough</th>\n",
       "      <th>Neighbourhood</th>\n",
       "      <th>Latitude</th>\n",
       "      <th>Longitude</th>\n",
       "      <th>Cluster Labels</th>\n",
       "      <th>1st Most Common Venue</th>\n",
       "      <th>2nd Most Common Venue</th>\n",
       "      <th>3rd Most Common Venue</th>\n",
       "      <th>4th Most Common Venue</th>\n",
       "      <th>5th Most Common Venue</th>\n",
       "    </tr>\n",
       "  </thead>\n",
       "  <tbody>\n",
       "    <tr>\n",
       "      <td>0</td>\n",
       "      <td>Barking and Dagenham</td>\n",
       "      <td>Rush Green</td>\n",
       "      <td>51.5655</td>\n",
       "      <td>0.1760</td>\n",
       "      <td>0</td>\n",
       "      <td>shops</td>\n",
       "      <td>food</td>\n",
       "      <td>travel</td>\n",
       "      <td>parks_outdoors</td>\n",
       "      <td>nightlife</td>\n",
       "    </tr>\n",
       "    <tr>\n",
       "      <td>3</td>\n",
       "      <td>Barking and Dagenham</td>\n",
       "      <td>Becontree</td>\n",
       "      <td>51.5487</td>\n",
       "      <td>0.1427</td>\n",
       "      <td>0</td>\n",
       "      <td>shops</td>\n",
       "      <td>travel</td>\n",
       "      <td>parks_outdoors</td>\n",
       "      <td>nightlife</td>\n",
       "      <td>food</td>\n",
       "    </tr>\n",
       "    <tr>\n",
       "      <td>7</td>\n",
       "      <td>Barking and Dagenham</td>\n",
       "      <td>Dagenham</td>\n",
       "      <td>51.5397</td>\n",
       "      <td>0.1422</td>\n",
       "      <td>0</td>\n",
       "      <td>shops</td>\n",
       "      <td>parks_outdoors</td>\n",
       "      <td>travel</td>\n",
       "      <td>nightlife</td>\n",
       "      <td>food</td>\n",
       "    </tr>\n",
       "    <tr>\n",
       "      <td>8</td>\n",
       "      <td>Barking and Dagenham</td>\n",
       "      <td>Creekmouth</td>\n",
       "      <td>51.5169</td>\n",
       "      <td>0.0991</td>\n",
       "      <td>0</td>\n",
       "      <td>shops</td>\n",
       "      <td>travel</td>\n",
       "      <td>parks_outdoors</td>\n",
       "      <td>nightlife</td>\n",
       "      <td>food</td>\n",
       "    </tr>\n",
       "  </tbody>\n",
       "</table>\n",
       "</div>"
      ],
      "text/plain": [
       "                Borough Neighbourhood  Latitude  Longitude  Cluster Labels  \\\n",
       "0  Barking and Dagenham    Rush Green   51.5655     0.1760               0   \n",
       "3  Barking and Dagenham     Becontree   51.5487     0.1427               0   \n",
       "7  Barking and Dagenham      Dagenham   51.5397     0.1422               0   \n",
       "8  Barking and Dagenham    Creekmouth   51.5169     0.0991               0   \n",
       "\n",
       "  1st Most Common Venue 2nd Most Common Venue 3rd Most Common Venue  \\\n",
       "0                 shops                  food                travel   \n",
       "3                 shops                travel        parks_outdoors   \n",
       "7                 shops        parks_outdoors                travel   \n",
       "8                 shops                travel        parks_outdoors   \n",
       "\n",
       "  4th Most Common Venue 5th Most Common Venue  \n",
       "0        parks_outdoors             nightlife  \n",
       "3             nightlife                  food  \n",
       "7             nightlife                  food  \n",
       "8             nightlife                  food  "
      ]
     },
     "execution_count": 32,
     "metadata": {},
     "output_type": "execute_result"
    }
   ],
   "source": [
    " London_neig_merged.loc[London_neig_merged['Cluster Labels']==0,:]\n",
    "    \n",
    " "
   ]
  },
  {
   "cell_type": "code",
   "execution_count": 33,
   "metadata": {},
   "outputs": [
    {
     "name": "stdout",
     "output_type": "stream",
     "text": [
      "CLuster 2: \n"
     ]
    }
   ],
   "source": [
    " print ('CLuster 2: ')"
   ]
  },
  {
   "cell_type": "code",
   "execution_count": 34,
   "metadata": {},
   "outputs": [
    {
     "data": {
      "text/html": [
       "<div>\n",
       "<style scoped>\n",
       "    .dataframe tbody tr th:only-of-type {\n",
       "        vertical-align: middle;\n",
       "    }\n",
       "\n",
       "    .dataframe tbody tr th {\n",
       "        vertical-align: top;\n",
       "    }\n",
       "\n",
       "    .dataframe thead th {\n",
       "        text-align: right;\n",
       "    }\n",
       "</style>\n",
       "<table border=\"1\" class=\"dataframe\">\n",
       "  <thead>\n",
       "    <tr style=\"text-align: right;\">\n",
       "      <th></th>\n",
       "      <th>Borough</th>\n",
       "      <th>Neighbourhood</th>\n",
       "      <th>Latitude</th>\n",
       "      <th>Longitude</th>\n",
       "      <th>Cluster Labels</th>\n",
       "      <th>1st Most Common Venue</th>\n",
       "      <th>2nd Most Common Venue</th>\n",
       "      <th>3rd Most Common Venue</th>\n",
       "      <th>4th Most Common Venue</th>\n",
       "      <th>5th Most Common Venue</th>\n",
       "    </tr>\n",
       "  </thead>\n",
       "  <tbody>\n",
       "    <tr>\n",
       "      <td>1</td>\n",
       "      <td>Barking and Dagenham</td>\n",
       "      <td>Marks Gate</td>\n",
       "      <td>51.586369</td>\n",
       "      <td>0.134848</td>\n",
       "      <td>1</td>\n",
       "      <td>shops</td>\n",
       "      <td>nightlife</td>\n",
       "      <td>travel</td>\n",
       "      <td>parks_outdoors</td>\n",
       "      <td>food</td>\n",
       "    </tr>\n",
       "  </tbody>\n",
       "</table>\n",
       "</div>"
      ],
      "text/plain": [
       "                Borough Neighbourhood   Latitude  Longitude  Cluster Labels  \\\n",
       "1  Barking and Dagenham    Marks Gate  51.586369   0.134848               1   \n",
       "\n",
       "  1st Most Common Venue 2nd Most Common Venue 3rd Most Common Venue  \\\n",
       "1                 shops             nightlife                travel   \n",
       "\n",
       "  4th Most Common Venue 5th Most Common Venue  \n",
       "1        parks_outdoors                  food  "
      ]
     },
     "execution_count": 34,
     "metadata": {},
     "output_type": "execute_result"
    }
   ],
   "source": [
    "London_neig_merged.loc[London_neig_merged['Cluster Labels']==1,:]"
   ]
  },
  {
   "cell_type": "code",
   "execution_count": 35,
   "metadata": {},
   "outputs": [
    {
     "name": "stdout",
     "output_type": "stream",
     "text": [
      "Cluster 3: \n"
     ]
    }
   ],
   "source": [
    "print ('Cluster 3: ')"
   ]
  },
  {
   "cell_type": "code",
   "execution_count": 36,
   "metadata": {},
   "outputs": [
    {
     "data": {
      "text/html": [
       "<div>\n",
       "<style scoped>\n",
       "    .dataframe tbody tr th:only-of-type {\n",
       "        vertical-align: middle;\n",
       "    }\n",
       "\n",
       "    .dataframe tbody tr th {\n",
       "        vertical-align: top;\n",
       "    }\n",
       "\n",
       "    .dataframe thead th {\n",
       "        text-align: right;\n",
       "    }\n",
       "</style>\n",
       "<table border=\"1\" class=\"dataframe\">\n",
       "  <thead>\n",
       "    <tr style=\"text-align: right;\">\n",
       "      <th></th>\n",
       "      <th>Borough</th>\n",
       "      <th>Neighbourhood</th>\n",
       "      <th>Latitude</th>\n",
       "      <th>Longitude</th>\n",
       "      <th>Cluster Labels</th>\n",
       "      <th>1st Most Common Venue</th>\n",
       "      <th>2nd Most Common Venue</th>\n",
       "      <th>3rd Most Common Venue</th>\n",
       "      <th>4th Most Common Venue</th>\n",
       "      <th>5th Most Common Venue</th>\n",
       "    </tr>\n",
       "  </thead>\n",
       "  <tbody>\n",
       "    <tr>\n",
       "      <td>2</td>\n",
       "      <td>Barking and Dagenham</td>\n",
       "      <td>Becontree Heath</td>\n",
       "      <td>51.563595</td>\n",
       "      <td>0.152614</td>\n",
       "      <td>2</td>\n",
       "      <td>shops</td>\n",
       "      <td>parks_outdoors</td>\n",
       "      <td>travel</td>\n",
       "      <td>food</td>\n",
       "      <td>building</td>\n",
       "    </tr>\n",
       "    <tr>\n",
       "      <td>4</td>\n",
       "      <td>Barking and Dagenham</td>\n",
       "      <td>Barking</td>\n",
       "      <td>51.540000</td>\n",
       "      <td>0.080000</td>\n",
       "      <td>2</td>\n",
       "      <td>shops</td>\n",
       "      <td>food</td>\n",
       "      <td>travel</td>\n",
       "      <td>parks_outdoors</td>\n",
       "      <td>nightlife</td>\n",
       "    </tr>\n",
       "  </tbody>\n",
       "</table>\n",
       "</div>"
      ],
      "text/plain": [
       "                Borough    Neighbourhood   Latitude  Longitude  \\\n",
       "2  Barking and Dagenham  Becontree Heath  51.563595   0.152614   \n",
       "4  Barking and Dagenham          Barking  51.540000   0.080000   \n",
       "\n",
       "   Cluster Labels 1st Most Common Venue 2nd Most Common Venue  \\\n",
       "2               2                 shops        parks_outdoors   \n",
       "4               2                 shops                  food   \n",
       "\n",
       "  3rd Most Common Venue 4th Most Common Venue 5th Most Common Venue  \n",
       "2                travel                  food              building  \n",
       "4                travel        parks_outdoors             nightlife  "
      ]
     },
     "execution_count": 36,
     "metadata": {},
     "output_type": "execute_result"
    }
   ],
   "source": [
    "London_neig_merged.loc[London_neig_merged['Cluster Labels']==2,:]"
   ]
  },
  {
   "cell_type": "code",
   "execution_count": 37,
   "metadata": {},
   "outputs": [
    {
     "name": "stdout",
     "output_type": "stream",
     "text": [
      "Cluster 4: \n"
     ]
    }
   ],
   "source": [
    "print('Cluster 4: ')"
   ]
  },
  {
   "cell_type": "code",
   "execution_count": 38,
   "metadata": {},
   "outputs": [
    {
     "data": {
      "text/html": [
       "<div>\n",
       "<style scoped>\n",
       "    .dataframe tbody tr th:only-of-type {\n",
       "        vertical-align: middle;\n",
       "    }\n",
       "\n",
       "    .dataframe tbody tr th {\n",
       "        vertical-align: top;\n",
       "    }\n",
       "\n",
       "    .dataframe thead th {\n",
       "        text-align: right;\n",
       "    }\n",
       "</style>\n",
       "<table border=\"1\" class=\"dataframe\">\n",
       "  <thead>\n",
       "    <tr style=\"text-align: right;\">\n",
       "      <th></th>\n",
       "      <th>Borough</th>\n",
       "      <th>Neighbourhood</th>\n",
       "      <th>Latitude</th>\n",
       "      <th>Longitude</th>\n",
       "      <th>Cluster Labels</th>\n",
       "      <th>1st Most Common Venue</th>\n",
       "      <th>2nd Most Common Venue</th>\n",
       "      <th>3rd Most Common Venue</th>\n",
       "      <th>4th Most Common Venue</th>\n",
       "      <th>5th Most Common Venue</th>\n",
       "    </tr>\n",
       "  </thead>\n",
       "  <tbody>\n",
       "    <tr>\n",
       "      <td>9</td>\n",
       "      <td>Barking and Dagenham</td>\n",
       "      <td>Castle Green</td>\n",
       "      <td>51.533328</td>\n",
       "      <td>0.122395</td>\n",
       "      <td>3</td>\n",
       "      <td>arts_entertainment</td>\n",
       "      <td>parks_outdoors</td>\n",
       "      <td>nightlife</td>\n",
       "      <td>travel</td>\n",
       "      <td>shops</td>\n",
       "    </tr>\n",
       "  </tbody>\n",
       "</table>\n",
       "</div>"
      ],
      "text/plain": [
       "                Borough Neighbourhood   Latitude  Longitude  Cluster Labels  \\\n",
       "9  Barking and Dagenham  Castle Green  51.533328   0.122395               3   \n",
       "\n",
       "  1st Most Common Venue 2nd Most Common Venue 3rd Most Common Venue  \\\n",
       "9    arts_entertainment        parks_outdoors             nightlife   \n",
       "\n",
       "  4th Most Common Venue 5th Most Common Venue  \n",
       "9                travel                 shops  "
      ]
     },
     "execution_count": 38,
     "metadata": {},
     "output_type": "execute_result"
    }
   ],
   "source": [
    "London_neig_merged.loc[London_neig_merged['Cluster Labels']==3,:]"
   ]
  },
  {
   "cell_type": "code",
   "execution_count": 39,
   "metadata": {},
   "outputs": [
    {
     "name": "stdout",
     "output_type": "stream",
     "text": [
      "Cluster 5:\n"
     ]
    }
   ],
   "source": [
    "print('Cluster 5:')"
   ]
  },
  {
   "cell_type": "code",
   "execution_count": 40,
   "metadata": {},
   "outputs": [
    {
     "data": {
      "text/html": [
       "<div>\n",
       "<style scoped>\n",
       "    .dataframe tbody tr th:only-of-type {\n",
       "        vertical-align: middle;\n",
       "    }\n",
       "\n",
       "    .dataframe tbody tr th {\n",
       "        vertical-align: top;\n",
       "    }\n",
       "\n",
       "    .dataframe thead th {\n",
       "        text-align: right;\n",
       "    }\n",
       "</style>\n",
       "<table border=\"1\" class=\"dataframe\">\n",
       "  <thead>\n",
       "    <tr style=\"text-align: right;\">\n",
       "      <th></th>\n",
       "      <th>Borough</th>\n",
       "      <th>Neighbourhood</th>\n",
       "      <th>Latitude</th>\n",
       "      <th>Longitude</th>\n",
       "      <th>Cluster Labels</th>\n",
       "      <th>1st Most Common Venue</th>\n",
       "      <th>2nd Most Common Venue</th>\n",
       "      <th>3rd Most Common Venue</th>\n",
       "      <th>4th Most Common Venue</th>\n",
       "      <th>5th Most Common Venue</th>\n",
       "    </tr>\n",
       "  </thead>\n",
       "  <tbody>\n",
       "    <tr>\n",
       "      <td>5</td>\n",
       "      <td>Barking and Dagenham</td>\n",
       "      <td>Chadwell Heath</td>\n",
       "      <td>51.5757</td>\n",
       "      <td>0.144</td>\n",
       "      <td>4</td>\n",
       "      <td>parks_outdoors</td>\n",
       "      <td>shops</td>\n",
       "      <td>nightlife</td>\n",
       "      <td>travel</td>\n",
       "      <td>food</td>\n",
       "    </tr>\n",
       "    <tr>\n",
       "      <td>6</td>\n",
       "      <td>Redbridge</td>\n",
       "      <td>Chadwell Heath</td>\n",
       "      <td>51.5757</td>\n",
       "      <td>0.144</td>\n",
       "      <td>4</td>\n",
       "      <td>parks_outdoors</td>\n",
       "      <td>shops</td>\n",
       "      <td>nightlife</td>\n",
       "      <td>travel</td>\n",
       "      <td>food</td>\n",
       "    </tr>\n",
       "  </tbody>\n",
       "</table>\n",
       "</div>"
      ],
      "text/plain": [
       "                Borough   Neighbourhood  Latitude  Longitude  Cluster Labels  \\\n",
       "5  Barking and Dagenham  Chadwell Heath   51.5757      0.144               4   \n",
       "6             Redbridge  Chadwell Heath   51.5757      0.144               4   \n",
       "\n",
       "  1st Most Common Venue 2nd Most Common Venue 3rd Most Common Venue  \\\n",
       "5        parks_outdoors                 shops             nightlife   \n",
       "6        parks_outdoors                 shops             nightlife   \n",
       "\n",
       "  4th Most Common Venue 5th Most Common Venue  \n",
       "5                travel                  food  \n",
       "6                travel                  food  "
      ]
     },
     "execution_count": 40,
     "metadata": {},
     "output_type": "execute_result"
    }
   ],
   "source": [
    "London_neig_merged.loc[London_neig_merged['Cluster Labels']==4,:]"
   ]
  },
  {
   "cell_type": "code",
   "execution_count": 41,
   "metadata": {},
   "outputs": [],
   "source": [
    "x=[]\n",
    "y=[]\n",
    "for ii in range(kclusters):\n",
    "    x.append(London_neig_merged.loc[London_neig_merged['Cluster Labels']==ii,:]['Latitude'].mean())\n",
    "    y.append(London_neig_merged.loc[London_neig_merged['Cluster Labels']==ii,:]['Longitude'].mean())\n",
    "Centroids_N054=np.empty([kclusters,2])                                         \n",
    "Centroids_N054=pd.DataFrame(Centroids_N054, columns=['x-Latitude','y-Longitude']) \n",
    "Centroids_N054['x-Latitude']=x\n",
    "Centroids_N054['y-Longitude']=y\n",
    "Centroids_N054.to_excel('/home/sedna/Downloads/PROJECT-COURSERA-CAPSTONE/RESULTS/Centroids_N054.xlsx')"
   ]
  },
  {
   "cell_type": "code",
   "execution_count": 42,
   "metadata": {},
   "outputs": [
    {
     "data": {
      "text/html": [
       "<div>\n",
       "<style scoped>\n",
       "    .dataframe tbody tr th:only-of-type {\n",
       "        vertical-align: middle;\n",
       "    }\n",
       "\n",
       "    .dataframe tbody tr th {\n",
       "        vertical-align: top;\n",
       "    }\n",
       "\n",
       "    .dataframe thead th {\n",
       "        text-align: right;\n",
       "    }\n",
       "</style>\n",
       "<table border=\"1\" class=\"dataframe\">\n",
       "  <thead>\n",
       "    <tr style=\"text-align: right;\">\n",
       "      <th></th>\n",
       "      <th>x-Latitude</th>\n",
       "      <th>y-Longitude</th>\n",
       "    </tr>\n",
       "  </thead>\n",
       "  <tbody>\n",
       "    <tr>\n",
       "      <td>0</td>\n",
       "      <td>51.542700</td>\n",
       "      <td>0.140000</td>\n",
       "    </tr>\n",
       "    <tr>\n",
       "      <td>1</td>\n",
       "      <td>51.586369</td>\n",
       "      <td>0.134848</td>\n",
       "    </tr>\n",
       "    <tr>\n",
       "      <td>2</td>\n",
       "      <td>51.551797</td>\n",
       "      <td>0.116307</td>\n",
       "    </tr>\n",
       "    <tr>\n",
       "      <td>3</td>\n",
       "      <td>51.533328</td>\n",
       "      <td>0.122395</td>\n",
       "    </tr>\n",
       "    <tr>\n",
       "      <td>4</td>\n",
       "      <td>51.575700</td>\n",
       "      <td>0.144000</td>\n",
       "    </tr>\n",
       "  </tbody>\n",
       "</table>\n",
       "</div>"
      ],
      "text/plain": [
       "   x-Latitude  y-Longitude\n",
       "0   51.542700     0.140000\n",
       "1   51.586369     0.134848\n",
       "2   51.551797     0.116307\n",
       "3   51.533328     0.122395\n",
       "4   51.575700     0.144000"
      ]
     },
     "execution_count": 42,
     "metadata": {},
     "output_type": "execute_result"
    }
   ],
   "source": [
    "Centroids_N054"
   ]
  },
  {
   "cell_type": "code",
   "execution_count": 43,
   "metadata": {},
   "outputs": [
    {
     "data": {
      "text/html": [
       "<div>\n",
       "<style scoped>\n",
       "    .dataframe tbody tr th:only-of-type {\n",
       "        vertical-align: middle;\n",
       "    }\n",
       "\n",
       "    .dataframe tbody tr th {\n",
       "        vertical-align: top;\n",
       "    }\n",
       "\n",
       "    .dataframe thead th {\n",
       "        text-align: right;\n",
       "    }\n",
       "</style>\n",
       "<table border=\"1\" class=\"dataframe\">\n",
       "  <thead>\n",
       "    <tr style=\"text-align: right;\">\n",
       "      <th></th>\n",
       "      <th>0</th>\n",
       "      <th>1</th>\n",
       "      <th>2</th>\n",
       "      <th>3</th>\n",
       "      <th>4</th>\n",
       "    </tr>\n",
       "  </thead>\n",
       "  <tbody>\n",
       "    <tr>\n",
       "      <td>arts_entertainment</td>\n",
       "      <td>0</td>\n",
       "      <td>0</td>\n",
       "      <td>0</td>\n",
       "      <td>1</td>\n",
       "      <td>0</td>\n",
       "    </tr>\n",
       "    <tr>\n",
       "      <td>building</td>\n",
       "      <td>0</td>\n",
       "      <td>0</td>\n",
       "      <td>0</td>\n",
       "      <td>0</td>\n",
       "      <td>0</td>\n",
       "    </tr>\n",
       "    <tr>\n",
       "      <td>education</td>\n",
       "      <td>0</td>\n",
       "      <td>0</td>\n",
       "      <td>0</td>\n",
       "      <td>0</td>\n",
       "      <td>0</td>\n",
       "    </tr>\n",
       "    <tr>\n",
       "      <td>event</td>\n",
       "      <td>0</td>\n",
       "      <td>0</td>\n",
       "      <td>0</td>\n",
       "      <td>0</td>\n",
       "      <td>0</td>\n",
       "    </tr>\n",
       "    <tr>\n",
       "      <td>food</td>\n",
       "      <td>0</td>\n",
       "      <td>0</td>\n",
       "      <td>0</td>\n",
       "      <td>0</td>\n",
       "      <td>0</td>\n",
       "    </tr>\n",
       "    <tr>\n",
       "      <td>nightlife</td>\n",
       "      <td>0</td>\n",
       "      <td>0</td>\n",
       "      <td>0</td>\n",
       "      <td>0</td>\n",
       "      <td>0</td>\n",
       "    </tr>\n",
       "    <tr>\n",
       "      <td>parks_outdoors</td>\n",
       "      <td>0</td>\n",
       "      <td>0</td>\n",
       "      <td>0</td>\n",
       "      <td>0</td>\n",
       "      <td>2</td>\n",
       "    </tr>\n",
       "    <tr>\n",
       "      <td>shops</td>\n",
       "      <td>4</td>\n",
       "      <td>1</td>\n",
       "      <td>2</td>\n",
       "      <td>0</td>\n",
       "      <td>0</td>\n",
       "    </tr>\n",
       "    <tr>\n",
       "      <td>travel</td>\n",
       "      <td>0</td>\n",
       "      <td>0</td>\n",
       "      <td>0</td>\n",
       "      <td>0</td>\n",
       "      <td>0</td>\n",
       "    </tr>\n",
       "  </tbody>\n",
       "</table>\n",
       "</div>"
      ],
      "text/plain": [
       "                    0  1  2  3  4\n",
       "arts_entertainment  0  0  0  1  0\n",
       "building            0  0  0  0  0\n",
       "education           0  0  0  0  0\n",
       "event               0  0  0  0  0\n",
       "food                0  0  0  0  0\n",
       "nightlife           0  0  0  0  0\n",
       "parks_outdoors      0  0  0  0  2\n",
       "shops               4  1  2  0  0\n",
       "travel              0  0  0  0  0"
      ]
     },
     "execution_count": 43,
     "metadata": {},
     "output_type": "execute_result"
    }
   ],
   "source": [
    "features=London_neig_grouped_clustering.columns.tolist()\n",
    "# clustering purity \n",
    "score=pd.DataFrame(index=features,columns=range(kclusters))\n",
    "\n",
    "for ii in range(kclusters):\n",
    "           pp=London_neig_merged.loc[London_neig_merged['Cluster Labels']==ii,:].\\\n",
    "                        groupby(\"1st Most Common Venue\").count()['Neighbourhood']\n",
    "           for nn in range(len(features)):\n",
    "                try: \n",
    "                    score.loc[features[nn],ii]=pp.loc[features[nn]]\n",
    "                except:\n",
    "                    score.loc[features[nn],ii]=0\n",
    "score"
   ]
  },
  {
   "cell_type": "code",
   "execution_count": 44,
   "metadata": {},
   "outputs": [],
   "source": [
    "p_score=score.max().sum()/score.sum().sum()\n",
    "p_score=pd.Series(p_score,index=[kclusters+1])\n",
    "kclusters_N054=kclusters_N054.append(p_score)"
   ]
  },
  {
   "cell_type": "code",
   "execution_count": 45,
   "metadata": {},
   "outputs": [
    {
     "data": {
      "text/plain": [
       "0    4.000000\n",
       "1    1.000000\n",
       "2    2.000000\n",
       "3    1.000000\n",
       "4    1.000000\n",
       "5    0.323202\n",
       "6    1.000000\n",
       "dtype: float64"
      ]
     },
     "execution_count": 45,
     "metadata": {},
     "output_type": "execute_result"
    }
   ],
   "source": [
    "kclusters_N054.to_excel('/home/sedna/Downloads/PROJECT-COURSERA-CAPSTONE/RESULTS/Kclusters_N054.xlsx')\n",
    "kclusters_N054"
   ]
  },
  {
   "cell_type": "code",
   "execution_count": null,
   "metadata": {},
   "outputs": [],
   "source": []
  }
 ],
 "metadata": {
  "kernelspec": {
   "display_name": "Python 3",
   "language": "python",
   "name": "python3"
  },
  "language_info": {
   "codemirror_mode": {
    "name": "ipython",
    "version": 3
   },
   "file_extension": ".py",
   "mimetype": "text/x-python",
   "name": "python",
   "nbconvert_exporter": "python",
   "pygments_lexer": "ipython3",
   "version": "3.6.5"
  }
 },
 "nbformat": 4,
 "nbformat_minor": 2
}

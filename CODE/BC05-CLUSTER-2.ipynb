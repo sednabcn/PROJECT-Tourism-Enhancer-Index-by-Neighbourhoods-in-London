{
 "cells": [
  {
   "cell_type": "markdown",
   "metadata": {},
   "source": [
    "Import libraries"
   ]
  },
  {
   "cell_type": "code",
   "execution_count": 1,
   "metadata": {},
   "outputs": [
    {
     "name": "stdout",
     "output_type": "stream",
     "text": [
      "Requirement already satisfied: folium in /usr/local/lib/python3.7/dist-packages (0.10.0)\n",
      "Requirement already satisfied: numpy in /usr/local/lib/python3.7/dist-packages (from folium) (1.17.2)\n",
      "Requirement already satisfied: requests in /usr/lib/python3/dist-packages (from folium) (2.21.0)\n",
      "Requirement already satisfied: branca>=0.3.0 in /usr/local/lib/python3.7/dist-packages (from folium) (0.3.1)\n",
      "Requirement already satisfied: jinja2>=2.9 in /usr/lib/python3/dist-packages (from folium) (2.10)\n",
      "Requirement already satisfied: six in /usr/lib/python3/dist-packages (from branca>=0.3.0->folium) (1.12.0)\n",
      "Libraries imported.\n"
     ]
    }
   ],
   "source": [
    "import pandas as pd\n",
    "import numpy as np # library to handle data in a vectorized manner\n",
    "\n",
    "import geopy\n",
    "from geopy.geocoders import Nominatim # convert an address into latitude and longitude values\n",
    "\n",
    "import requests # library to handle requests\n",
    "from pandas.io.json import json_normalize # tranform JSON file into a pandas dataframe\n",
    "\n",
    "# Matplotlib and associated plotting modules\n",
    "import matplotlib.pyplot as plt\n",
    "import matplotlib.cm as cm\n",
    "import matplotlib.colors as colors\n",
    "\n",
    "# import k-means from clustering stage\n",
    "from sklearn.preprocessing import MinMaxScaler,StandardScaler\n",
    "from sklearn.cluster import KMeans\n",
    "!pip install folium\n",
    "import folium # map rendering library\n",
    "\n",
    "print('Libraries imported.')\n"
   ]
  },
  {
   "cell_type": "code",
   "execution_count": 2,
   "metadata": {},
   "outputs": [],
   "source": [
    "def top_venues(num_top_venues,data):\n",
    "    for hood in data['Neighbourhood']:\n",
    "        print(\"----\"+hood+\"----\")\n",
    "        temp = data[data['Neighbourhood'] == hood].T.reset_index()\n",
    "        temp.columns = ['venue','freq']\n",
    "        temp = temp.iloc[1:]\n",
    "        temp['freq'] = temp['freq'].astype(float)\n",
    "        temp = temp.round({'freq': 2})\n",
    "        print(temp.sort_values('freq', ascending=False).reset_index(drop=True).head(num_top_venues))\n",
    "        print('\\n')"
   ]
  },
  {
   "cell_type": "code",
   "execution_count": 3,
   "metadata": {},
   "outputs": [],
   "source": [
    "def return_most_common_venues(row, num_top_venues):\n",
    "    row_categories = row.iloc[1:]\n",
    "    row_categories_sorted = row_categories.sort_values(ascending=False)\n",
    "    \n",
    "    return row_categories_sorted.index.values[0:num_top_venues]"
   ]
  },
  {
   "cell_type": "code",
   "execution_count": 4,
   "metadata": {},
   "outputs": [],
   "source": [
    "# create a new dataframe\n",
    "def venues_to_dataframe(num_top_venues,columns,data,col):\n",
    "    indicators = ['st', 'nd', 'rd']\n",
    "    \n",
    "    # create columns according to number of top venues\n",
    "    for ind in np.arange(num_top_venues):\n",
    "        try:\n",
    "            columns.append('{}{} Most Common Venue'.format(ind+1, indicators[ind]))\n",
    "        except:\n",
    "            columns.append('{}th Most Common Venue'.format(ind+1))\n",
    "    neighbourhoods_venues_sorted = pd.DataFrame(columns=columns)\n",
    "    neighbourhoods_venues_sorted[col] = data[col]   \n",
    "    for ind in np.arange(data.shape[0]):\n",
    "        neighbourhoods_venues_sorted.iloc[ind, 1:] = return_most_common_venues(data.iloc[ind, :], num_top_venues)\n",
    "    return neighbourhoods_venues_sorted\n"
   ]
  },
  {
   "cell_type": "code",
   "execution_count": 5,
   "metadata": {},
   "outputs": [],
   "source": [
    "def get_colors(n):\n",
    "    return list(map(lambda i: \"#\" + \"%06x\" % random.randint(0, 0xFFFFFF),range(n)))"
   ]
  },
  {
   "cell_type": "code",
   "execution_count": 6,
   "metadata": {},
   "outputs": [],
   "source": [
    "neighbourhoods=pd.read_csv('/home/sedna/Downloads/PROJECT-COURSERA-CAPSTONE/DATA/neighbourhoods_london.csv',index_col=0)"
   ]
  },
  {
   "cell_type": "code",
   "execution_count": 7,
   "metadata": {},
   "outputs": [
    {
     "data": {
      "text/plain": [
       "(563, 4)"
      ]
     },
     "execution_count": 7,
     "metadata": {},
     "output_type": "execute_result"
    }
   ],
   "source": [
    "neighbourhoods.shape"
   ]
  },
  {
   "cell_type": "markdown",
   "metadata": {},
   "source": [
    "Read borough_CLustering_05 csvfile"
   ]
  },
  {
   "cell_type": "code",
   "execution_count": 8,
   "metadata": {},
   "outputs": [],
   "source": [
    "\n",
    "bc05=pd.read_csv('/home/sedna/Downloads/PROJECT-COURSERA-CAPSTONE/DATA/Borough_Cluster_05.csv',index_col=0)"
   ]
  },
  {
   "cell_type": "code",
   "execution_count": 9,
   "metadata": {},
   "outputs": [],
   "source": [
    "for ii in bc05.columns:\n",
    "    \n",
    "        bc05[ii][0]=[x.strip() for x in eval(bc05[ii][0])]"
   ]
  },
  {
   "cell_type": "markdown",
   "metadata": {},
   "source": []
  },
  {
   "cell_type": "markdown",
   "metadata": {},
   "source": []
  },
  {
   "cell_type": "code",
   "execution_count": 10,
   "metadata": {},
   "outputs": [],
   "source": [
    "London_neig_grouped=pd.read_csv('/home/sedna/Downloads/PROJECT-COURSERA-CAPSTONE/DATA/london_neig_grouped_CATEGORY_mean.csv', index_col=0)"
   ]
  },
  {
   "cell_type": "code",
   "execution_count": 11,
   "metadata": {},
   "outputs": [
    {
     "data": {
      "text/html": [
       "<div>\n",
       "<style scoped>\n",
       "    .dataframe tbody tr th:only-of-type {\n",
       "        vertical-align: middle;\n",
       "    }\n",
       "\n",
       "    .dataframe tbody tr th {\n",
       "        vertical-align: top;\n",
       "    }\n",
       "\n",
       "    .dataframe thead th {\n",
       "        text-align: right;\n",
       "    }\n",
       "</style>\n",
       "<table border=\"1\" class=\"dataframe\">\n",
       "  <thead>\n",
       "    <tr style=\"text-align: right;\">\n",
       "      <th></th>\n",
       "      <th>Neighbourhood</th>\n",
       "      <th>arts_entertainment</th>\n",
       "      <th>building</th>\n",
       "      <th>education</th>\n",
       "      <th>event</th>\n",
       "      <th>food</th>\n",
       "      <th>nightlife</th>\n",
       "      <th>parks_outdoors</th>\n",
       "      <th>shops</th>\n",
       "      <th>travel</th>\n",
       "    </tr>\n",
       "  </thead>\n",
       "  <tbody>\n",
       "    <tr>\n",
       "      <td>0</td>\n",
       "      <td>Abbey Wood</td>\n",
       "      <td>0.0</td>\n",
       "      <td>0.0</td>\n",
       "      <td>0.0</td>\n",
       "      <td>0.0</td>\n",
       "      <td>0.00</td>\n",
       "      <td>0.00</td>\n",
       "      <td>0.50</td>\n",
       "      <td>0.50</td>\n",
       "      <td>0.00</td>\n",
       "    </tr>\n",
       "    <tr>\n",
       "      <td>1</td>\n",
       "      <td>Acton</td>\n",
       "      <td>0.0</td>\n",
       "      <td>0.0</td>\n",
       "      <td>0.0</td>\n",
       "      <td>0.0</td>\n",
       "      <td>0.20</td>\n",
       "      <td>0.00</td>\n",
       "      <td>0.10</td>\n",
       "      <td>0.30</td>\n",
       "      <td>0.40</td>\n",
       "    </tr>\n",
       "    <tr>\n",
       "      <td>2</td>\n",
       "      <td>Addington</td>\n",
       "      <td>0.0</td>\n",
       "      <td>0.0</td>\n",
       "      <td>0.0</td>\n",
       "      <td>0.0</td>\n",
       "      <td>0.25</td>\n",
       "      <td>0.00</td>\n",
       "      <td>0.00</td>\n",
       "      <td>0.25</td>\n",
       "      <td>0.50</td>\n",
       "    </tr>\n",
       "    <tr>\n",
       "      <td>3</td>\n",
       "      <td>Addiscombe</td>\n",
       "      <td>0.0</td>\n",
       "      <td>0.0</td>\n",
       "      <td>0.0</td>\n",
       "      <td>0.0</td>\n",
       "      <td>0.50</td>\n",
       "      <td>0.00</td>\n",
       "      <td>0.25</td>\n",
       "      <td>0.25</td>\n",
       "      <td>0.00</td>\n",
       "    </tr>\n",
       "    <tr>\n",
       "      <td>4</td>\n",
       "      <td>Albany Park</td>\n",
       "      <td>0.0</td>\n",
       "      <td>0.0</td>\n",
       "      <td>0.0</td>\n",
       "      <td>0.0</td>\n",
       "      <td>0.25</td>\n",
       "      <td>0.25</td>\n",
       "      <td>0.00</td>\n",
       "      <td>0.25</td>\n",
       "      <td>0.25</td>\n",
       "    </tr>\n",
       "  </tbody>\n",
       "</table>\n",
       "</div>"
      ],
      "text/plain": [
       "  Neighbourhood  arts_entertainment  building  education  event  food  \\\n",
       "0    Abbey Wood                 0.0       0.0        0.0    0.0  0.00   \n",
       "1         Acton                 0.0       0.0        0.0    0.0  0.20   \n",
       "2     Addington                 0.0       0.0        0.0    0.0  0.25   \n",
       "3    Addiscombe                 0.0       0.0        0.0    0.0  0.50   \n",
       "4   Albany Park                 0.0       0.0        0.0    0.0  0.25   \n",
       "\n",
       "   nightlife  parks_outdoors  shops  travel  \n",
       "0       0.00            0.50   0.50    0.00  \n",
       "1       0.00            0.10   0.30    0.40  \n",
       "2       0.00            0.00   0.25    0.50  \n",
       "3       0.00            0.25   0.25    0.00  \n",
       "4       0.25            0.00   0.25    0.25  "
      ]
     },
     "execution_count": 11,
     "metadata": {},
     "output_type": "execute_result"
    }
   ],
   "source": [
    "London_neig_grouped.head()"
   ]
  },
  {
   "cell_type": "code",
   "execution_count": 12,
   "metadata": {},
   "outputs": [],
   "source": [
    "bc051=pd.DataFrame(bc05['1'][0],columns=['Borough'])"
   ]
  },
  {
   "cell_type": "code",
   "execution_count": 13,
   "metadata": {},
   "outputs": [],
   "source": [
    "pp=neighbourhoods.loc[neighbourhoods['Borough'].isin(bc051['Borough'].values)]['Neighbourhood']"
   ]
  },
  {
   "cell_type": "code",
   "execution_count": 14,
   "metadata": {},
   "outputs": [],
   "source": [
    "London_neig_grouped_mean=London_neig_grouped.loc[London_neig_grouped['Neighbourhood'].isin(pp.values)]"
   ]
  },
  {
   "cell_type": "markdown",
   "metadata": {},
   "source": [
    "Let's print each neighbourhood with the 10 most common venues"
   ]
  },
  {
   "cell_type": "code",
   "execution_count": 15,
   "metadata": {},
   "outputs": [
    {
     "data": {
      "text/plain": [
       "(14, 10)"
      ]
     },
     "execution_count": 15,
     "metadata": {},
     "output_type": "execute_result"
    }
   ],
   "source": [
    "London_neig_grouped_mean.shape"
   ]
  },
  {
   "cell_type": "code",
   "execution_count": 16,
   "metadata": {},
   "outputs": [
    {
     "name": "stdout",
     "output_type": "stream",
     "text": [
      "----Beckton----\n",
      "                venue  freq\n",
      "0               shops  0.56\n",
      "1              travel  0.22\n",
      "2            building  0.11\n",
      "3           nightlife  0.11\n",
      "4  arts_entertainment  0.00\n",
      "\n",
      "\n",
      "----Canning Town----\n",
      "                venue  freq\n",
      "0               shops  0.43\n",
      "1  arts_entertainment  0.14\n",
      "2                food  0.14\n",
      "3      parks_outdoors  0.14\n",
      "4              travel  0.14\n",
      "\n",
      "\n",
      "----Custom House----\n",
      "                venue  freq\n",
      "0                food  0.48\n",
      "1              travel  0.34\n",
      "2           nightlife  0.07\n",
      "3      parks_outdoors  0.07\n",
      "4  arts_entertainment  0.03\n",
      "\n",
      "\n",
      "----East Ham----\n",
      "            venue  freq\n",
      "0            food  0.33\n",
      "1           shops  0.33\n",
      "2       nightlife  0.13\n",
      "3  parks_outdoors  0.13\n",
      "4        building  0.07\n",
      "\n",
      "\n",
      "----Forest Gate----\n",
      "                venue  freq\n",
      "0                food  0.50\n",
      "1               shops  0.25\n",
      "2              travel  0.17\n",
      "3           nightlife  0.08\n",
      "4  arts_entertainment  0.00\n",
      "\n",
      "\n",
      "----Little Ilford----\n",
      "                venue  freq\n",
      "0                food  0.50\n",
      "1            building  0.25\n",
      "2               shops  0.25\n",
      "3  arts_entertainment  0.00\n",
      "4           education  0.00\n",
      "\n",
      "\n",
      "----Manor Park----\n",
      "                venue  freq\n",
      "0                food  0.50\n",
      "1      parks_outdoors  0.25\n",
      "2               shops  0.25\n",
      "3  arts_entertainment  0.00\n",
      "4            building  0.00\n",
      "\n",
      "\n",
      "----Maryland----\n",
      "                venue  freq\n",
      "0                food  0.40\n",
      "1               shops  0.34\n",
      "2  arts_entertainment  0.11\n",
      "3           nightlife  0.09\n",
      "4              travel  0.05\n",
      "\n",
      "\n",
      "----North Woolwich----\n",
      "                venue  freq\n",
      "0              travel   0.6\n",
      "1                food   0.4\n",
      "2  arts_entertainment   0.0\n",
      "3            building   0.0\n",
      "4           education   0.0\n",
      "\n",
      "\n",
      "----Plaistow----\n",
      "                venue  freq\n",
      "0                food   0.4\n",
      "1  arts_entertainment   0.2\n",
      "2      parks_outdoors   0.2\n",
      "3              travel   0.2\n",
      "4            building   0.0\n",
      "\n",
      "\n",
      "----Silvertown----\n",
      "                venue  freq\n",
      "0               shops   0.4\n",
      "1                food   0.2\n",
      "2      parks_outdoors   0.2\n",
      "3              travel   0.2\n",
      "4  arts_entertainment   0.0\n",
      "\n",
      "\n",
      "----Stratford----\n",
      "                venue  freq\n",
      "0                food  0.42\n",
      "1               shops  0.30\n",
      "2           nightlife  0.12\n",
      "3  arts_entertainment  0.09\n",
      "4              travel  0.06\n",
      "\n",
      "\n",
      "----Upton Park----\n",
      "       venue  freq\n",
      "0      shops  0.43\n",
      "1       food  0.36\n",
      "2   building  0.07\n",
      "3  nightlife  0.07\n",
      "4     travel  0.07\n",
      "\n",
      "\n",
      "----West Ham----\n",
      "                venue  freq\n",
      "0                food  0.57\n",
      "1            building  0.14\n",
      "2      parks_outdoors  0.14\n",
      "3              travel  0.14\n",
      "4  arts_entertainment  0.00\n",
      "\n",
      "\n"
     ]
    }
   ],
   "source": [
    "num_top_venues = 5\n",
    "top_venues(num_top_venues,London_neig_grouped_mean)"
   ]
  },
  {
   "cell_type": "markdown",
   "metadata": {},
   "source": [
    "Let's put that into a pandas dataframe. First, let's write a function to sort the venues in descending order."
   ]
  },
  {
   "cell_type": "markdown",
   "metadata": {},
   "source": [
    "Now let's create the new dataframe and display the top 10 venues for each neighborhood."
   ]
  },
  {
   "cell_type": "code",
   "execution_count": 17,
   "metadata": {},
   "outputs": [],
   "source": [
    "neighbourhoods_venues_sorted=venues_to_dataframe(num_top_venues,['Neighbourhood'],London_neig_grouped_mean,'Neighbourhood')"
   ]
  },
  {
   "cell_type": "code",
   "execution_count": 18,
   "metadata": {},
   "outputs": [
    {
     "data": {
      "text/html": [
       "<div>\n",
       "<style scoped>\n",
       "    .dataframe tbody tr th:only-of-type {\n",
       "        vertical-align: middle;\n",
       "    }\n",
       "\n",
       "    .dataframe tbody tr th {\n",
       "        vertical-align: top;\n",
       "    }\n",
       "\n",
       "    .dataframe thead th {\n",
       "        text-align: right;\n",
       "    }\n",
       "</style>\n",
       "<table border=\"1\" class=\"dataframe\">\n",
       "  <thead>\n",
       "    <tr style=\"text-align: right;\">\n",
       "      <th></th>\n",
       "      <th>Neighbourhood</th>\n",
       "      <th>1st Most Common Venue</th>\n",
       "      <th>2nd Most Common Venue</th>\n",
       "      <th>3rd Most Common Venue</th>\n",
       "      <th>4th Most Common Venue</th>\n",
       "      <th>5th Most Common Venue</th>\n",
       "    </tr>\n",
       "  </thead>\n",
       "  <tbody>\n",
       "    <tr>\n",
       "      <td>29</td>\n",
       "      <td>Beckton</td>\n",
       "      <td>shops</td>\n",
       "      <td>travel</td>\n",
       "      <td>nightlife</td>\n",
       "      <td>building</td>\n",
       "      <td>parks_outdoors</td>\n",
       "    </tr>\n",
       "    <tr>\n",
       "      <td>76</td>\n",
       "      <td>Canning Town</td>\n",
       "      <td>shops</td>\n",
       "      <td>travel</td>\n",
       "      <td>parks_outdoors</td>\n",
       "      <td>food</td>\n",
       "      <td>arts_entertainment</td>\n",
       "    </tr>\n",
       "    <tr>\n",
       "      <td>125</td>\n",
       "      <td>Custom House</td>\n",
       "      <td>food</td>\n",
       "      <td>travel</td>\n",
       "      <td>parks_outdoors</td>\n",
       "      <td>nightlife</td>\n",
       "      <td>arts_entertainment</td>\n",
       "    </tr>\n",
       "    <tr>\n",
       "      <td>143</td>\n",
       "      <td>East Ham</td>\n",
       "      <td>shops</td>\n",
       "      <td>food</td>\n",
       "      <td>parks_outdoors</td>\n",
       "      <td>nightlife</td>\n",
       "      <td>building</td>\n",
       "    </tr>\n",
       "    <tr>\n",
       "      <td>168</td>\n",
       "      <td>Forest Gate</td>\n",
       "      <td>food</td>\n",
       "      <td>shops</td>\n",
       "      <td>travel</td>\n",
       "      <td>nightlife</td>\n",
       "      <td>parks_outdoors</td>\n",
       "    </tr>\n",
       "  </tbody>\n",
       "</table>\n",
       "</div>"
      ],
      "text/plain": [
       "    Neighbourhood 1st Most Common Venue 2nd Most Common Venue  \\\n",
       "29        Beckton                 shops                travel   \n",
       "76   Canning Town                 shops                travel   \n",
       "125  Custom House                  food                travel   \n",
       "143      East Ham                 shops                  food   \n",
       "168   Forest Gate                  food                 shops   \n",
       "\n",
       "    3rd Most Common Venue 4th Most Common Venue 5th Most Common Venue  \n",
       "29              nightlife              building        parks_outdoors  \n",
       "76         parks_outdoors                  food    arts_entertainment  \n",
       "125        parks_outdoors             nightlife    arts_entertainment  \n",
       "143        parks_outdoors             nightlife              building  \n",
       "168                travel             nightlife        parks_outdoors  "
      ]
     },
     "execution_count": 18,
     "metadata": {},
     "output_type": "execute_result"
    }
   ],
   "source": [
    "neighbourhoods_venues_sorted.head()"
   ]
  },
  {
   "cell_type": "markdown",
   "metadata": {},
   "source": [
    "Cluster Neighborhoods. Analize the existence of an optim clusters number kclusters\n",
    "\n"
   ]
  },
  {
   "cell_type": "code",
   "execution_count": 19,
   "metadata": {},
   "outputs": [],
   "source": [
    "London_neig_grouped_clustering = London_neig_grouped_mean.drop('Neighbourhood', 1)"
   ]
  },
  {
   "cell_type": "code",
   "execution_count": 20,
   "metadata": {},
   "outputs": [
    {
     "data": {
      "text/html": [
       "<div>\n",
       "<style scoped>\n",
       "    .dataframe tbody tr th:only-of-type {\n",
       "        vertical-align: middle;\n",
       "    }\n",
       "\n",
       "    .dataframe tbody tr th {\n",
       "        vertical-align: top;\n",
       "    }\n",
       "\n",
       "    .dataframe thead th {\n",
       "        text-align: right;\n",
       "    }\n",
       "</style>\n",
       "<table border=\"1\" class=\"dataframe\">\n",
       "  <thead>\n",
       "    <tr style=\"text-align: right;\">\n",
       "      <th></th>\n",
       "      <th>arts_entertainment</th>\n",
       "      <th>building</th>\n",
       "      <th>education</th>\n",
       "      <th>event</th>\n",
       "      <th>food</th>\n",
       "      <th>nightlife</th>\n",
       "      <th>parks_outdoors</th>\n",
       "      <th>shops</th>\n",
       "      <th>travel</th>\n",
       "    </tr>\n",
       "  </thead>\n",
       "  <tbody>\n",
       "    <tr>\n",
       "      <td>29</td>\n",
       "      <td>0.000000</td>\n",
       "      <td>0.111111</td>\n",
       "      <td>0.0</td>\n",
       "      <td>0.0</td>\n",
       "      <td>0.000000</td>\n",
       "      <td>0.111111</td>\n",
       "      <td>0.000000</td>\n",
       "      <td>0.555556</td>\n",
       "      <td>0.222222</td>\n",
       "    </tr>\n",
       "    <tr>\n",
       "      <td>76</td>\n",
       "      <td>0.142857</td>\n",
       "      <td>0.000000</td>\n",
       "      <td>0.0</td>\n",
       "      <td>0.0</td>\n",
       "      <td>0.142857</td>\n",
       "      <td>0.000000</td>\n",
       "      <td>0.142857</td>\n",
       "      <td>0.428571</td>\n",
       "      <td>0.142857</td>\n",
       "    </tr>\n",
       "    <tr>\n",
       "      <td>125</td>\n",
       "      <td>0.034483</td>\n",
       "      <td>0.000000</td>\n",
       "      <td>0.0</td>\n",
       "      <td>0.0</td>\n",
       "      <td>0.482759</td>\n",
       "      <td>0.068966</td>\n",
       "      <td>0.068966</td>\n",
       "      <td>0.000000</td>\n",
       "      <td>0.344828</td>\n",
       "    </tr>\n",
       "    <tr>\n",
       "      <td>143</td>\n",
       "      <td>0.000000</td>\n",
       "      <td>0.066667</td>\n",
       "      <td>0.0</td>\n",
       "      <td>0.0</td>\n",
       "      <td>0.333333</td>\n",
       "      <td>0.133333</td>\n",
       "      <td>0.133333</td>\n",
       "      <td>0.333333</td>\n",
       "      <td>0.000000</td>\n",
       "    </tr>\n",
       "    <tr>\n",
       "      <td>168</td>\n",
       "      <td>0.000000</td>\n",
       "      <td>0.000000</td>\n",
       "      <td>0.0</td>\n",
       "      <td>0.0</td>\n",
       "      <td>0.500000</td>\n",
       "      <td>0.083333</td>\n",
       "      <td>0.000000</td>\n",
       "      <td>0.250000</td>\n",
       "      <td>0.166667</td>\n",
       "    </tr>\n",
       "    <tr>\n",
       "      <td>275</td>\n",
       "      <td>0.000000</td>\n",
       "      <td>0.250000</td>\n",
       "      <td>0.0</td>\n",
       "      <td>0.0</td>\n",
       "      <td>0.500000</td>\n",
       "      <td>0.000000</td>\n",
       "      <td>0.000000</td>\n",
       "      <td>0.250000</td>\n",
       "      <td>0.000000</td>\n",
       "    </tr>\n",
       "    <tr>\n",
       "      <td>286</td>\n",
       "      <td>0.000000</td>\n",
       "      <td>0.000000</td>\n",
       "      <td>0.0</td>\n",
       "      <td>0.0</td>\n",
       "      <td>0.500000</td>\n",
       "      <td>0.000000</td>\n",
       "      <td>0.250000</td>\n",
       "      <td>0.250000</td>\n",
       "      <td>0.000000</td>\n",
       "    </tr>\n",
       "    <tr>\n",
       "      <td>288</td>\n",
       "      <td>0.107692</td>\n",
       "      <td>0.015385</td>\n",
       "      <td>0.0</td>\n",
       "      <td>0.0</td>\n",
       "      <td>0.400000</td>\n",
       "      <td>0.092308</td>\n",
       "      <td>0.000000</td>\n",
       "      <td>0.338462</td>\n",
       "      <td>0.046154</td>\n",
       "    </tr>\n",
       "    <tr>\n",
       "      <td>324</td>\n",
       "      <td>0.000000</td>\n",
       "      <td>0.000000</td>\n",
       "      <td>0.0</td>\n",
       "      <td>0.0</td>\n",
       "      <td>0.400000</td>\n",
       "      <td>0.000000</td>\n",
       "      <td>0.000000</td>\n",
       "      <td>0.000000</td>\n",
       "      <td>0.600000</td>\n",
       "    </tr>\n",
       "    <tr>\n",
       "      <td>352</td>\n",
       "      <td>0.200000</td>\n",
       "      <td>0.000000</td>\n",
       "      <td>0.0</td>\n",
       "      <td>0.0</td>\n",
       "      <td>0.400000</td>\n",
       "      <td>0.000000</td>\n",
       "      <td>0.200000</td>\n",
       "      <td>0.000000</td>\n",
       "      <td>0.200000</td>\n",
       "    </tr>\n",
       "    <tr>\n",
       "      <td>387</td>\n",
       "      <td>0.000000</td>\n",
       "      <td>0.000000</td>\n",
       "      <td>0.0</td>\n",
       "      <td>0.0</td>\n",
       "      <td>0.200000</td>\n",
       "      <td>0.000000</td>\n",
       "      <td>0.200000</td>\n",
       "      <td>0.400000</td>\n",
       "      <td>0.200000</td>\n",
       "    </tr>\n",
       "    <tr>\n",
       "      <td>425</td>\n",
       "      <td>0.086957</td>\n",
       "      <td>0.014493</td>\n",
       "      <td>0.0</td>\n",
       "      <td>0.0</td>\n",
       "      <td>0.420290</td>\n",
       "      <td>0.115942</td>\n",
       "      <td>0.000000</td>\n",
       "      <td>0.304348</td>\n",
       "      <td>0.057971</td>\n",
       "    </tr>\n",
       "    <tr>\n",
       "      <td>465</td>\n",
       "      <td>0.000000</td>\n",
       "      <td>0.071429</td>\n",
       "      <td>0.0</td>\n",
       "      <td>0.0</td>\n",
       "      <td>0.357143</td>\n",
       "      <td>0.071429</td>\n",
       "      <td>0.000000</td>\n",
       "      <td>0.428571</td>\n",
       "      <td>0.071429</td>\n",
       "    </tr>\n",
       "    <tr>\n",
       "      <td>487</td>\n",
       "      <td>0.000000</td>\n",
       "      <td>0.142857</td>\n",
       "      <td>0.0</td>\n",
       "      <td>0.0</td>\n",
       "      <td>0.571429</td>\n",
       "      <td>0.000000</td>\n",
       "      <td>0.142857</td>\n",
       "      <td>0.000000</td>\n",
       "      <td>0.142857</td>\n",
       "    </tr>\n",
       "  </tbody>\n",
       "</table>\n",
       "</div>"
      ],
      "text/plain": [
       "     arts_entertainment  building  education  event      food  nightlife  \\\n",
       "29             0.000000  0.111111        0.0    0.0  0.000000   0.111111   \n",
       "76             0.142857  0.000000        0.0    0.0  0.142857   0.000000   \n",
       "125            0.034483  0.000000        0.0    0.0  0.482759   0.068966   \n",
       "143            0.000000  0.066667        0.0    0.0  0.333333   0.133333   \n",
       "168            0.000000  0.000000        0.0    0.0  0.500000   0.083333   \n",
       "275            0.000000  0.250000        0.0    0.0  0.500000   0.000000   \n",
       "286            0.000000  0.000000        0.0    0.0  0.500000   0.000000   \n",
       "288            0.107692  0.015385        0.0    0.0  0.400000   0.092308   \n",
       "324            0.000000  0.000000        0.0    0.0  0.400000   0.000000   \n",
       "352            0.200000  0.000000        0.0    0.0  0.400000   0.000000   \n",
       "387            0.000000  0.000000        0.0    0.0  0.200000   0.000000   \n",
       "425            0.086957  0.014493        0.0    0.0  0.420290   0.115942   \n",
       "465            0.000000  0.071429        0.0    0.0  0.357143   0.071429   \n",
       "487            0.000000  0.142857        0.0    0.0  0.571429   0.000000   \n",
       "\n",
       "     parks_outdoors     shops    travel  \n",
       "29         0.000000  0.555556  0.222222  \n",
       "76         0.142857  0.428571  0.142857  \n",
       "125        0.068966  0.000000  0.344828  \n",
       "143        0.133333  0.333333  0.000000  \n",
       "168        0.000000  0.250000  0.166667  \n",
       "275        0.000000  0.250000  0.000000  \n",
       "286        0.250000  0.250000  0.000000  \n",
       "288        0.000000  0.338462  0.046154  \n",
       "324        0.000000  0.000000  0.600000  \n",
       "352        0.200000  0.000000  0.200000  \n",
       "387        0.200000  0.400000  0.200000  \n",
       "425        0.000000  0.304348  0.057971  \n",
       "465        0.000000  0.428571  0.071429  \n",
       "487        0.142857  0.000000  0.142857  "
      ]
     },
     "execution_count": 20,
     "metadata": {},
     "output_type": "execute_result"
    }
   ],
   "source": [
    "London_neig_grouped_clustering"
   ]
  },
  {
   "cell_type": "markdown",
   "metadata": {},
   "source": [
    "SSD=norm2(samples,nearest_clusters_centre) \n",
    "Elbow curve to determine the optimal number of clusters"
   ]
  },
  {
   "cell_type": "code",
   "execution_count": 21,
   "metadata": {},
   "outputs": [],
   "source": [
    "SSD = []\n",
    "K = range(1,10)\n",
    "for k in K:\n",
    "    km = KMeans(n_clusters=k)\n",
    "    km = km.fit(London_neig_grouped_clustering)\n",
    "    SSD.append(km.inertia_)"
   ]
  },
  {
   "cell_type": "markdown",
   "metadata": {},
   "source": [
    "ELBOW CURVE FOR KMEANS"
   ]
  },
  {
   "cell_type": "code",
   "execution_count": 22,
   "metadata": {
    "scrolled": true
   },
   "outputs": [
    {
     "data": {
      "image/png": "[encoded data removed]",
      "text/plain": [
       "<Figure size 432x288 with 1 Axes>"
      ]
     },
     "metadata": {
      "needs_background": "light"
     },
     "output_type": "display_data"
    },
    {
     "data": {
      "text/plain": [
       "0.09664999435268862"
      ]
     },
     "execution_count": 22,
     "metadata": {},
     "output_type": "execute_result"
    }
   ],
   "source": [
    "import matplotlib.pyplot as plt\n",
    "def elbow(norm):\n",
    "    plt.plot(K,norm, 'ro-')\n",
    "    plt.xlabel('k')\n",
    "    plt.ylabel('L2-norm')\n",
    "    plt.title('Elbow Method For Optimal k')\n",
    "    return plt.show()\n",
    "elbow_curve=elbow(SSD)\n",
    "elbow_curve\n",
    "np.min(np.array(SSD))"
   ]
  },
  {
   "cell_type": "code",
   "execution_count": 23,
   "metadata": {},
   "outputs": [],
   "source": [
    "elbow_N052=np.empty([9,2])\n",
    "elbow_N052=pd.DataFrame(elbow_N052,columns=['K','SSD'])\n",
    "elbow_N052['K']=K\n",
    "elbow_N052['SSD']=SSD\n",
    "elbow_N052.to_excel('/home/sedna/Downloads/PROJECT-COURSERA-CAPSTONE/RESULTS/elbow_N052.xlsx')"
   ]
  },
  {
   "cell_type": "markdown",
   "metadata": {},
   "source": [
    "Cluster Neighborhoods. Run k-means to cluster the neighborhood into 5 clusters."
   ]
  },
  {
   "cell_type": "code",
   "execution_count": 24,
   "metadata": {},
   "outputs": [],
   "source": [
    "# set number of clusters\n",
    "kclusters = 5"
   ]
  },
  {
   "cell_type": "code",
   "execution_count": 25,
   "metadata": {},
   "outputs": [
    {
     "data": {
      "text/plain": [
       "array([4, 0, 1, 3, 3, 3, 3, 3, 2, 1, 0, 3, 3, 1], dtype=int32)"
      ]
     },
     "execution_count": 25,
     "metadata": {},
     "output_type": "execute_result"
    }
   ],
   "source": [
    "\n",
    "# run k-means clustering\n",
    "kmeans = KMeans(n_clusters=kclusters, random_state=0).fit(London_neig_grouped_clustering)\n",
    "\n",
    "# check cluster labels generated for each row in the dataframe\n",
    "kmeans_labels=kmeans.labels_\n",
    "kmeans_labels\n"
   ]
  },
  {
   "cell_type": "code",
   "execution_count": 26,
   "metadata": {},
   "outputs": [],
   "source": [
    "from sklearn import metrics\n",
    "from sklearn.metrics import pairwise_distances\n",
    "s_score=metrics.silhouette_score(London_neig_grouped_clustering,kmeans_labels, metric='euclidean')\n",
    "s_score=pd.Series(s_score,index=[kclusters])"
   ]
  },
  {
   "cell_type": "code",
   "execution_count": 27,
   "metadata": {},
   "outputs": [],
   "source": [
    "pp=pd.DataFrame(kmeans.labels_,columns=['Cluster Labels'])\n",
    "kclusters_N052=pp['Cluster Labels'].value_counts().sort_index()\n",
    "kclusters_N052=kclusters_N052.append(s_score)"
   ]
  },
  {
   "cell_type": "markdown",
   "metadata": {},
   "source": [
    "Identify each neighbourhood with its Cluster Labels"
   ]
  },
  {
   "cell_type": "code",
   "execution_count": 28,
   "metadata": {},
   "outputs": [
    {
     "data": {
      "text/html": [
       "<div>\n",
       "<style scoped>\n",
       "    .dataframe tbody tr th:only-of-type {\n",
       "        vertical-align: middle;\n",
       "    }\n",
       "\n",
       "    .dataframe tbody tr th {\n",
       "        vertical-align: top;\n",
       "    }\n",
       "\n",
       "    .dataframe thead th {\n",
       "        text-align: right;\n",
       "    }\n",
       "</style>\n",
       "<table border=\"1\" class=\"dataframe\">\n",
       "  <thead>\n",
       "    <tr style=\"text-align: right;\">\n",
       "      <th></th>\n",
       "      <th>Borough</th>\n",
       "      <th>Neighbourhood</th>\n",
       "      <th>Latitude</th>\n",
       "      <th>Longitude</th>\n",
       "      <th>Cluster Labels</th>\n",
       "      <th>1st Most Common Venue</th>\n",
       "      <th>2nd Most Common Venue</th>\n",
       "      <th>3rd Most Common Venue</th>\n",
       "      <th>4th Most Common Venue</th>\n",
       "      <th>5th Most Common Venue</th>\n",
       "    </tr>\n",
       "  </thead>\n",
       "  <tbody>\n",
       "    <tr>\n",
       "      <td>8</td>\n",
       "      <td>Newham</td>\n",
       "      <td>Canning Town</td>\n",
       "      <td>51.515000</td>\n",
       "      <td>0.02600</td>\n",
       "      <td>0</td>\n",
       "      <td>shops</td>\n",
       "      <td>travel</td>\n",
       "      <td>parks_outdoors</td>\n",
       "      <td>food</td>\n",
       "      <td>arts_entertainment</td>\n",
       "    </tr>\n",
       "    <tr>\n",
       "      <td>13</td>\n",
       "      <td>Newham</td>\n",
       "      <td>Silvertown</td>\n",
       "      <td>51.500000</td>\n",
       "      <td>0.03000</td>\n",
       "      <td>0</td>\n",
       "      <td>shops</td>\n",
       "      <td>travel</td>\n",
       "      <td>parks_outdoors</td>\n",
       "      <td>food</td>\n",
       "      <td>nightlife</td>\n",
       "    </tr>\n",
       "    <tr>\n",
       "      <td>0</td>\n",
       "      <td>Bromley</td>\n",
       "      <td>Plaistow</td>\n",
       "      <td>51.415148</td>\n",
       "      <td>0.01716</td>\n",
       "      <td>1</td>\n",
       "      <td>food</td>\n",
       "      <td>travel</td>\n",
       "      <td>parks_outdoors</td>\n",
       "      <td>arts_entertainment</td>\n",
       "      <td>shops</td>\n",
       "    </tr>\n",
       "    <tr>\n",
       "      <td>1</td>\n",
       "      <td>Newham</td>\n",
       "      <td>Plaistow</td>\n",
       "      <td>51.415148</td>\n",
       "      <td>0.01716</td>\n",
       "      <td>1</td>\n",
       "      <td>food</td>\n",
       "      <td>travel</td>\n",
       "      <td>parks_outdoors</td>\n",
       "      <td>arts_entertainment</td>\n",
       "      <td>shops</td>\n",
       "    </tr>\n",
       "    <tr>\n",
       "      <td>4</td>\n",
       "      <td>Newham</td>\n",
       "      <td>West Ham</td>\n",
       "      <td>51.534700</td>\n",
       "      <td>0.00769</td>\n",
       "      <td>1</td>\n",
       "      <td>food</td>\n",
       "      <td>travel</td>\n",
       "      <td>parks_outdoors</td>\n",
       "      <td>building</td>\n",
       "      <td>shops</td>\n",
       "    </tr>\n",
       "  </tbody>\n",
       "</table>\n",
       "</div>"
      ],
      "text/plain": [
       "    Borough Neighbourhood   Latitude  Longitude  Cluster Labels  \\\n",
       "8    Newham  Canning Town  51.515000    0.02600               0   \n",
       "13   Newham    Silvertown  51.500000    0.03000               0   \n",
       "0   Bromley      Plaistow  51.415148    0.01716               1   \n",
       "1    Newham      Plaistow  51.415148    0.01716               1   \n",
       "4    Newham      West Ham  51.534700    0.00769               1   \n",
       "\n",
       "   1st Most Common Venue 2nd Most Common Venue 3rd Most Common Venue  \\\n",
       "8                  shops                travel        parks_outdoors   \n",
       "13                 shops                travel        parks_outdoors   \n",
       "0                   food                travel        parks_outdoors   \n",
       "1                   food                travel        parks_outdoors   \n",
       "4                   food                travel        parks_outdoors   \n",
       "\n",
       "   4th Most Common Venue 5th Most Common Venue  \n",
       "8                   food    arts_entertainment  \n",
       "13                  food             nightlife  \n",
       "0     arts_entertainment                 shops  \n",
       "1     arts_entertainment                 shops  \n",
       "4               building                 shops  "
      ]
     },
     "execution_count": 28,
     "metadata": {},
     "output_type": "execute_result"
    }
   ],
   "source": [
    "# add clustering labels\n",
    "neighbourhoods_venues_sorted.insert(0, 'Cluster Labels', kmeans.labels_)\n",
    "\n",
    "London_neig_merged =pd.merge(neighbourhoods,neighbourhoods_venues_sorted, on='Neighbourhood').sort_values('Cluster Labels')\n",
    "\n",
    "London_neig_merged.head() # check the last columns!"
   ]
  },
  {
   "cell_type": "markdown",
   "metadata": {},
   "source": [
    "Finally, let's visualize the resulting clusters"
   ]
  },
  {
   "cell_type": "code",
   "execution_count": 29,
   "metadata": {},
   "outputs": [
    {
     "data": {
      "text/html": [
       "<div style=\"width:100%;\"><div style=\"position:relative;width:100%;height:0;padding-bottom:60%;\"><iframe src=\"data:text/html;charset=utf-8;base64,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\" style=\"position:absolute;width:100%;height:100%;left:0;top:0;border:none !important;\" allowfullscreen webkitallowfullscreen mozallowfullscreen></iframe></div></div>"
      ],
      "text/plain": [
       "<folium.folium.Map at 0x7ff213e818d0>"
      ]
     },
     "execution_count": 29,
     "metadata": {},
     "output_type": "execute_result"
    }
   ],
   "source": [
    "address = 'London,UK'\n",
    "\n",
    "geolocator = Nominatim(user_agent=\"to_explorer\",timeout=50)\n",
    "location = geolocator.geocode(address)\n",
    "latitude = location.latitude\n",
    "longitude = location.longitude\n",
    "\n",
    "import random\n",
    "\n",
    "# create map\n",
    "map_clusters = folium.Map(location=[latitude, longitude], zoom_start=11)\n",
    "\n",
    "# set color scheme for the clusters\n",
    "\n",
    "colors=get_colors(kclusters)\n",
    "\n",
    "# add markers to the map\n",
    "markers_colors = []\n",
    "for lat, lon, poi, cluster in zip(London_neig_merged['Latitude'], London_neig_merged['Longitude'],\n",
    "                                  London_neig_merged['Neighbourhood'], London_neig_merged['Cluster Labels']):\n",
    "    label = folium.Popup(str(poi) + ' Cluster ' + str(cluster), parse_html=True)\n",
    "    folium.CircleMarker(\n",
    "        [lat, lon],\n",
    "        radius=5,\n",
    "        popup=label,\n",
    "        color=colors[cluster-1],\n",
    "        fill=True,\n",
    "        #fill_colors=colors[cluster-1],\n",
    "        fill_colors='white',\n",
    "        fill_opacity=0.1).add_to(map_clusters)\n",
    "       \n",
    "map_clusters\n"
   ]
  },
  {
   "cell_type": "code",
   "execution_count": 30,
   "metadata": {},
   "outputs": [],
   "source": [
    "map_clusters.save(\"/home/sedna/Downloads/PROJECT-COURSERA-CAPSTONE/RESULTS/map_London_bc05_CLUSTER_02.html\")"
   ]
  },
  {
   "cell_type": "markdown",
   "metadata": {},
   "source": [
    "Examine Clusters. Now, I can examine each cluster and determine the discriminating venue categories that distinguish each cluster. Based on the defining categories, I will assign a name to each cluster."
   ]
  },
  {
   "cell_type": "code",
   "execution_count": 31,
   "metadata": {},
   "outputs": [
    {
     "name": "stdout",
     "output_type": "stream",
     "text": [
      "CLuster 1: \n"
     ]
    }
   ],
   "source": [
    "    print ('CLuster 1: ')\n",
    "\n",
    " "
   ]
  },
  {
   "cell_type": "code",
   "execution_count": 32,
   "metadata": {},
   "outputs": [
    {
     "data": {
      "text/html": [
       "<div>\n",
       "<style scoped>\n",
       "    .dataframe tbody tr th:only-of-type {\n",
       "        vertical-align: middle;\n",
       "    }\n",
       "\n",
       "    .dataframe tbody tr th {\n",
       "        vertical-align: top;\n",
       "    }\n",
       "\n",
       "    .dataframe thead th {\n",
       "        text-align: right;\n",
       "    }\n",
       "</style>\n",
       "<table border=\"1\" class=\"dataframe\">\n",
       "  <thead>\n",
       "    <tr style=\"text-align: right;\">\n",
       "      <th></th>\n",
       "      <th>Borough</th>\n",
       "      <th>Neighbourhood</th>\n",
       "      <th>Latitude</th>\n",
       "      <th>Longitude</th>\n",
       "      <th>Cluster Labels</th>\n",
       "      <th>1st Most Common Venue</th>\n",
       "      <th>2nd Most Common Venue</th>\n",
       "      <th>3rd Most Common Venue</th>\n",
       "      <th>4th Most Common Venue</th>\n",
       "      <th>5th Most Common Venue</th>\n",
       "    </tr>\n",
       "  </thead>\n",
       "  <tbody>\n",
       "    <tr>\n",
       "      <td>8</td>\n",
       "      <td>Newham</td>\n",
       "      <td>Canning Town</td>\n",
       "      <td>51.515</td>\n",
       "      <td>0.026</td>\n",
       "      <td>0</td>\n",
       "      <td>shops</td>\n",
       "      <td>travel</td>\n",
       "      <td>parks_outdoors</td>\n",
       "      <td>food</td>\n",
       "      <td>arts_entertainment</td>\n",
       "    </tr>\n",
       "    <tr>\n",
       "      <td>13</td>\n",
       "      <td>Newham</td>\n",
       "      <td>Silvertown</td>\n",
       "      <td>51.500</td>\n",
       "      <td>0.030</td>\n",
       "      <td>0</td>\n",
       "      <td>shops</td>\n",
       "      <td>travel</td>\n",
       "      <td>parks_outdoors</td>\n",
       "      <td>food</td>\n",
       "      <td>nightlife</td>\n",
       "    </tr>\n",
       "  </tbody>\n",
       "</table>\n",
       "</div>"
      ],
      "text/plain": [
       "   Borough Neighbourhood  Latitude  Longitude  Cluster Labels  \\\n",
       "8   Newham  Canning Town    51.515      0.026               0   \n",
       "13  Newham    Silvertown    51.500      0.030               0   \n",
       "\n",
       "   1st Most Common Venue 2nd Most Common Venue 3rd Most Common Venue  \\\n",
       "8                  shops                travel        parks_outdoors   \n",
       "13                 shops                travel        parks_outdoors   \n",
       "\n",
       "   4th Most Common Venue 5th Most Common Venue  \n",
       "8                   food    arts_entertainment  \n",
       "13                  food             nightlife  "
      ]
     },
     "execution_count": 32,
     "metadata": {},
     "output_type": "execute_result"
    }
   ],
   "source": [
    " London_neig_merged.loc[London_neig_merged['Cluster Labels']==0,:]\n",
    "    \n",
    " "
   ]
  },
  {
   "cell_type": "code",
   "execution_count": 33,
   "metadata": {},
   "outputs": [
    {
     "name": "stdout",
     "output_type": "stream",
     "text": [
      "CLuster 2: \n"
     ]
    }
   ],
   "source": [
    " print ('CLuster 2: ')"
   ]
  },
  {
   "cell_type": "code",
   "execution_count": 34,
   "metadata": {},
   "outputs": [
    {
     "data": {
      "text/html": [
       "<div>\n",
       "<style scoped>\n",
       "    .dataframe tbody tr th:only-of-type {\n",
       "        vertical-align: middle;\n",
       "    }\n",
       "\n",
       "    .dataframe tbody tr th {\n",
       "        vertical-align: top;\n",
       "    }\n",
       "\n",
       "    .dataframe thead th {\n",
       "        text-align: right;\n",
       "    }\n",
       "</style>\n",
       "<table border=\"1\" class=\"dataframe\">\n",
       "  <thead>\n",
       "    <tr style=\"text-align: right;\">\n",
       "      <th></th>\n",
       "      <th>Borough</th>\n",
       "      <th>Neighbourhood</th>\n",
       "      <th>Latitude</th>\n",
       "      <th>Longitude</th>\n",
       "      <th>Cluster Labels</th>\n",
       "      <th>1st Most Common Venue</th>\n",
       "      <th>2nd Most Common Venue</th>\n",
       "      <th>3rd Most Common Venue</th>\n",
       "      <th>4th Most Common Venue</th>\n",
       "      <th>5th Most Common Venue</th>\n",
       "    </tr>\n",
       "  </thead>\n",
       "  <tbody>\n",
       "    <tr>\n",
       "      <td>0</td>\n",
       "      <td>Bromley</td>\n",
       "      <td>Plaistow</td>\n",
       "      <td>51.415148</td>\n",
       "      <td>0.01716</td>\n",
       "      <td>1</td>\n",
       "      <td>food</td>\n",
       "      <td>travel</td>\n",
       "      <td>parks_outdoors</td>\n",
       "      <td>arts_entertainment</td>\n",
       "      <td>shops</td>\n",
       "    </tr>\n",
       "    <tr>\n",
       "      <td>1</td>\n",
       "      <td>Newham</td>\n",
       "      <td>Plaistow</td>\n",
       "      <td>51.415148</td>\n",
       "      <td>0.01716</td>\n",
       "      <td>1</td>\n",
       "      <td>food</td>\n",
       "      <td>travel</td>\n",
       "      <td>parks_outdoors</td>\n",
       "      <td>arts_entertainment</td>\n",
       "      <td>shops</td>\n",
       "    </tr>\n",
       "    <tr>\n",
       "      <td>4</td>\n",
       "      <td>Newham</td>\n",
       "      <td>West Ham</td>\n",
       "      <td>51.534700</td>\n",
       "      <td>0.00769</td>\n",
       "      <td>1</td>\n",
       "      <td>food</td>\n",
       "      <td>travel</td>\n",
       "      <td>parks_outdoors</td>\n",
       "      <td>building</td>\n",
       "      <td>shops</td>\n",
       "    </tr>\n",
       "    <tr>\n",
       "      <td>6</td>\n",
       "      <td>Newham</td>\n",
       "      <td>Custom House</td>\n",
       "      <td>51.507600</td>\n",
       "      <td>0.02970</td>\n",
       "      <td>1</td>\n",
       "      <td>food</td>\n",
       "      <td>travel</td>\n",
       "      <td>parks_outdoors</td>\n",
       "      <td>nightlife</td>\n",
       "      <td>arts_entertainment</td>\n",
       "    </tr>\n",
       "  </tbody>\n",
       "</table>\n",
       "</div>"
      ],
      "text/plain": [
       "   Borough Neighbourhood   Latitude  Longitude  Cluster Labels  \\\n",
       "0  Bromley      Plaistow  51.415148    0.01716               1   \n",
       "1   Newham      Plaistow  51.415148    0.01716               1   \n",
       "4   Newham      West Ham  51.534700    0.00769               1   \n",
       "6   Newham  Custom House  51.507600    0.02970               1   \n",
       "\n",
       "  1st Most Common Venue 2nd Most Common Venue 3rd Most Common Venue  \\\n",
       "0                  food                travel        parks_outdoors   \n",
       "1                  food                travel        parks_outdoors   \n",
       "4                  food                travel        parks_outdoors   \n",
       "6                  food                travel        parks_outdoors   \n",
       "\n",
       "  4th Most Common Venue 5th Most Common Venue  \n",
       "0    arts_entertainment                 shops  \n",
       "1    arts_entertainment                 shops  \n",
       "4              building                 shops  \n",
       "6             nightlife    arts_entertainment  "
      ]
     },
     "execution_count": 34,
     "metadata": {},
     "output_type": "execute_result"
    }
   ],
   "source": [
    "London_neig_merged.loc[London_neig_merged['Cluster Labels']==1,:]"
   ]
  },
  {
   "cell_type": "code",
   "execution_count": 35,
   "metadata": {},
   "outputs": [
    {
     "name": "stdout",
     "output_type": "stream",
     "text": [
      "Cluster 3: \n"
     ]
    }
   ],
   "source": [
    "print ('Cluster 3: ')"
   ]
  },
  {
   "cell_type": "code",
   "execution_count": 36,
   "metadata": {},
   "outputs": [
    {
     "data": {
      "text/html": [
       "<div>\n",
       "<style scoped>\n",
       "    .dataframe tbody tr th:only-of-type {\n",
       "        vertical-align: middle;\n",
       "    }\n",
       "\n",
       "    .dataframe tbody tr th {\n",
       "        vertical-align: top;\n",
       "    }\n",
       "\n",
       "    .dataframe thead th {\n",
       "        text-align: right;\n",
       "    }\n",
       "</style>\n",
       "<table border=\"1\" class=\"dataframe\">\n",
       "  <thead>\n",
       "    <tr style=\"text-align: right;\">\n",
       "      <th></th>\n",
       "      <th>Borough</th>\n",
       "      <th>Neighbourhood</th>\n",
       "      <th>Latitude</th>\n",
       "      <th>Longitude</th>\n",
       "      <th>Cluster Labels</th>\n",
       "      <th>1st Most Common Venue</th>\n",
       "      <th>2nd Most Common Venue</th>\n",
       "      <th>3rd Most Common Venue</th>\n",
       "      <th>4th Most Common Venue</th>\n",
       "      <th>5th Most Common Venue</th>\n",
       "    </tr>\n",
       "  </thead>\n",
       "  <tbody>\n",
       "    <tr>\n",
       "      <td>12</td>\n",
       "      <td>Newham</td>\n",
       "      <td>North Woolwich</td>\n",
       "      <td>51.501</td>\n",
       "      <td>0.058</td>\n",
       "      <td>2</td>\n",
       "      <td>travel</td>\n",
       "      <td>food</td>\n",
       "      <td>shops</td>\n",
       "      <td>parks_outdoors</td>\n",
       "      <td>nightlife</td>\n",
       "    </tr>\n",
       "  </tbody>\n",
       "</table>\n",
       "</div>"
      ],
      "text/plain": [
       "   Borough   Neighbourhood  Latitude  Longitude  Cluster Labels  \\\n",
       "12  Newham  North Woolwich    51.501      0.058               2   \n",
       "\n",
       "   1st Most Common Venue 2nd Most Common Venue 3rd Most Common Venue  \\\n",
       "12                travel                  food                 shops   \n",
       "\n",
       "   4th Most Common Venue 5th Most Common Venue  \n",
       "12        parks_outdoors             nightlife  "
      ]
     },
     "execution_count": 36,
     "metadata": {},
     "output_type": "execute_result"
    }
   ],
   "source": [
    "London_neig_merged.loc[London_neig_merged['Cluster Labels']==2,:]"
   ]
  },
  {
   "cell_type": "code",
   "execution_count": 37,
   "metadata": {},
   "outputs": [
    {
     "name": "stdout",
     "output_type": "stream",
     "text": [
      "Cluster 4: \n"
     ]
    }
   ],
   "source": [
    "print('Cluster 4: ')"
   ]
  },
  {
   "cell_type": "code",
   "execution_count": 38,
   "metadata": {},
   "outputs": [
    {
     "data": {
      "text/html": [
       "<div>\n",
       "<style scoped>\n",
       "    .dataframe tbody tr th:only-of-type {\n",
       "        vertical-align: middle;\n",
       "    }\n",
       "\n",
       "    .dataframe tbody tr th {\n",
       "        vertical-align: top;\n",
       "    }\n",
       "\n",
       "    .dataframe thead th {\n",
       "        text-align: right;\n",
       "    }\n",
       "</style>\n",
       "<table border=\"1\" class=\"dataframe\">\n",
       "  <thead>\n",
       "    <tr style=\"text-align: right;\">\n",
       "      <th></th>\n",
       "      <th>Borough</th>\n",
       "      <th>Neighbourhood</th>\n",
       "      <th>Latitude</th>\n",
       "      <th>Longitude</th>\n",
       "      <th>Cluster Labels</th>\n",
       "      <th>1st Most Common Venue</th>\n",
       "      <th>2nd Most Common Venue</th>\n",
       "      <th>3rd Most Common Venue</th>\n",
       "      <th>4th Most Common Venue</th>\n",
       "      <th>5th Most Common Venue</th>\n",
       "    </tr>\n",
       "  </thead>\n",
       "  <tbody>\n",
       "    <tr>\n",
       "      <td>2</td>\n",
       "      <td>Newham</td>\n",
       "      <td>Maryland</td>\n",
       "      <td>51.545000</td>\n",
       "      <td>-0.002000</td>\n",
       "      <td>3</td>\n",
       "      <td>food</td>\n",
       "      <td>shops</td>\n",
       "      <td>arts_entertainment</td>\n",
       "      <td>nightlife</td>\n",
       "      <td>travel</td>\n",
       "    </tr>\n",
       "    <tr>\n",
       "      <td>3</td>\n",
       "      <td>Newham</td>\n",
       "      <td>Manor Park</td>\n",
       "      <td>51.550330</td>\n",
       "      <td>0.056219</td>\n",
       "      <td>3</td>\n",
       "      <td>food</td>\n",
       "      <td>shops</td>\n",
       "      <td>parks_outdoors</td>\n",
       "      <td>travel</td>\n",
       "      <td>nightlife</td>\n",
       "    </tr>\n",
       "    <tr>\n",
       "      <td>7</td>\n",
       "      <td>Newham</td>\n",
       "      <td>Stratford</td>\n",
       "      <td>51.542300</td>\n",
       "      <td>-0.002560</td>\n",
       "      <td>3</td>\n",
       "      <td>food</td>\n",
       "      <td>shops</td>\n",
       "      <td>nightlife</td>\n",
       "      <td>arts_entertainment</td>\n",
       "      <td>travel</td>\n",
       "    </tr>\n",
       "    <tr>\n",
       "      <td>9</td>\n",
       "      <td>Newham</td>\n",
       "      <td>Upton Park</td>\n",
       "      <td>51.533043</td>\n",
       "      <td>0.036472</td>\n",
       "      <td>3</td>\n",
       "      <td>shops</td>\n",
       "      <td>food</td>\n",
       "      <td>travel</td>\n",
       "      <td>nightlife</td>\n",
       "      <td>building</td>\n",
       "    </tr>\n",
       "    <tr>\n",
       "      <td>10</td>\n",
       "      <td>Newham</td>\n",
       "      <td>Upton Park</td>\n",
       "      <td>51.535072</td>\n",
       "      <td>0.041972</td>\n",
       "      <td>3</td>\n",
       "      <td>shops</td>\n",
       "      <td>food</td>\n",
       "      <td>travel</td>\n",
       "      <td>nightlife</td>\n",
       "      <td>building</td>\n",
       "    </tr>\n",
       "    <tr>\n",
       "      <td>11</td>\n",
       "      <td>Newham</td>\n",
       "      <td>Forest Gate</td>\n",
       "      <td>51.550832</td>\n",
       "      <td>0.027390</td>\n",
       "      <td>3</td>\n",
       "      <td>food</td>\n",
       "      <td>shops</td>\n",
       "      <td>travel</td>\n",
       "      <td>nightlife</td>\n",
       "      <td>parks_outdoors</td>\n",
       "    </tr>\n",
       "    <tr>\n",
       "      <td>14</td>\n",
       "      <td>Newham</td>\n",
       "      <td>East Ham</td>\n",
       "      <td>51.532300</td>\n",
       "      <td>0.055400</td>\n",
       "      <td>3</td>\n",
       "      <td>shops</td>\n",
       "      <td>food</td>\n",
       "      <td>parks_outdoors</td>\n",
       "      <td>nightlife</td>\n",
       "      <td>building</td>\n",
       "    </tr>\n",
       "    <tr>\n",
       "      <td>15</td>\n",
       "      <td>Newham</td>\n",
       "      <td>Little Ilford</td>\n",
       "      <td>51.550900</td>\n",
       "      <td>0.054900</td>\n",
       "      <td>3</td>\n",
       "      <td>food</td>\n",
       "      <td>shops</td>\n",
       "      <td>building</td>\n",
       "      <td>travel</td>\n",
       "      <td>parks_outdoors</td>\n",
       "    </tr>\n",
       "  </tbody>\n",
       "</table>\n",
       "</div>"
      ],
      "text/plain": [
       "   Borough  Neighbourhood   Latitude  Longitude  Cluster Labels  \\\n",
       "2   Newham       Maryland  51.545000  -0.002000               3   \n",
       "3   Newham     Manor Park  51.550330   0.056219               3   \n",
       "7   Newham      Stratford  51.542300  -0.002560               3   \n",
       "9   Newham     Upton Park  51.533043   0.036472               3   \n",
       "10  Newham     Upton Park  51.535072   0.041972               3   \n",
       "11  Newham    Forest Gate  51.550832   0.027390               3   \n",
       "14  Newham       East Ham  51.532300   0.055400               3   \n",
       "15  Newham  Little Ilford  51.550900   0.054900               3   \n",
       "\n",
       "   1st Most Common Venue 2nd Most Common Venue 3rd Most Common Venue  \\\n",
       "2                   food                 shops    arts_entertainment   \n",
       "3                   food                 shops        parks_outdoors   \n",
       "7                   food                 shops             nightlife   \n",
       "9                  shops                  food                travel   \n",
       "10                 shops                  food                travel   \n",
       "11                  food                 shops                travel   \n",
       "14                 shops                  food        parks_outdoors   \n",
       "15                  food                 shops              building   \n",
       "\n",
       "   4th Most Common Venue 5th Most Common Venue  \n",
       "2              nightlife                travel  \n",
       "3                 travel             nightlife  \n",
       "7     arts_entertainment                travel  \n",
       "9              nightlife              building  \n",
       "10             nightlife              building  \n",
       "11             nightlife        parks_outdoors  \n",
       "14             nightlife              building  \n",
       "15                travel        parks_outdoors  "
      ]
     },
     "execution_count": 38,
     "metadata": {},
     "output_type": "execute_result"
    }
   ],
   "source": [
    "London_neig_merged.loc[London_neig_merged['Cluster Labels']==3,:]"
   ]
  },
  {
   "cell_type": "code",
   "execution_count": 39,
   "metadata": {},
   "outputs": [
    {
     "name": "stdout",
     "output_type": "stream",
     "text": [
      "Cluster 5:\n"
     ]
    }
   ],
   "source": [
    "print('Cluster 5:')"
   ]
  },
  {
   "cell_type": "code",
   "execution_count": 40,
   "metadata": {},
   "outputs": [
    {
     "data": {
      "text/html": [
       "<div>\n",
       "<style scoped>\n",
       "    .dataframe tbody tr th:only-of-type {\n",
       "        vertical-align: middle;\n",
       "    }\n",
       "\n",
       "    .dataframe tbody tr th {\n",
       "        vertical-align: top;\n",
       "    }\n",
       "\n",
       "    .dataframe thead th {\n",
       "        text-align: right;\n",
       "    }\n",
       "</style>\n",
       "<table border=\"1\" class=\"dataframe\">\n",
       "  <thead>\n",
       "    <tr style=\"text-align: right;\">\n",
       "      <th></th>\n",
       "      <th>Borough</th>\n",
       "      <th>Neighbourhood</th>\n",
       "      <th>Latitude</th>\n",
       "      <th>Longitude</th>\n",
       "      <th>Cluster Labels</th>\n",
       "      <th>1st Most Common Venue</th>\n",
       "      <th>2nd Most Common Venue</th>\n",
       "      <th>3rd Most Common Venue</th>\n",
       "      <th>4th Most Common Venue</th>\n",
       "      <th>5th Most Common Venue</th>\n",
       "    </tr>\n",
       "  </thead>\n",
       "  <tbody>\n",
       "    <tr>\n",
       "      <td>5</td>\n",
       "      <td>Newham</td>\n",
       "      <td>Beckton</td>\n",
       "      <td>51.5146</td>\n",
       "      <td>0.0673</td>\n",
       "      <td>4</td>\n",
       "      <td>shops</td>\n",
       "      <td>travel</td>\n",
       "      <td>nightlife</td>\n",
       "      <td>building</td>\n",
       "      <td>parks_outdoors</td>\n",
       "    </tr>\n",
       "  </tbody>\n",
       "</table>\n",
       "</div>"
      ],
      "text/plain": [
       "  Borough Neighbourhood  Latitude  Longitude  Cluster Labels  \\\n",
       "5  Newham       Beckton   51.5146     0.0673               4   \n",
       "\n",
       "  1st Most Common Venue 2nd Most Common Venue 3rd Most Common Venue  \\\n",
       "5                 shops                travel             nightlife   \n",
       "\n",
       "  4th Most Common Venue 5th Most Common Venue  \n",
       "5              building        parks_outdoors  "
      ]
     },
     "execution_count": 40,
     "metadata": {},
     "output_type": "execute_result"
    }
   ],
   "source": [
    "London_neig_merged.loc[London_neig_merged['Cluster Labels']==4,:]"
   ]
  },
  {
   "cell_type": "code",
   "execution_count": 41,
   "metadata": {},
   "outputs": [],
   "source": [
    "x=[]\n",
    "y=[]\n",
    "for ii in range(kclusters):\n",
    "    x.append(London_neig_merged.loc[London_neig_merged['Cluster Labels']==ii,:]['Latitude'].mean())\n",
    "    y.append(London_neig_merged.loc[London_neig_merged['Cluster Labels']==ii,:]['Longitude'].mean())\n",
    "Centroids_N052=np.empty([kclusters,2])                                         \n",
    "Centroids_N052=pd.DataFrame(Centroids_N052, columns=['x-Latitude','y-Longitude']) \n",
    "Centroids_N052['x-Latitude']=x\n",
    "Centroids_N052['y-Longitude']=y\n",
    "Centroids_N052.to_excel('/home/sedna/Downloads/PROJECT-COURSERA-CAPSTONE/RESULTS/Centroids_N052.xlsx')"
   ]
  },
  {
   "cell_type": "code",
   "execution_count": 42,
   "metadata": {},
   "outputs": [
    {
     "data": {
      "text/html": [
       "<div>\n",
       "<style scoped>\n",
       "    .dataframe tbody tr th:only-of-type {\n",
       "        vertical-align: middle;\n",
       "    }\n",
       "\n",
       "    .dataframe tbody tr th {\n",
       "        vertical-align: top;\n",
       "    }\n",
       "\n",
       "    .dataframe thead th {\n",
       "        text-align: right;\n",
       "    }\n",
       "</style>\n",
       "<table border=\"1\" class=\"dataframe\">\n",
       "  <thead>\n",
       "    <tr style=\"text-align: right;\">\n",
       "      <th></th>\n",
       "      <th>x-Latitude</th>\n",
       "      <th>y-Longitude</th>\n",
       "    </tr>\n",
       "  </thead>\n",
       "  <tbody>\n",
       "    <tr>\n",
       "      <td>0</td>\n",
       "      <td>51.507500</td>\n",
       "      <td>0.028000</td>\n",
       "    </tr>\n",
       "    <tr>\n",
       "      <td>1</td>\n",
       "      <td>51.468149</td>\n",
       "      <td>0.017927</td>\n",
       "    </tr>\n",
       "    <tr>\n",
       "      <td>2</td>\n",
       "      <td>51.501000</td>\n",
       "      <td>0.058000</td>\n",
       "    </tr>\n",
       "    <tr>\n",
       "      <td>3</td>\n",
       "      <td>51.542472</td>\n",
       "      <td>0.033474</td>\n",
       "    </tr>\n",
       "    <tr>\n",
       "      <td>4</td>\n",
       "      <td>51.514600</td>\n",
       "      <td>0.067300</td>\n",
       "    </tr>\n",
       "  </tbody>\n",
       "</table>\n",
       "</div>"
      ],
      "text/plain": [
       "   x-Latitude  y-Longitude\n",
       "0   51.507500     0.028000\n",
       "1   51.468149     0.017927\n",
       "2   51.501000     0.058000\n",
       "3   51.542472     0.033474\n",
       "4   51.514600     0.067300"
      ]
     },
     "execution_count": 42,
     "metadata": {},
     "output_type": "execute_result"
    }
   ],
   "source": [
    "Centroids_N052"
   ]
  },
  {
   "cell_type": "code",
   "execution_count": 43,
   "metadata": {},
   "outputs": [
    {
     "data": {
      "text/html": [
       "<div>\n",
       "<style scoped>\n",
       "    .dataframe tbody tr th:only-of-type {\n",
       "        vertical-align: middle;\n",
       "    }\n",
       "\n",
       "    .dataframe tbody tr th {\n",
       "        vertical-align: top;\n",
       "    }\n",
       "\n",
       "    .dataframe thead th {\n",
       "        text-align: right;\n",
       "    }\n",
       "</style>\n",
       "<table border=\"1\" class=\"dataframe\">\n",
       "  <thead>\n",
       "    <tr style=\"text-align: right;\">\n",
       "      <th></th>\n",
       "      <th>0</th>\n",
       "      <th>1</th>\n",
       "      <th>2</th>\n",
       "      <th>3</th>\n",
       "      <th>4</th>\n",
       "    </tr>\n",
       "  </thead>\n",
       "  <tbody>\n",
       "    <tr>\n",
       "      <td>arts_entertainment</td>\n",
       "      <td>0</td>\n",
       "      <td>0</td>\n",
       "      <td>0</td>\n",
       "      <td>0</td>\n",
       "      <td>0</td>\n",
       "    </tr>\n",
       "    <tr>\n",
       "      <td>building</td>\n",
       "      <td>0</td>\n",
       "      <td>0</td>\n",
       "      <td>0</td>\n",
       "      <td>0</td>\n",
       "      <td>0</td>\n",
       "    </tr>\n",
       "    <tr>\n",
       "      <td>education</td>\n",
       "      <td>0</td>\n",
       "      <td>0</td>\n",
       "      <td>0</td>\n",
       "      <td>0</td>\n",
       "      <td>0</td>\n",
       "    </tr>\n",
       "    <tr>\n",
       "      <td>event</td>\n",
       "      <td>0</td>\n",
       "      <td>0</td>\n",
       "      <td>0</td>\n",
       "      <td>0</td>\n",
       "      <td>0</td>\n",
       "    </tr>\n",
       "    <tr>\n",
       "      <td>food</td>\n",
       "      <td>0</td>\n",
       "      <td>4</td>\n",
       "      <td>0</td>\n",
       "      <td>5</td>\n",
       "      <td>0</td>\n",
       "    </tr>\n",
       "    <tr>\n",
       "      <td>nightlife</td>\n",
       "      <td>0</td>\n",
       "      <td>0</td>\n",
       "      <td>0</td>\n",
       "      <td>0</td>\n",
       "      <td>0</td>\n",
       "    </tr>\n",
       "    <tr>\n",
       "      <td>parks_outdoors</td>\n",
       "      <td>0</td>\n",
       "      <td>0</td>\n",
       "      <td>0</td>\n",
       "      <td>0</td>\n",
       "      <td>0</td>\n",
       "    </tr>\n",
       "    <tr>\n",
       "      <td>shops</td>\n",
       "      <td>2</td>\n",
       "      <td>0</td>\n",
       "      <td>0</td>\n",
       "      <td>3</td>\n",
       "      <td>1</td>\n",
       "    </tr>\n",
       "    <tr>\n",
       "      <td>travel</td>\n",
       "      <td>0</td>\n",
       "      <td>0</td>\n",
       "      <td>1</td>\n",
       "      <td>0</td>\n",
       "      <td>0</td>\n",
       "    </tr>\n",
       "  </tbody>\n",
       "</table>\n",
       "</div>"
      ],
      "text/plain": [
       "                    0  1  2  3  4\n",
       "arts_entertainment  0  0  0  0  0\n",
       "building            0  0  0  0  0\n",
       "education           0  0  0  0  0\n",
       "event               0  0  0  0  0\n",
       "food                0  4  0  5  0\n",
       "nightlife           0  0  0  0  0\n",
       "parks_outdoors      0  0  0  0  0\n",
       "shops               2  0  0  3  1\n",
       "travel              0  0  1  0  0"
      ]
     },
     "execution_count": 43,
     "metadata": {},
     "output_type": "execute_result"
    }
   ],
   "source": [
    "features=London_neig_grouped_clustering.columns.tolist()\n",
    "# clustering purity \n",
    "score=pd.DataFrame(index=features,columns=range(kclusters))\n",
    "\n",
    "for ii in range(kclusters):\n",
    "           pp=London_neig_merged.loc[London_neig_merged['Cluster Labels']==ii,:].\\\n",
    "                        groupby(\"1st Most Common Venue\").count()['Neighbourhood']\n",
    "           for nn in range(len(features)):\n",
    "                try: \n",
    "                    score.loc[features[nn],ii]=pp.loc[features[nn]]\n",
    "                except:\n",
    "                    score.loc[features[nn],ii]=0\n",
    "score"
   ]
  },
  {
   "cell_type": "code",
   "execution_count": 44,
   "metadata": {},
   "outputs": [],
   "source": [
    "p_score=score.max().sum()/score.sum().sum()\n",
    "p_score=pd.Series(p_score,index=[kclusters+1])\n",
    "kclusters_N052=kclusters_N052.append(p_score)"
   ]
  },
  {
   "cell_type": "code",
   "execution_count": 45,
   "metadata": {},
   "outputs": [
    {
     "data": {
      "text/plain": [
       "0    2.000000\n",
       "1    3.000000\n",
       "2    1.000000\n",
       "3    7.000000\n",
       "4    1.000000\n",
       "5    0.263582\n",
       "6    0.812500\n",
       "dtype: float64"
      ]
     },
     "execution_count": 45,
     "metadata": {},
     "output_type": "execute_result"
    }
   ],
   "source": [
    "kclusters_N052.to_excel('/home/sedna/Downloads/PROJECT-COURSERA-CAPSTONE/RESULTS/Kclusters_N052.xlsx')\n",
    "kclusters_N052"
   ]
  }
 ],
 "metadata": {
  "kernelspec": {
   "display_name": "Python 3",
   "language": "python",
   "name": "python3"
  },
  "language_info": {
   "codemirror_mode": {
    "name": "ipython",
    "version": 3
   },
   "file_extension": ".py",
   "mimetype": "text/x-python",
   "name": "python",
   "nbconvert_exporter": "python",
   "pygments_lexer": "ipython3",
   "version": "3.7.3"
  }
 },
 "nbformat": 4,
 "nbformat_minor": 2
}

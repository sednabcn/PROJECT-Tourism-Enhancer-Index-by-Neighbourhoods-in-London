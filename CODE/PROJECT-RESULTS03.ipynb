{
 "cells": [
  {
   "cell_type": "markdown",
   "metadata": {},
   "source": [
    "Import libraries"
   ]
  },
  {
   "cell_type": "code",
   "execution_count": 1,
   "metadata": {
    "scrolled": false
   },
   "outputs": [
    {
     "name": "stdout",
     "output_type": "stream",
     "text": [
      "Libraries imported.\n"
     ]
    }
   ],
   "source": [
    "import pandas as pd\n",
    "import numpy as np # library to handle data in a vectorized manner\n",
    "import random\n",
    "\n",
    "import geopy\n",
    "from geopy.geocoders import Nominatim # convert an address into latitude and longitude values\n",
    "\n",
    "import requests # library to handle requests\n",
    "from pandas.io.json import json_normalize # tranform JSON file into a pandas dataframe\n",
    "\n",
    "# Matplotlib and associated plotting modules\n",
    "import matplotlib.pyplot as plt\n",
    "import matplotlib.cm as cm\n",
    "from matplotlib import colors as mcolors\n",
    "from scipy import stats\n",
    "\n",
    "# import k-means from clustering stage\n",
    "from sklearn.preprocessing import MinMaxScaler,StandardScaler\n",
    "from sklearn.cluster import KMeans\n",
    "import folium # map rendering library\n",
    "from folium.plugins import HeatMap\n",
    "\n",
    "print('Libraries imported.')\n"
   ]
  },
  {
   "cell_type": "code",
   "execution_count": 2,
   "metadata": {},
   "outputs": [
    {
     "name": "stdout",
     "output_type": "stream",
     "text": [
      "Your credentails:\n",
      "CLIENT_ID: X3INNHZFS0RE4YAMNP5CCG4UVUP4S5K1S4NZIIXKHN2UNXJW\n",
      "CLIENT_SECRET:20EOF0IP0MALLD0RO0MM1QOCLEHXC35L4U3JHMETTEF24YJR\n"
     ]
    }
   ],
   "source": [
    "CLIENT_ID = 'X3INNHZFS0RE4YAMNP5CCG4UVUP4S5K1S4NZIIXKHN2UNXJW' # your Foursquare ID\n",
    "CLIENT_SECRET = '20EOF0IP0MALLD0RO0MM1QOCLEHXC35L4U3JHMETTEF24YJR' # your Foursquare Secret\n",
    "\n",
    "VERSION = '20180605' # Foursquare API version\n",
    "\n",
    "print('Your credentails:')\n",
    "print('CLIENT_ID: ' + CLIENT_ID)\n",
    "print('CLIENT_SECRET:' + CLIENT_SECRET)"
   ]
  },
  {
   "cell_type": "code",
   "execution_count": 3,
   "metadata": {},
   "outputs": [],
   "source": [
    "\n",
    "def get_colors(n):\n",
    "    return list(map(lambda i: \"#\" + \"%06x\" % random.randint(0, 0xFFFFFF),range(n)))"
   ]
  },
  {
   "cell_type": "code",
   "execution_count": 4,
   "metadata": {},
   "outputs": [],
   "source": [
    "def data_features_draw_hist(data,n_bins,nplots,nrows,ncols,Title):\n",
    "            \"\"\"Visualization of statistical distributions.\"\"\"\n",
    "            np.random.seed(19680801)\n",
    "            nbins=25\n",
    "            ntotal=nrows*ncols\n",
    "            df=data\n",
    "            dfs=df.describe()\n",
    "            if nplots <= 7:\n",
    "                colors = [ic for ic in mcolors.BASE_COLORS.values() if ic !=(1,1,1)]\n",
    "            else: \n",
    "                colors=get_colors(nplots)\n",
    "         \n",
    "            columns=df.columns\n",
    "            \n",
    "            fig, axs = plt.subplots(nrows=nrows, ncols=ncols, figsize=(15,15))\n",
    "            fig.set_canvas(plt.gcf().canvas)\n",
    "            \n",
    "         \n",
    "            for ii,axt,color in zip(range(len(columns)),axs.flat[:nplots],colors):\n",
    "                    data=df.iloc[:,ii]\n",
    "                    count,mean,std,min,Q25,Q50,Q75,max=dfs.iloc[:,ii]\n",
    "                    bins=np.linspace(min,max,100)\n",
    "                    axt.hist(data.T, n_bins, density=True, histtype='bar', color=color,label='frequency')\n",
    "                    axt.legend(prop={'size': 10})\n",
    "                    bin_centers = 0.5*(bins[1:] + bins[:-1])\n",
    "                    pdf = stats.norm.pdf(bin_centers,mean,std)\n",
    "                    axt.plot(bin_centers,pdf,color=(0.3,0.5,0.2),lw=2)\n",
    "            \n",
    "                    axt.set_title(df.columns[ii])\n",
    "\n",
    "            for axt in axs.flat[nplots:]:\n",
    "                        axt.axis('off')\n",
    "\n",
    "            plt.suptitle(Title)\n",
    "            fig.tight_layout(rect=[0, 0.03, 1, 0.95])\n",
    "            #fig.tight_layout()\n",
    "            savefig=Title + '.png'\n",
    "            return fig.savefig(savefig),plt.show()\n"
   ]
  },
  {
   "cell_type": "code",
   "execution_count": 5,
   "metadata": {},
   "outputs": [],
   "source": [
    "#Create heatmap with properties\n",
    "def heatmap(address,zoom_start,prop,ii):\n",
    "    geolocator = Nominatim(user_agent=\"to_explorer\",timeout=50)\n",
    "    location = geolocator.geocode(address)\n",
    "    latitude = location.latitude\n",
    "    longitude = location.longitude\n",
    "    prop_heat=prop[prop.columns[ii]].values.tolist()\n",
    "    max_heat=float(prop[prop.columns[ii]].max())\n",
    "    # create map\n",
    "    map_heat= folium.Map(location=[latitude, longitude], zoom_start=zoom_start)\n",
    "    # add markers to the map\n",
    "    map_properties = HeatMap( list(zip(prop.Latitude.values, prop.Longitude.values, prop_heat)),\n",
    "                   min_opacity=0.2,\n",
    "                   max_val=max_heat,\n",
    "                   radius=17, \n",
    "                   blur= 15, \n",
    "                   max_zoom=1, \n",
    "                 ).add_to(map_heat)\n",
    "    \n",
    "    return map_heat\n"
   ]
  },
  {
   "cell_type": "code",
   "execution_count": 6,
   "metadata": {},
   "outputs": [],
   "source": [
    "def frame_from_list(y,xlabel,ylabel,Title,mapping,grid,text,Labels,boxstyle,xticks,yticks):\n",
    "        \"\"\"From dict with orient='index'\"\"\"\n",
    "        \"\"\" y-list of p-matrix of n*2 order \"\"\"\n",
    "        X=[]\n",
    "        Y=[]\n",
    "        Z=[]\n",
    "        for elem in y:\n",
    "            Z.append(elem.index)\n",
    "            if elem.shape[1] > 1:\n",
    "                X.append(elem[elem.columns[0]].values)\n",
    "                Y.append(elem[elem.columns[1]].values)\n",
    "            else:\n",
    "                X.append(elem.index)\n",
    "                Y.append(elem[elem.columns[0]].values)\n",
    "            \n",
    "        maxX=max([r.max() for r in Z])+1\n",
    "        X=pd.DataFrame(X,index=Labels,columns=range(0,maxX)).T\n",
    "        Y=pd.DataFrame(Y,index=Labels,columns=range(0,maxX)).T\n",
    "    \n",
    "        if mapping=='Log':\n",
    "            Title='Log20 '+Title\n",
    "            Y=np.log(np.abs(Y))/np.log(20)\n",
    "        \n",
    "        Title=Title\n",
    "        xlabel=xlabel\n",
    "        ylabel=ylabel\n",
    "        Linestyle=['-','-.','--',':','--','solid','dashed','dashdot','dotted'] \n",
    "        return plot_matrix_matrix(X,Y,Title,xlabel,ylabel,Labels,\\\n",
    "                                            Linestyle,0,mapping,grid,text,boxstyle,xticks,yticks)"
   ]
  },
  {
   "cell_type": "code",
   "execution_count": 7,
   "metadata": {},
   "outputs": [],
   "source": [
    "def kmeans_clustering_evaluation(y,xlabel,ylabel,Title,mapping,grid,text,Labels,boxstyle,xticks,yticks):\n",
    "        \"\"\"From dict with orient='index'\"\"\"\n",
    "        \"\"\" y-list of p-matrix of n*2 order \"\"\"\n",
    "\n",
    "        R=[]\n",
    "        Z=[]\n",
    "        S=[]\n",
    "        P=[]\n",
    "        for elem in y:\n",
    "            Z.append(elem.index)\n",
    "            R.append(elem[elem.columns[0]][:-2].values)\n",
    "            # Silhouette coefficient\n",
    "            S.append(elem.loc[elem.index[-2],elem.columns[0]])   \n",
    "            P.append(elem.loc[elem.index[-1],elem.columns[0]]) \n",
    "        maxZ=max([r.max() for r in Z])-1\n",
    "    \n",
    "        # Compute entropy associated to clustering\n",
    "        Y=pd.DataFrame(R,columns=range(0,maxZ)).T\n",
    "        W=Y/Y.sum()\n",
    "        W=W.fillna(1)\n",
    "        Y=W.apply(lambda x:-sum(x*np.log(x)/np.log(2))) \n",
    "        P=pd.DataFrame(P, columns=['Purity'])\n",
    "        S=pd.DataFrame(S,columns=['Silhouette coef'])\n",
    "        Y=pd.DataFrame(Y, columns=['Entropy'])\n",
    "        Y=pd.concat([Y,S,P],axis=1)\n",
    "    \n",
    "        # build X\n",
    "        m,n=Y.shape\n",
    "        X=np.array(np.ones((m,n)))\n",
    "        X=np.array(X)\n",
    "        X=pd.DataFrame(X)\n",
    "\n",
    "        X.loc[0,:]=0\n",
    "        X=np.cumsum(X)\n",
    "        \n",
    "        \n",
    "        if mapping=='Log':\n",
    "            Title='Log20 '+Title\n",
    "            Y=np.log(np.abs(Y))/np.log(20)\n",
    "        if mapping =='XLog':\n",
    "            X=np.log(np.abs(X))/np.log(20)\n",
    "            xlabel='Log20'+ xlabel\n",
    "            \n",
    "        Title=Title\n",
    "        xlabel=xlabel\n",
    "        ylabel=ylabel\n",
    "        Linestyle=['-','-.','--',':','--','solid','dashed','dashdot','dotted'] \n",
    "\n",
    "        return Y,plot_matrix_matrix(X,Y,Title,xlabel,ylabel,Labels,Linestyle,0,mapping,grid,text,boxstyle,xticks,yticks)\n",
    "    "
   ]
  },
  {
   "cell_type": "code",
   "execution_count": 8,
   "metadata": {},
   "outputs": [],
   "source": [
    "def plot_matrix_matrix(X,Y,Title,xlabel,ylabel,Labels,\\\n",
    "                           Linestyle,kind,scale,grid,text,boxstyle,xticks,yticks):\n",
    "        \"\"\"Draw matrix vs matrix.\"\"\"\n",
    "        \"\"\"\n",
    "        kind of graphic\n",
    "        0-plot\n",
    "        1-scatter\n",
    "        2-stem\n",
    "        scale of plot\n",
    "        'equal'\n",
    "        'Log'\n",
    "        'semilogy'\n",
    "        'semilogx'\n",
    "        'Loglog'\n",
    "        \"\"\"\n",
    "        import matplotlib.pyplot as plt\n",
    "        from matplotlib import colors as mcolors\n",
    "        # colors for grahics with matplolib and plotly\n",
    "        \n",
    "        colors = [ic for ic in mcolors.BASE_COLORS.values() if ic !=(1,1,1)]\n",
    "        keys   = [kc  for kc in mcolors.BASE_COLORS.keys() if mcolors.BASE_COLORS[kc]!=(1,1,1)]\n",
    "\n",
    "        \"\"\"\n",
    "        Checking orders of matrices\n",
    "        \"\"\"\n",
    "        if (X.shape[0]!=Y.shape[0] or X.shape[1]!=Y.shape[1]):\n",
    "                    print(\"These matrices are not equal order\")\n",
    "    \n",
    "        Y.iloc[1,:] \n",
    "        idx=[X.iloc[:,i].argsort() for i in range(X.shape[1])]\n",
    "        plt.figure()\n",
    "        ax=plt.subplot(1,1,1)\n",
    "        for i,linestyle in enumerate(Linestyle):\n",
    "            if i in range(X.shape[1]):\n",
    "                label=Labels[i]\n",
    "\n",
    "                if kind==0 :\n",
    "                    if scale=='equal' or 'Log':\n",
    "                        ax.plot(X.iloc[idx[i],i],Y.iloc[idx[i],i],linestyle=linestyle,linewidth=1.5,label=label,color=colors[i])\n",
    "                        if len(xticks) > 0:\n",
    "                            ax.set_xticks(range(len(xticks)))\n",
    "                            ax.set_xticklabels(xticks)\n",
    "                            ax.xaxis.set_ticks_position('bottom')\n",
    "                        if len(yticks) > 0: \n",
    "                            ax.set_yticks(range(len(yticks)))\n",
    "                            ax.set_yticklabels(yticks)\n",
    "                    elif scale=='semilogy':\n",
    "                            ax.semilogy(X.iloc[idx[i],i],Y.iloc[idx[i],i],linestyle=linestyle,linewidth=1.5,label=label,color=colors[i])\n",
    "                    elif scale =='semilogx':\n",
    "                            ax.semilogx(X.iloc[idx[i],i],Y.iloc[idx[i],i],linestyle=linestyle,linewidth=1.5,label=label,color=colors[i])\n",
    "                    elif scale =='Loglog':\n",
    "                            ax.loglog(X.iloc[idx[i],i],Y.iloc[idx[i],i],linestyle=linestyle,linewidth=1.5,label=label,color=colors[i])\n",
    "                    else:\n",
    "                         pass\n",
    "                elif kind==1:\n",
    "                      ax.scatter(X.iloc[idx[i],i],Y.iloc[idx[i],i],marker=linestyle,label=label,color=colors[i])\n",
    "                elif kind==2:\n",
    "                    markerline, stemlines, baseline = ax.stem(X.iloc[idx[i],i],Y.iloc[idx[i],i],'-.',\\\n",
    "                                                             markerfmt=keys[i]+'o',label=label)\n",
    "                   #ax.setp(baseline, color='r', linewidth=1.5)\n",
    "                else:\n",
    "                    pass\n",
    "            else:\n",
    "                pass\n",
    "\n",
    "        ax.legend(prop={'size':10})\n",
    "        plt.xlabel(xlabel)\n",
    "        plt.ylabel(ylabel)\n",
    "        plt.title(Title)\n",
    "        plt.tight_layout(rect=[0, 0, 1, 1])\n",
    "        plt.grid(grid)\n",
    "        plt.grid(color=colors[0],linestyle='',linewidth='1')\n",
    "        if len(text)>0:\n",
    "              plt.text(0.1, 85.0,text,\\\n",
    "                     {'color': 'k', 'fontsize':10, 'ha': 'left', 'va': 'center',\\\n",
    "                      'bbox': dict(boxstyle=str(boxstyle), fc=\"w\", ec=\"k\", pad=0.3)})\n",
    "\n",
    "        return plt.show()"
   ]
  },
  {
   "cell_type": "code",
   "execution_count": 9,
   "metadata": {},
   "outputs": [],
   "source": [
    "boroughs=pd.read_csv(\"/home/sedna/Downloads/PROJECT-COURSERA-CAPSTONE/DATA/Boroughs_london.csv\",index_col=0)"
   ]
  },
  {
   "cell_type": "markdown",
   "metadata": {},
   "source": [
    "Neighbourhoods"
   ]
  },
  {
   "cell_type": "code",
   "execution_count": 10,
   "metadata": {},
   "outputs": [],
   "source": [
    "neighbourhoods=pd.read_csv('/home/sedna/Downloads/PROJECT-COURSERA-CAPSTONE/DATA/neighbourhoods_london.csv',index_col=0)"
   ]
  },
  {
   "cell_type": "markdown",
   "metadata": {},
   "source": [
    "Centroids\n"
   ]
  },
  {
   "cell_type": "code",
   "execution_count": 11,
   "metadata": {},
   "outputs": [],
   "source": [
    "Centroids_N03=pd.read_excel('/home/sedna/Downloads/PROJECT-COURSERA-CAPSTONE/RESULTS/Centroids_N03.xlsx',index_col=0)\n",
    "Centroids_b03=pd.read_excel('/home/sedna/Downloads/PROJECT-COURSERA-CAPSTONE/RESULTS/Centroids_b03.xlsx',index_col=0)\n",
    "Centroids_N031=pd.read_excel('/home/sedna/Downloads/PROJECT-COURSERA-CAPSTONE/RESULTS/Centroids_N031.xlsx',index_col=0)\n",
    "Centroids_N032=pd.read_excel('/home/sedna/Downloads/PROJECT-COURSERA-CAPSTONE/RESULTS/Centroids_N032.xlsx',index_col=0)\n",
    "Centroids_N033=pd.read_excel('/home/sedna/Downloads/PROJECT-COURSERA-CAPSTONE/RESULTS/Centroids_N033.xlsx',index_col=0)\n",
    "Centroids_N034=pd.read_excel('/home/sedna/Downloads/PROJECT-COURSERA-CAPSTONE/RESULTS/Centroids_N034.xlsx',index_col=0)\n",
    "Centroids_N035=pd.read_excel('/home/sedna/Downloads/PROJECT-COURSERA-CAPSTONE/RESULTS/Centroids_N035.xlsx',index_col=0)"
   ]
  },
  {
   "cell_type": "code",
   "execution_count": 12,
   "metadata": {},
   "outputs": [],
   "source": [
    "Centroids=[Centroids_N03,Centroids_b03,Centroids_N031,Centroids_N032,Centroids_N033,Centroids_N034,Centroids_N035]"
   ]
  },
  {
   "cell_type": "code",
   "execution_count": 13,
   "metadata": {},
   "outputs": [
    {
     "data": {
      "image/png": "[encoded data removed]",
      "text/plain": [
       "<Figure size 432x288 with 1 Axes>"
      ]
     },
     "metadata": {
      "needs_background": "light"
     },
     "output_type": "display_data"
    }
   ],
   "source": [
    "#code to graph a list of dataframes\n",
    "y=Centroids\n",
    "xlabel='Latitude'\n",
    "ylabel='Longitude'\n",
    "Title='Centroids curve for Boroughs-Neighbourhoods Clusters'\n",
    "mapping='equal'\n",
    "grid='False'\n",
    "text=''\n",
    "Labels=['N03','b03','bN01','bN02','bN03','bN04','bN05']\n",
    "boxstyle='square'\n",
    "xticks=''\n",
    "yticks=''\n",
    "frame_from_list(y,xlabel,ylabel,Title,mapping,grid,text,Labels,boxstyle,xticks,yticks)"
   ]
  },
  {
   "cell_type": "markdown",
   "metadata": {},
   "source": [
    "Kclusters"
   ]
  },
  {
   "cell_type": "code",
   "execution_count": 14,
   "metadata": {},
   "outputs": [],
   "source": [
    "Kclusters_b03=pd.read_excel('/home/sedna/Downloads/PROJECT-COURSERA-CAPSTONE/RESULTS/Kclusters_b03.xlsx',index_col=0)\n",
    "Kclusters_N03=pd.read_excel('/home/sedna/Downloads/PROJECT-COURSERA-CAPSTONE/RESULTS/Kclusters_N03.xlsx',index_col=0)\n",
    "Kclusters_N031=pd.read_excel('/home/sedna/Downloads/PROJECT-COURSERA-CAPSTONE/RESULTS/Kclusters_N031.xlsx',index_col=0)\n",
    "Kclusters_N032=pd.read_excel('/home/sedna/Downloads/PROJECT-COURSERA-CAPSTONE/RESULTS/Kclusters_N032.xlsx',index_col=0)\n",
    "Kclusters_N033=pd.read_excel('/home/sedna/Downloads/PROJECT-COURSERA-CAPSTONE/RESULTS/Kclusters_N033.xlsx',index_col=0)\n",
    "Kclusters_N034=pd.read_excel('/home/sedna/Downloads/PROJECT-COURSERA-CAPSTONE/RESULTS/Kclusters_N034.xlsx',index_col=0)\n",
    "Kclusters_N035=pd.read_excel('/home/sedna/Downloads/PROJECT-COURSERA-CAPSTONE/RESULTS/Kclusters_N035.xlsx',index_col=0)"
   ]
  },
  {
   "cell_type": "code",
   "execution_count": 15,
   "metadata": {},
   "outputs": [],
   "source": [
    "Kclusters=[Kclusters_N03,Kclusters_b03,Kclusters_N031,Kclusters_N032,Kclusters_N033,Kclusters_N034,Kclusters_N035]"
   ]
  },
  {
   "cell_type": "code",
   "execution_count": 16,
   "metadata": {},
   "outputs": [],
   "source": [
    "p=len(Kclusters)"
   ]
  },
  {
   "cell_type": "code",
   "execution_count": 17,
   "metadata": {},
   "outputs": [
    {
     "data": {
      "image/png": "[encoded data removed]",
      "text/plain": [
       "<Figure size 432x288 with 1 Axes>"
      ]
     },
     "metadata": {
      "needs_background": "light"
     },
     "output_type": "display_data"
    }
   ],
   "source": [
    "#code to graph a list of dataframes\n",
    "y=[Kclusters[ii][0:3]/Kclusters[ii][0:3].sum()*100 for ii in range(p)]\n",
    "xlabel='Cluster Labels'\n",
    "ylabel='Cluster Sizes(%)'\n",
    "Title='Clusters Sizes for Boroughs-Neighbourhoods Clustering(kclusters=3)'\n",
    "mapping='equal'\n",
    "grid='False'\n",
    "text=''\n",
    "Labels=['N03','b03','bN01','bN02','bN03','bN04','bN05']\n",
    "boxstyle='square'\n",
    "xticks=range(3)\n",
    "yticks=''\n",
    "frame_from_list(y,xlabel,ylabel,Title,mapping,grid,text,Labels,boxstyle,xticks,yticks)"
   ]
  },
  {
   "cell_type": "code",
   "execution_count": 18,
   "metadata": {},
   "outputs": [
    {
     "data": {
      "image/png": "[encoded data removed]",
      "text/plain": [
       "<Figure size 432x288 with 1 Axes>"
      ]
     },
     "metadata": {
      "needs_background": "light"
     },
     "output_type": "display_data"
    }
   ],
   "source": [
    "#code to evaluate the performance of clustering\n",
    "y=Kclusters\n",
    "xlabel='Clustering '\n",
    "ylabel='Metrics Values'\n",
    "Title=' Clustering Performance Evaluation '\n",
    "mapping='equal'\n",
    "grid='False'\n",
    "text=''\n",
    "Labels=['Entropy','Silhouette coef','Purity']\n",
    "boxstyle='square'\n",
    "xticks=('N03','b03','bN01','bN02','bN03','bN04','bN05')\n",
    "yticks=''\n",
    "Metrics=kmeans_clustering_evaluation(y,xlabel,ylabel,Title,mapping,grid,text,Labels,boxstyle,xticks,yticks)"
   ]
  },
  {
   "cell_type": "code",
   "execution_count": 19,
   "metadata": {},
   "outputs": [
    {
     "data": {
      "text/html": [
       "<div>\n",
       "<style scoped>\n",
       "    .dataframe tbody tr th:only-of-type {\n",
       "        vertical-align: middle;\n",
       "    }\n",
       "\n",
       "    .dataframe tbody tr th {\n",
       "        vertical-align: top;\n",
       "    }\n",
       "\n",
       "    .dataframe thead th {\n",
       "        text-align: right;\n",
       "    }\n",
       "</style>\n",
       "<table border=\"1\" class=\"dataframe\">\n",
       "  <thead>\n",
       "    <tr style=\"text-align: right;\">\n",
       "      <th></th>\n",
       "      <th>Entropy</th>\n",
       "      <th>Silhouette coef</th>\n",
       "      <th>Purity</th>\n",
       "    </tr>\n",
       "  </thead>\n",
       "  <tbody>\n",
       "    <tr>\n",
       "      <td>0</td>\n",
       "      <td>1.407517</td>\n",
       "      <td>0.317074</td>\n",
       "      <td>0.843525</td>\n",
       "    </tr>\n",
       "    <tr>\n",
       "      <td>1</td>\n",
       "      <td>1.154648</td>\n",
       "      <td>0.317699</td>\n",
       "      <td>0.878788</td>\n",
       "    </tr>\n",
       "    <tr>\n",
       "      <td>2</td>\n",
       "      <td>1.513253</td>\n",
       "      <td>0.259599</td>\n",
       "      <td>0.778986</td>\n",
       "    </tr>\n",
       "    <tr>\n",
       "      <td>3</td>\n",
       "      <td>1.492614</td>\n",
       "      <td>0.339843</td>\n",
       "      <td>0.750000</td>\n",
       "    </tr>\n",
       "    <tr>\n",
       "      <td>4</td>\n",
       "      <td>1.110034</td>\n",
       "      <td>0.392674</td>\n",
       "      <td>0.878261</td>\n",
       "    </tr>\n",
       "    <tr>\n",
       "      <td>5</td>\n",
       "      <td>1.392147</td>\n",
       "      <td>0.328880</td>\n",
       "      <td>0.800000</td>\n",
       "    </tr>\n",
       "    <tr>\n",
       "      <td>6</td>\n",
       "      <td>1.522190</td>\n",
       "      <td>0.236564</td>\n",
       "      <td>0.758621</td>\n",
       "    </tr>\n",
       "  </tbody>\n",
       "</table>\n",
       "</div>"
      ],
      "text/plain": [
       "    Entropy  Silhouette coef    Purity\n",
       "0  1.407517         0.317074  0.843525\n",
       "1  1.154648         0.317699  0.878788\n",
       "2  1.513253         0.259599  0.778986\n",
       "3  1.492614         0.339843  0.750000\n",
       "4  1.110034         0.392674  0.878261\n",
       "5  1.392147         0.328880  0.800000\n",
       "6  1.522190         0.236564  0.758621"
      ]
     },
     "execution_count": 19,
     "metadata": {},
     "output_type": "execute_result"
    }
   ],
   "source": [
    "# Clustering Performance Evaluation\n",
    "Metrics[0]"
   ]
  },
  {
   "cell_type": "code",
   "execution_count": 20,
   "metadata": {},
   "outputs": [],
   "source": [
    "df=Metrics[0]\n",
    "dg=(df['Silhouette coef']*df['Purity'])/df['Entropy']\n",
    "dg3=pd.DataFrame(dg.values,index=['N03','b03','bN01','bN02','bN03','bN04','bN05'],columns=['kclusters=3'])\n",
    "dg3=dg3.rename(index={'N03':'N','b03':'b'})"
   ]
  },
  {
   "cell_type": "code",
   "execution_count": 21,
   "metadata": {},
   "outputs": [],
   "source": [
    "dg5=pd.read_excel('/home/sedna/Downloads/PROJECT-COURSERA-CAPSTONE/RESULTS/dg5.xlsx',index_col=0)\n",
    "dg5=dg5.rename(index={'N05':'N','b05':'b'})"
   ]
  },
  {
   "cell_type": "code",
   "execution_count": 22,
   "metadata": {},
   "outputs": [
    {
     "data": {
      "text/html": [
       "<div>\n",
       "<style scoped>\n",
       "    .dataframe tbody tr th:only-of-type {\n",
       "        vertical-align: middle;\n",
       "    }\n",
       "\n",
       "    .dataframe tbody tr th {\n",
       "        vertical-align: top;\n",
       "    }\n",
       "\n",
       "    .dataframe thead th {\n",
       "        text-align: right;\n",
       "    }\n",
       "</style>\n",
       "<table border=\"1\" class=\"dataframe\">\n",
       "  <thead>\n",
       "    <tr style=\"text-align: right;\">\n",
       "      <th></th>\n",
       "      <th>kclusters=5</th>\n",
       "      <th>kclusters=3</th>\n",
       "    </tr>\n",
       "  </thead>\n",
       "  <tbody>\n",
       "    <tr>\n",
       "      <td>N</td>\n",
       "      <td>0.071822</td>\n",
       "      <td>0.190022</td>\n",
       "    </tr>\n",
       "    <tr>\n",
       "      <td>b</td>\n",
       "      <td>0.195806</td>\n",
       "      <td>0.241797</td>\n",
       "    </tr>\n",
       "    <tr>\n",
       "      <td>bN01</td>\n",
       "      <td>0.090376</td>\n",
       "      <td>0.133635</td>\n",
       "    </tr>\n",
       "    <tr>\n",
       "      <td>bN02</td>\n",
       "      <td>0.111473</td>\n",
       "      <td>0.170762</td>\n",
       "    </tr>\n",
       "    <tr>\n",
       "      <td>bN03</td>\n",
       "      <td>0.116923</td>\n",
       "      <td>0.310684</td>\n",
       "    </tr>\n",
       "    <tr>\n",
       "      <td>bN04</td>\n",
       "      <td>0.156985</td>\n",
       "      <td>0.188992</td>\n",
       "    </tr>\n",
       "    <tr>\n",
       "      <td>bN05</td>\n",
       "      <td>0.126407</td>\n",
       "      <td>0.117897</td>\n",
       "    </tr>\n",
       "  </tbody>\n",
       "</table>\n",
       "</div>"
      ],
      "text/plain": [
       "      kclusters=5  kclusters=3\n",
       "N        0.071822     0.190022\n",
       "b        0.195806     0.241797\n",
       "bN01     0.090376     0.133635\n",
       "bN02     0.111473     0.170762\n",
       "bN03     0.116923     0.310684\n",
       "bN04     0.156985     0.188992\n",
       "bN05     0.126407     0.117897"
      ]
     },
     "execution_count": 22,
     "metadata": {},
     "output_type": "execute_result"
    }
   ],
   "source": [
    "dg=pd.concat([dg5,dg3],axis=1,sort=True)\n",
    "dg"
   ]
  },
  {
   "cell_type": "code",
   "execution_count": 23,
   "metadata": {},
   "outputs": [
    {
     "data": {
      "image/png": "[encoded data removed]",
      "text/plain": [
       "<Figure size 432x288 with 1 Axes>"
      ]
     },
     "metadata": {
      "needs_background": "light"
     },
     "output_type": "display_data"
    }
   ],
   "source": [
    "dg.plot(title='Clustering Performance Evaluation',color=['b','r'])\n",
    "plt.xlabel('Clustering')\n",
    "plt.ylabel('Non-dimensional Metrics Values')\n",
    "plt.show()"
   ]
  },
  {
   "cell_type": "markdown",
   "metadata": {},
   "source": [
    "Identify each neighbourhood with its Cluster Labels"
   ]
  },
  {
   "cell_type": "markdown",
   "metadata": {},
   "source": [
    "Finally, let's visualize the resulting clusters"
   ]
  },
  {
   "cell_type": "markdown",
   "metadata": {},
   "source": [
    "address = 'London,UK'\n",
    "\n",
    "geolocator = Nominatim(user_agent=\"to_explorer\")\n",
    "location = geolocator.geocode(address)\n",
    "latitude = location.latitude\n",
    "longitude = location.longitude\n",
    "\n",
    "import random\n",
    "\n",
    "# create map\n",
    "map_clusters = folium.Map(location=[latitude, longitude], zoom_start=11)\n",
    "\n",
    "# set color scheme for the clusters\n",
    "\n",
    "colors=get_colors(kclusters)\n",
    "\n",
    "# add markers to the map\n",
    "markers_colors = []\n",
    "for lat, lon, poi, cluster in zip(London_neig_merged['Latitude'], London_neig_merged['Longitude'],\n",
    "                                  London_neig_merged['Neighbourhood'], London_neig_merged['Cluster Labels']):\n",
    "    label = folium.Popup(str(poi) + ' Cluster ' + str(cluster), parse_html=True)\n",
    "    folium.CircleMarker(\n",
    "        [lat, lon],\n",
    "        radius=5,\n",
    "        popup=label,\n",
    "        color=colors[cluster-1],\n",
    "        fill=True,\n",
    "        #fill_colors=colors[cluster-1],\n",
    "        fill_colors='white',\n",
    "        fill_opacity=0.2).add_to(map_clusters)\n",
    "       \n",
    "map_clusters\n"
   ]
  },
  {
   "cell_type": "markdown",
   "metadata": {},
   "source": [
    "map_clusters.save(\"/home/sedna/Downloads/PROJECT-COURSERA-CAPSTONE/RESULTS/map_London_bc05_CLUSTER_05.html\")"
   ]
  },
  {
   "cell_type": "code",
   "execution_count": 24,
   "metadata": {},
   "outputs": [],
   "source": [
    "boroughs_grouped=pd.read_excel(\"/home/sedna/Downloads/PROJECT-COURSERA-CAPSTONE/RESULTS/London_boroughs_grouped.xlsx\", index_col=0)"
   ]
  },
  {
   "cell_type": "code",
   "execution_count": 25,
   "metadata": {},
   "outputs": [],
   "source": [
    "London_neig_grouped=pd.read_csv('/home/sedna/Downloads/PROJECT-COURSERA-CAPSTONE/DATA/london_neig_grouped_CATEGORY_mean.csv', index_col=0)"
   ]
  },
  {
   "cell_type": "code",
   "execution_count": null,
   "metadata": {},
   "outputs": [],
   "source": []
  },
  {
   "cell_type": "code",
   "execution_count": null,
   "metadata": {},
   "outputs": [],
   "source": []
  }
 ],
 "metadata": {
  "kernelspec": {
   "display_name": "Python 3",
   "language": "python",
   "name": "python3"
  },
  "language_info": {
   "codemirror_mode": {
    "name": "ipython",
    "version": 3
   },
   "file_extension": ".py",
   "mimetype": "text/x-python",
   "name": "python",
   "nbconvert_exporter": "python",
   "pygments_lexer": "ipython3",
   "version": "3.7.3"
  }
 },
 "nbformat": 4,
 "nbformat_minor": 2
}

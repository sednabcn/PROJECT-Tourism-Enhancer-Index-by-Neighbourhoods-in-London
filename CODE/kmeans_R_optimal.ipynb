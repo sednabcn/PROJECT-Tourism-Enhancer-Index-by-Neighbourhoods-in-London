{
 "cells": [
  {
   "cell_type": "code",
   "execution_count": 1,
   "metadata": {},
   "outputs": [
    {
     "name": "stderr",
     "output_type": "stream",
     "text": [
      "Installing package into ‘/home/sedna/R/x86_64-pc-linux-gnu-library/3.5’\n",
      "(as ‘lib’ is unspecified)\n"
     ]
    }
   ],
   "source": [
    "pkgs <- c(\"NbClust\")\n",
    "install.packages(pkgs)"
   ]
  },
  {
   "cell_type": "code",
   "execution_count": 2,
   "metadata": {},
   "outputs": [
    {
     "name": "stderr",
     "output_type": "stream",
     "text": [
      "Installing package into ‘/home/sedna/R/x86_64-pc-linux-gnu-library/3.5’\n",
      "(as ‘lib’ is unspecified)\n"
     ]
    }
   ],
   "source": [
    "pkgs<-c(\"factoextra\")\n",
    "install.packages(pkgs)"
   ]
  },
  {
   "cell_type": "code",
   "execution_count": 3,
   "metadata": {},
   "outputs": [
    {
     "name": "stderr",
     "output_type": "stream",
     "text": [
      "Loading required package: ggplot2\n",
      "Welcome! Related Books: `Practical Guide To Cluster Analysis in R` at https://goo.gl/13EFCZ\n"
     ]
    }
   ],
   "source": [
    "library(factoextra)\n",
    "library(NbClust)"
   ]
  },
  {
   "cell_type": "code",
   "execution_count": 4,
   "metadata": {},
   "outputs": [],
   "source": [
    "\n",
    "df<-read.csv('/home/sedna/Downloads/PROJECT-COURSERA-CAPSTONE/DATA/london_neig_grouped_mean.csv')"
   ]
  },
  {
   "cell_type": "code",
   "execution_count": 9,
   "metadata": {},
   "outputs": [
    {
     "ename": "ERROR",
     "evalue": "Error in eval(expr, envir, enclos): '...' used in an incorrect context\n",
     "output_type": "error",
     "traceback": [
      "Error in eval(expr, envir, enclos): '...' used in an incorrect context\nTraceback:\n"
     ]
    }
   ],
   "source": [
    "fviz_nbclust(df, FUNcluster = NULL, method = c(\"wss\"), diss = NULL, k.max = 10, nboot = 100,\n",
    "  verbose = interactive(), barfill = \"steelblue\", barcolor = \"steelblue\",\n",
    "  linecolor = \"steelblue\", print.summary = TRUE, ...)\n"
   ]
  },
  {
   "cell_type": "code",
   "execution_count": 8,
   "metadata": {},
   "outputs": [
    {
     "ename": "ERROR",
     "evalue": "Error in fviz_gap_stat(gap_stat, linecolor = \"steelblue\", maxSE = list(method = \"firstSEmax\", : object 'gap_stat' not found\n",
     "output_type": "error",
     "traceback": [
      "Error in fviz_gap_stat(gap_stat, linecolor = \"steelblue\", maxSE = list(method = \"firstSEmax\", : object 'gap_stat' not found\nTraceback:\n",
      "1. fviz_gap_stat(gap_stat, linecolor = \"steelblue\", maxSE = list(method = \"firstSEmax\", \n .     SE.factor = 1))"
     ]
    }
   ],
   "source": [
    "\n",
    "fviz_gap_stat(gap_stat, linecolor = \"steelblue\", maxSE = list(method =\n",
    "  \"firstSEmax\", SE.factor = 1))"
   ]
  },
  {
   "cell_type": "code",
   "execution_count": 5,
   "metadata": {},
   "outputs": [
    {
     "name": "stderr",
     "output_type": "stream",
     "text": [
      "Warning message in stats::dist(x):\n",
      "“NAs introduced by coercion”Warning message in storage.mode(x) <- \"double\":\n",
      "“NAs introduced by coercion”"
     ]
    },
    {
     "ename": "ERROR",
     "evalue": "Error in do_one(nmeth): NA/NaN/Inf in foreign function call (arg 1)\n",
     "output_type": "error",
     "traceback": [
      "Error in do_one(nmeth): NA/NaN/Inf in foreign function call (arg 1)\nTraceback:\n",
      "1. fviz_nbclust(df, kmeans, method = \"wss\")",
      "2. FUNcluster(x, i, ...)",
      "3. do_one(nmeth)"
     ]
    }
   ],
   "source": [
    "# Elbow method\n",
    "fviz_nbclust(df, kmeans, method = \"wss\") +\n",
    "    geom_vline(xintercept = 4, linetype = 2)+\n",
    "  labs(subtitle = \"Elbow method\")\n",
    "\n",
    "# Silhouette method\n",
    "fviz_nbclust(df, kmeans, method = \"silhouette\")+\n",
    "  labs(subtitle = \"Silhouette method\")\n",
    "\n",
    "# Gap statistic\n",
    "# nboot = 50 to keep the function speedy. \n",
    "# recommended value: nboot= 500 for your analysis.\n",
    "# Use verbose = FALSE to hide computing progression.\n",
    "set.seed(123)\n",
    "fviz_nbclust(df, kmeans, nstart = 25,  method = \"gap_stat\", nboot = 50)+\n",
    "  labs(subtitle = \"Gap statistic method\")"
   ]
  },
  {
   "cell_type": "code",
   "execution_count": null,
   "metadata": {},
   "outputs": [],
   "source": []
  }
 ],
 "metadata": {
  "kernelspec": {
   "display_name": "R",
   "language": "R",
   "name": "ir"
  },
  "language_info": {
   "codemirror_mode": "r",
   "file_extension": ".r",
   "mimetype": "text/x-r-source",
   "name": "R",
   "pygments_lexer": "r",
   "version": "3.5.2"
  }
 },
 "nbformat": 4,
 "nbformat_minor": 2
}

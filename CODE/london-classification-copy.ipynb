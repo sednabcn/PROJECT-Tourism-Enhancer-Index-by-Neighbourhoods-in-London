{
 "cells": [
  {
   "cell_type": "code",
   "execution_count": 1,
   "metadata": {},
   "outputs": [],
   "source": [
    "import pandas as pd\n",
    "import numpy as np # library to handle data in a vectorized manner\n",
    "import geopy\n",
    "from geopy.geocoders import Nominatim # convert an address into latitude and longitude value\n",
    "import folium # map rendering library\n",
    "import re\n",
    "import matplotlib.pyplot as plt\n",
    "from sklearn import metrics\n",
    "from sklearn.model_selection import train_test_split\n",
    "# Importing some classifiers methods\n",
    "from sklearn.linear_model import LogisticRegression\n",
    "from sklearn.discriminant_analysis import LinearDiscriminantAnalysis\n",
    "from sklearn.neighbors import KNeighborsClassifier\n",
    "from sklearn.naive_bayes import GaussianNB\n",
    "from sklearn.tree import DecisionTreeClassifier\n",
    "from sklearn import svm\n",
    "# Metrics for classification\n",
    "from sklearn.metrics import classification_report\n",
    "from sklearn.metrics import confusion_matrix\n",
    "from sklearn.metrics import accuracy_score\n"
   ]
  },
  {
   "cell_type": "code",
   "execution_count": 2,
   "metadata": {},
   "outputs": [
    {
     "name": "stdout",
     "output_type": "stream",
     "text": [
      "Requirement already satisfied: statsmodels in /home/sedna/.local/lib/python3.7/site-packages (0.10.1)\n",
      "Requirement already satisfied: scipy>=0.18 in /usr/local/lib/python3.7/dist-packages (from statsmodels) (1.3.1)\n",
      "Requirement already satisfied: numpy>=1.11 in /usr/local/lib/python3.7/dist-packages (from statsmodels) (1.17.3)\n",
      "Requirement already satisfied: patsy>=0.4.0 in /home/sedna/.local/lib/python3.7/site-packages (from statsmodels) (0.5.1)\n",
      "Requirement already satisfied: pandas>=0.19 in /usr/local/lib/python3.7/dist-packages (from statsmodels) (0.25.1)\n",
      "Requirement already satisfied: six in /usr/lib/python3/dist-packages (from patsy>=0.4.0->statsmodels) (1.12.0)\n",
      "Requirement already satisfied: python-dateutil>=2.6.1 in /usr/lib/python3/dist-packages (from pandas>=0.19->statsmodels) (2.7.3)\n",
      "Requirement already satisfied: pytz>=2017.2 in /usr/lib/python3/dist-packages (from pandas>=0.19->statsmodels) (2018.9)\n"
     ]
    }
   ],
   "source": [
    "! pip install statsmodels --user\n",
    "from statsmodels.stats.outliers_influence import variance_inflation_factor \n",
    "def variance_influence_factors(X,columns,vif_treshold):\n",
    "        \"Analysis of variance influence factors or colinearity\"\n",
    "        X=X.to_numpy()\n",
    "        vif = pd.DataFrame()\n",
    "        vif[\"features\"] =columns\n",
    "        X_vif=np.asarray(X[:,:])\n",
    "        vif[\"VIF Factor\"] = [variance_inflation_factor(X_vif, i) for i in range(X_vif.shape[1])]\n",
    "        vif=np.asarray(vif)\n",
    "        vif =dict(vif)\n",
    "        vif_inverse={}\n",
    "        for key,value in vif.items():\n",
    "            vif_inverse[value]=key\n",
    "        keys_ordered=[vif_inverse[name] for name in sorted(vif.values(),reverse=True)]\n",
    "        vif_ordered=pd.DataFrame(index=keys_ordered,columns=['VIF Factor'])\n",
    "\n",
    "        for key in keys_ordered:\n",
    "            vif_ordered.loc[key,:]=vif[key]\n",
    "\n",
    "\n",
    "        key_colinearity= vif_ordered.index[np.where(vif_ordered.iloc[:,0]>vif_treshold)]\n",
    "\n",
    "        return vif_ordered,print(\"\\n\",\"The following features are collinears: \"\\\n",
    "                     + ','.join(key for key in key_colinearity),\"\\n\",sep=\"\\n\")"
   ]
  },
  {
   "cell_type": "code",
   "execution_count": 3,
   "metadata": {},
   "outputs": [],
   "source": [
    "boroughs=pd.read_csv(\"/home/sedna/Downloads/PROJECT-COURSERA-CAPSTONE/DATA/Boroughs_london.csv\",index_col=0)"
   ]
  },
  {
   "cell_type": "code",
   "execution_count": 4,
   "metadata": {},
   "outputs": [],
   "source": [
    "neighbourhoods=pd.read_csv('/home/sedna/Downloads/PROJECT-COURSERA-CAPSTONE/DATA/neighbourhoods_london.csv',index_col=0)"
   ]
  },
  {
   "cell_type": "code",
   "execution_count": 5,
   "metadata": {},
   "outputs": [],
   "source": [
    "London_neig_grouped_mean=pd.read_csv('/home/sedna/Downloads/PROJECT-COURSERA-CAPSTONE/DATA/london_neig_grouped_CATEGORY_mean.csv',index_col=0)"
   ]
  },
  {
   "cell_type": "code",
   "execution_count": 6,
   "metadata": {},
   "outputs": [],
   "source": [
    "columns=London_neig_grouped_mean.columns[1:]"
   ]
  },
  {
   "cell_type": "code",
   "execution_count": 7,
   "metadata": {},
   "outputs": [],
   "source": [
    "London_neig_grouped_mean['Favourite']=np.zeros(len(London_neig_grouped_mean.index)).astype(int)"
   ]
  },
  {
   "cell_type": "code",
   "execution_count": 8,
   "metadata": {},
   "outputs": [],
   "source": [
    "places=[]\n",
    "patterns=['https']\n",
    "with open (\"/home/sedna/Downloads/PROJECT-COURSERA-CAPSTONE/DATA/Most_visited_london.txt\",'r') as f:\n",
    "    line=f.readlines()\n",
    "    for place in line:\n",
    "        for pattern in patterns:\n",
    "            if re.search(pattern, place):\n",
    "                pass\n",
    "            else:\n",
    "                places.append(place.split('\\n')[0].strip())\n",
    "        \n",
    "        "
   ]
  },
  {
   "cell_type": "code",
   "execution_count": 9,
   "metadata": {},
   "outputs": [],
   "source": [
    "with open (\"/home/sedna/Downloads/PROJECT-COURSERA-CAPSTONE/DATA/Other_visited_places.txt\",'r') as f:\n",
    "    line=f.readlines()\n",
    "    for place in line:\n",
    "           places.append(place.split('\\n')[0].strip())         "
   ]
  },
  {
   "cell_type": "code",
   "execution_count": 10,
   "metadata": {},
   "outputs": [
    {
     "name": "stdout",
     "output_type": "stream",
     "text": [
      "['Southbank', 'Bermondsey', 'Camden', 'Notting Hill', 'Peckham', 'Whitechapel', 'Kings Cross', 'Fitzrovia', 'Covent Garden', 'Elephant and Castle', 'City of London', 'Richmond', 'Greenwich', 'Shoreditch', 'Westminster', 'Mayfair', 'Shoreditch', 'Chelsea', 'Greenwich', 'Southwark', 'Brixton', 'Notting Hill', 'Camden', 'Soho', 'Kensington', 'City of London', 'Barnet', 'Camden', 'Hammersmith and Fulham', 'Kensington and Chelsea', 'Lambeth', 'Southwark', 'Westminster']\n"
     ]
    }
   ],
   "source": [
    "print(places)"
   ]
  },
  {
   "cell_type": "code",
   "execution_count": 11,
   "metadata": {},
   "outputs": [],
   "source": [
    "places=list(set(places))"
   ]
  },
  {
   "cell_type": "code",
   "execution_count": 12,
   "metadata": {},
   "outputs": [],
   "source": [
    "place_not_neig=[]\n",
    "for place in places:\n",
    "    if place not in London_neig_grouped_mean['Neighbourhood'].values:\n",
    "        place_not_neig.append(place)"
   ]
  },
  {
   "cell_type": "code",
   "execution_count": 13,
   "metadata": {},
   "outputs": [
    {
     "data": {
      "text/plain": [
       "['Hammersmith and Fulham',\n",
       " 'Camden',\n",
       " 'Barnet',\n",
       " 'City of London',\n",
       " 'Southwark',\n",
       " 'Kensington and Chelsea']"
      ]
     },
     "execution_count": 13,
     "metadata": {},
     "output_type": "execute_result"
    }
   ],
   "source": [
    "place_not_neig=list(set(place_not_neig))\n",
    "place_not_neig"
   ]
  },
  {
   "cell_type": "code",
   "execution_count": 14,
   "metadata": {},
   "outputs": [],
   "source": [
    "place_neig=[x for x in places if x not in place_not_neig]"
   ]
  },
  {
   "cell_type": "code",
   "execution_count": 15,
   "metadata": {},
   "outputs": [],
   "source": [
    "for place in place_not_neig:\n",
    "    neig_list=neighbourhoods.loc[neighbourhoods.loc[:,'Borough'].values==place]['Neighbourhood'].values\n",
    "    for neig in neig_list:\n",
    "        place_neig.append(neig)\n"
   ]
  },
  {
   "cell_type": "code",
   "execution_count": 16,
   "metadata": {},
   "outputs": [
    {
     "data": {
      "text/plain": [
       "105"
      ]
     },
     "execution_count": 16,
     "metadata": {},
     "output_type": "execute_result"
    }
   ],
   "source": [
    "place_neig=list(set(place_neig))\n",
    "len(place_neig)"
   ]
  },
  {
   "cell_type": "code",
   "execution_count": 17,
   "metadata": {},
   "outputs": [
    {
     "name": "stdout",
     "output_type": "stream",
     "text": [
      "['Elephant and Castle', \"Shepherd's Bush\", 'Friern Barnet', 'Barbican', 'Highgate', 'West Hampstead', 'Grahame Park', 'Holborn', 'Temple', 'Kensington', 'Brunswick Park', 'Whitechapel', 'West Kensington', 'East Dulwich', 'Walworth', 'Golders Green', 'North Kensington', 'Fulham', 'Wormwood Scrubs', 'Earls Court', 'Bermondsey', 'Colney Hatch', 'Peckham', 'Woodside Park', 'Monken Hadley', 'The Hyde', 'Temple Fortune', 'White City', 'Covent Garden', 'Cricklewood', 'Burroughs, The', 'Mayfair', 'Old Oak Common', 'South Kensington', 'The Hale', 'Chelsea', 'Kings Cross', 'Kilburn', 'Barnet (also Chipping Barnet, High Barnet)', 'West Hendon', 'East Barnet', 'Tufnell Park', 'Bloomsbury', 'Hendon', 'Holland Park', 'Richmond', 'Bankside', 'Camberwell', 'Notting Hill', 'Hammersmith', 'Kentish Town', 'Chalk Farm', 'Camden Town', 'Childs Hill', 'Finchley', 'Blackfriars', 'Aldgate', 'Surrey Quays', 'Totteridge', 'Westminster', 'Church End', 'Newington', 'Burnt Oak', 'Mill Hill', 'West Brompton', 'Greenwich', 'Hampstead Garden Suburb', 'New Barnet', 'St Pancras', 'Waterloo', 'Swiss Cottage', 'Frognal', 'Gospel Oak', 'Hampstead', 'Belsize Park', 'Lambeth', 'Arkley', 'Edgware', 'Sands End', 'Parsons Green', 'Denmark Hill', 'Oakleigh Park', 'Acton', 'St Giles', 'Barnet Gate', 'Rotherhithe', 'Dulwich', 'Primrose Hill', 'Brixton', 'Brent Cross', 'New Southgate', 'Sydenham Hill', 'Southbank', 'Cockfosters', 'Whetstone', 'East Finchley', 'Kennington', 'Fitzrovia', 'Osidge', 'Colindale', 'Chiswick', 'North Finchley', 'Nunhead', 'Shoreditch', 'Soho']\n"
     ]
    }
   ],
   "source": [
    "print(place_neig)"
   ]
  },
  {
   "cell_type": "code",
   "execution_count": 18,
   "metadata": {},
   "outputs": [],
   "source": [
    "nice_places=pd.DataFrame(columns=['Neighbourhood','Latitude','Longitude'])"
   ]
  },
  {
   "cell_type": "code",
   "execution_count": 19,
   "metadata": {},
   "outputs": [],
   "source": [
    "for place in place_neig:\n",
    "        df1= neighbourhoods.loc[neighbourhoods.loc[:,'Neighbourhood'].values==place][['Neighbourhood','Latitude','Longitude']]\n",
    "        nice_places=nice_places.append(df1,ignore_index=True)"
   ]
  },
  {
   "cell_type": "code",
   "execution_count": 20,
   "metadata": {},
   "outputs": [],
   "source": [
    "nice_places=nice_places.drop_duplicates()"
   ]
  },
  {
   "cell_type": "code",
   "execution_count": 21,
   "metadata": {
    "scrolled": true
   },
   "outputs": [
    {
     "data": {
      "text/html": [
       "<div style=\"width:100%;\"><div style=\"position:relative;width:100%;height:0;padding-bottom:60%;\"><iframe src=\"data:text/html;charset=utf-8;base64,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\" style=\"position:absolute;width:100%;height:100%;left:0;top:0;border:none !important;\" allowfullscreen webkitallowfullscreen mozallowfullscreen></iframe></div></div>"
      ],
      "text/plain": [
       "<folium.folium.Map at 0x7fa623b02320>"
      ]
     },
     "execution_count": 21,
     "metadata": {},
     "output_type": "execute_result"
    }
   ],
   "source": [
    "address = 'London,UK'\n",
    "\n",
    "geolocator = Nominatim(user_agent=\"to_explorer\",timeout=50)\n",
    "location = geolocator.geocode(address)\n",
    "latitude = location.latitude\n",
    "longitude = location.longitude\n",
    "# create map of Most Visited places in London using latitude and longitude values\n",
    "map_london_most_visited = folium.Map(location=[latitude, longitude], zoom_start=10)\n",
    "\n",
    "# add markers to map\n",
    "for lat, lng,place  in zip(nice_places['Latitude'],nice_places['Longitude'], nice_places['Neighbourhood']):\n",
    "            label = '{}'.format(place)\n",
    "            label = folium.Popup(label, parse_html=True)\n",
    "            folium.RegularPolygonMarker(\n",
    "                [lat, lng],\n",
    "                rotation=70,\n",
    "                radius=5,\n",
    "                popup=label,\n",
    "                color='magenta',\n",
    "                fill=True,\n",
    "                fill_color='white',\n",
    "                #fill_color='#3186cc',\n",
    "                fill_opacity=0.3,\n",
    "                parse_html=False).add_to(map_london_most_visited)  \n",
    "map_london_most_visited"
   ]
  },
  {
   "cell_type": "code",
   "execution_count": 22,
   "metadata": {},
   "outputs": [],
   "source": [
    "map_london_most_visited.save(\"/home/sedna/Downloads/PROJECT-COURSERA-CAPSTONE/RESULTS/map_London_most_visited.html\")"
   ]
  },
  {
   "cell_type": "markdown",
   "metadata": {},
   "source": []
  },
  {
   "cell_type": "code",
   "execution_count": null,
   "metadata": {},
   "outputs": [],
   "source": []
  },
  {
   "cell_type": "code",
   "execution_count": 23,
   "metadata": {},
   "outputs": [],
   "source": [
    "for ii in London_neig_grouped_mean.index:\n",
    "    if London_neig_grouped_mean.loc[ii,'Neighbourhood'] in place_neig:\n",
    "        London_neig_grouped_mean.loc[ii,'Favourite']=int(1.0)"
   ]
  },
  {
   "cell_type": "code",
   "execution_count": 24,
   "metadata": {
    "scrolled": true
   },
   "outputs": [],
   "source": [
    "london_data=London_neig_grouped_mean.drop(['Neighbourhood'],axis=1).values\n"
   ]
  },
  {
   "cell_type": "code",
   "execution_count": 25,
   "metadata": {},
   "outputs": [
    {
     "data": {
      "text/plain": [
       "['arts_entertainment',\n",
       " 'building',\n",
       " 'education',\n",
       " 'event',\n",
       " 'food',\n",
       " 'nightlife',\n",
       " 'parks_outdoors',\n",
       " 'shops',\n",
       " 'travel',\n",
       " 'Favourite']"
      ]
     },
     "execution_count": 25,
     "metadata": {},
     "output_type": "execute_result"
    }
   ],
   "source": [
    "London_neig_grouped_mean.columns[1:].to_list()"
   ]
  },
  {
   "cell_type": "code",
   "execution_count": null,
   "metadata": {},
   "outputs": [],
   "source": []
  },
  {
   "cell_type": "code",
   "execution_count": 26,
   "metadata": {},
   "outputs": [],
   "source": [
    "type(london_data)\n",
    "london_data=pd.DataFrame(london_data,index=london_data[:,0],columns=London_neig_grouped_mean.columns[1:].to_list())\n"
   ]
  },
  {
   "cell_type": "code",
   "execution_count": 27,
   "metadata": {},
   "outputs": [
    {
     "data": {
      "text/plain": [
       "Index(['arts_entertainment', 'building', 'education', 'event', 'food',\n",
       "       'nightlife', 'parks_outdoors', 'shops', 'travel', 'Favourite'],\n",
       "      dtype='object')"
      ]
     },
     "execution_count": 27,
     "metadata": {},
     "output_type": "execute_result"
    }
   ],
   "source": [
    "london_data.columns"
   ]
  },
  {
   "cell_type": "code",
   "execution_count": 28,
   "metadata": {},
   "outputs": [],
   "source": [
    "testsize=0.24\n",
    "X=london_data[london_data.columns[:-1]]\n",
    "y=london_data[london_data.columns[-1]]\n"
   ]
  },
  {
   "cell_type": "code",
   "execution_count": 29,
   "metadata": {},
   "outputs": [
    {
     "data": {
      "text/plain": [
       "(515, 9)"
      ]
     },
     "execution_count": 29,
     "metadata": {},
     "output_type": "execute_result"
    }
   ],
   "source": [
    "X.shape"
   ]
  },
  {
   "cell_type": "code",
   "execution_count": 30,
   "metadata": {},
   "outputs": [
    {
     "data": {
      "text/plain": [
       "(515,)"
      ]
     },
     "execution_count": 30,
     "metadata": {},
     "output_type": "execute_result"
    }
   ],
   "source": [
    "y.shape"
   ]
  },
  {
   "cell_type": "code",
   "execution_count": 31,
   "metadata": {},
   "outputs": [],
   "source": [
    " X_train, X_test, Y_train, Y_test = train_test_split( \\\n",
    "            X, y, test_size=testsize, random_state=42,stratify=y)\n",
    "        "
   ]
  },
  {
   "cell_type": "code",
   "execution_count": 32,
   "metadata": {},
   "outputs": [
    {
     "name": "stdout",
     "output_type": "stream",
     "text": [
      "          arts_entertainment  building  education  event      food  nightlife  \\\n",
      "0.000000            0.000000  0.000000        0.0    0.0  0.928571   0.000000   \n",
      "0.034091            0.034091  0.022727        0.0    0.0  0.625000   0.045455   \n",
      "0.000000            0.000000  0.000000        0.0    0.0  0.214286   0.071429   \n",
      "0.062500            0.062500  0.000000        0.0    0.0  0.312500   0.062500   \n",
      "0.333333            0.333333  0.000000        0.0    0.0  0.000000   0.333333   \n",
      "...                      ...       ...        ...    ...       ...        ...   \n",
      "0.000000            0.000000  0.250000        0.0    0.0  0.250000   0.250000   \n",
      "0.000000            0.000000  0.000000        0.0    0.0  0.200000   0.200000   \n",
      "0.200000            0.200000  0.200000        0.0    0.0  0.200000   0.000000   \n",
      "0.066667            0.066667  0.033333        0.0    0.0  0.533333   0.133333   \n",
      "0.000000            0.000000  0.000000        0.0    0.0  0.571429   0.000000   \n",
      "\n",
      "          parks_outdoors     shops    travel  \n",
      "0.000000        0.000000  0.071429  0.000000  \n",
      "0.034091        0.102273  0.147727  0.022727  \n",
      "0.000000        0.000000  0.571429  0.142857  \n",
      "0.062500        0.000000  0.437500  0.125000  \n",
      "0.333333        0.333333  0.000000  0.000000  \n",
      "...                  ...       ...       ...  \n",
      "0.000000        0.000000  0.000000  0.250000  \n",
      "0.000000        0.200000  0.200000  0.200000  \n",
      "0.200000        0.200000  0.200000  0.000000  \n",
      "0.066667        0.050000  0.133333  0.050000  \n",
      "0.000000        0.000000  0.285714  0.142857  \n",
      "\n",
      "[360 rows x 9 columns]\n"
     ]
    }
   ],
   "source": [
    "print(X_train)"
   ]
  },
  {
   "cell_type": "code",
   "execution_count": 33,
   "metadata": {},
   "outputs": [
    {
     "name": "stdout",
     "output_type": "stream",
     "text": [
      "0.000000    1.0\n",
      "0.034091    0.0\n",
      "0.000000    0.0\n",
      "0.062500    0.0\n",
      "0.333333    1.0\n",
      "           ... \n",
      "0.000000    0.0\n",
      "0.000000    0.0\n",
      "0.200000    1.0\n",
      "0.066667    0.0\n",
      "0.000000    0.0\n",
      "Name: Favourite, Length: 360, dtype: float64\n"
     ]
    }
   ],
   "source": [
    "print(Y_train)"
   ]
  },
  {
   "cell_type": "markdown",
   "metadata": {},
   "source": [
    "\n"
   ]
  },
  {
   "cell_type": "code",
   "execution_count": 34,
   "metadata": {},
   "outputs": [],
   "source": [
    "svm_model=svm.SVC(gamma='auto')\n",
    "KNN_model = KNeighborsClassifier(n_neighbors=2)\n",
    "LReg_model=LogisticRegression(solver='lbfgs')\n",
    "LDA_model=LinearDiscriminantAnalysis()\n",
    "Dtree_model=DecisionTreeClassifier(criterion='entropy', max_depth=3)\n",
    "NB_model=GaussianNB()\n",
    "models=[]\n",
    "models.append('svm')\n",
    "models.append('KNN')\n",
    "models.append('Logistic Regresion')\n",
    "models.append('Decision Tree')\n",
    "models.append('NB')\n",
    "models.append('LDA')\n"
   ]
  },
  {
   "cell_type": "code",
   "execution_count": 35,
   "metadata": {},
   "outputs": [],
   "source": [
    "clf=[]\n",
    "clf.append(svm_model.fit(X_train,Y_train))\n",
    "clf.append(KNN_model.fit(X_train,Y_train))\n",
    "clf.append(LReg_model.fit(X_train,Y_train))\n",
    "clf.append(Dtree_model.fit(X_train,Y_train))\n",
    "clf.append(NB_model.fit(X_train,Y_train))"
   ]
  },
  {
   "cell_type": "markdown",
   "metadata": {},
   "source": []
  },
  {
   "cell_type": "code",
   "execution_count": 36,
   "metadata": {},
   "outputs": [
    {
     "name": "stdout",
     "output_type": "stream",
     "text": [
      "\n",
      "\n",
      "The following features are collinears: food,shops,nightlife,travel,arts_entertainment,parks_outdoors,building,event,education\n",
      "\n",
      "\n"
     ]
    },
    {
     "data": {
      "text/plain": [
       "(                   VIF Factor\n",
       " food                  1.94249\n",
       " shops                  1.6621\n",
       " nightlife              1.6105\n",
       " travel                1.29924\n",
       " arts_entertainment    1.28545\n",
       " parks_outdoors        1.23638\n",
       " building              1.12206\n",
       " event                 1.03291\n",
       " education              1.0154, None)"
      ]
     },
     "execution_count": 36,
     "metadata": {},
     "output_type": "execute_result"
    }
   ],
   "source": [
    "variance_influence_factors(X_train,columns,0.5)"
   ]
  },
  {
   "cell_type": "code",
   "execution_count": 37,
   "metadata": {},
   "outputs": [],
   "source": [
    "clf.append(LDA_model.fit(X_train[X_train.columns[:-1]],Y_train))"
   ]
  },
  {
   "cell_type": "code",
   "execution_count": 38,
   "metadata": {},
   "outputs": [
    {
     "data": {
      "text/plain": [
       "[SVC(C=1.0, cache_size=200, class_weight=None, coef0=0.0,\n",
       "     decision_function_shape='ovr', degree=3, gamma='auto', kernel='rbf',\n",
       "     max_iter=-1, probability=False, random_state=None, shrinking=True,\n",
       "     tol=0.001, verbose=False),\n",
       " KNeighborsClassifier(algorithm='auto', leaf_size=30, metric='minkowski',\n",
       "                      metric_params=None, n_jobs=None, n_neighbors=2, p=2,\n",
       "                      weights='uniform'),\n",
       " LogisticRegression(C=1.0, class_weight=None, dual=False, fit_intercept=True,\n",
       "                    intercept_scaling=1, l1_ratio=None, max_iter=100,\n",
       "                    multi_class='warn', n_jobs=None, penalty='l2',\n",
       "                    random_state=None, solver='lbfgs', tol=0.0001, verbose=0,\n",
       "                    warm_start=False),\n",
       " DecisionTreeClassifier(class_weight=None, criterion='entropy', max_depth=3,\n",
       "                        max_features=None, max_leaf_nodes=None,\n",
       "                        min_impurity_decrease=0.0, min_impurity_split=None,\n",
       "                        min_samples_leaf=1, min_samples_split=2,\n",
       "                        min_weight_fraction_leaf=0.0, presort=False,\n",
       "                        random_state=None, splitter='best'),\n",
       " GaussianNB(priors=None, var_smoothing=1e-09),\n",
       " LinearDiscriminantAnalysis(n_components=None, priors=None, shrinkage=None,\n",
       "                            solver='svd', store_covariance=False, tol=0.0001)]"
      ]
     },
     "execution_count": 38,
     "metadata": {},
     "output_type": "execute_result"
    }
   ],
   "source": [
    "clf"
   ]
  },
  {
   "cell_type": "code",
   "execution_count": 39,
   "metadata": {},
   "outputs": [],
   "source": [
    "y_pred=[]\n",
    "for ii in range(len(clf)-1):\n",
    "    y_pred.append(clf[ii].predict(X_test))\n",
    "y_pred.append(clf[-1].predict(X_test[X_test.columns[:-1]]))"
   ]
  },
  {
   "cell_type": "code",
   "execution_count": 40,
   "metadata": {},
   "outputs": [
    {
     "name": "stdout",
     "output_type": "stream",
     "text": [
      "Accuracy of svm: 0.7935483870967742\n",
      "Accuracy of KNN: 0.7677419354838709\n",
      "Accuracy of Logistic Regresion: 0.7935483870967742\n",
      "Accuracy of Decision Tree: 0.7032258064516129\n",
      "Accuracy of NB: 0.2838709677419355\n",
      "Accuracy of LDA: 0.7870967741935484\n"
     ]
    }
   ],
   "source": [
    "# Model Accuracy, how often is the classifier correct?\n",
    "for ii in range(len(models)):\n",
    "    print(\"Accuracy of \"+ models[ii]+':',metrics.accuracy_score(Y_test, y_pred[ii]))"
   ]
  },
  {
   "cell_type": "code",
   "execution_count": 41,
   "metadata": {},
   "outputs": [
    {
     "name": "stdout",
     "output_type": "stream",
     "text": [
      "ROC_AUC_SCORE of svm: 0.5\n",
      "ROC_AUC_SCORE of KNN: 0.506859756097561\n",
      "ROC_AUC_SCORE of Logistic Regresion: 0.5\n",
      "ROC_AUC_SCORE of Decision Tree: 0.5124491869918699\n",
      "ROC_AUC_SCORE of NB: 0.5141006097560976\n",
      "ROC_AUC_SCORE of LDA: 0.507494918699187\n"
     ]
    }
   ],
   "source": [
    "# ROC_AUC_SCORE\n",
    "for ii in range(len(models)):\n",
    "    print(\"ROC_AUC_SCORE of \"+ models[ii]+':',metrics.roc_auc_score(Y_test, y_pred[ii]))"
   ]
  },
  {
   "cell_type": "code",
   "execution_count": 42,
   "metadata": {},
   "outputs": [],
   "source": [
    "#Confusion matrix\n",
    "from matplotlib.colors import LinearSegmentedColormap\n",
    "\n",
    "def plot_confusion_matrix(Title,models,Y_test,y_pred,labels,nrows,ncols):\n",
    "   \n",
    "    test=np.where(Y_test==1,labels[0],labels[1]).tolist()\n",
    "    cm=[]\n",
    "    for ii in range(len(models)):\n",
    "        pred=np.where(y_pred[ii]==1,labels[0],labels[1]).tolist()\n",
    "        cm.append(confusion_matrix(test, pred, labels))\n",
    "    print(cm)\n",
    "    colors = [(0.75, 0.5, 1), (0, 1, 0), (1, 0, 0)]  # B -> G -> R\n",
    "    n_bins = [3, 6, 15,30,60,100]  # Discretizes the interpolation into bins\n",
    "    cmap_name = 'my_list'\n",
    "    \n",
    "    fig,axs = plt.subplots(nrows=nrows, ncols=ncols, figsize=(15,15))\n",
    "    fig.set_canvas(plt.gcf().canvas)   \n",
    "\n",
    "    for ii,n_bin,axt in zip(range(len(models)),n_bins,axs.ravel()):\n",
    "            # Create the colormap\n",
    "            cmap = LinearSegmentedColormap.from_list(cmap_name, colors, N=n_bin)\n",
    "            cax = axt.matshow(cm[ii],cmap=cmap)\n",
    "            \n",
    "            axt.set_xticklabels([''] + labels)\n",
    "            axt.set_yticklabels([''] + labels)\n",
    "            axt.set_xlabel('Predicted')\n",
    "            axt.set_ylabel('True')\n",
    "            axt.set_title(models[ii])\n",
    "            fig.colorbar(cax,ax=axt)\n",
    "            \n",
    "              \n",
    "    plt.suptitle(Title)\n",
    "    fig.tight_layout(rect=[0, 0.03, 1, 0.95])\n",
    "\n",
    "    savefig=Title + '.png'\n",
    "    return fig.savefig(savefig),plt.show()\n"
   ]
  },
  {
   "cell_type": "code",
   "execution_count": 43,
   "metadata": {},
   "outputs": [
    {
     "name": "stdout",
     "output_type": "stream",
     "text": [
      "[array([[  0,  32],\n",
      "       [  0, 123]]), array([[  2,  30],\n",
      "       [  6, 117]]), array([[  0,  32],\n",
      "       [  0, 123]]), array([[  6,  26],\n",
      "       [ 20, 103]]), array([[ 29,   3],\n",
      "       [108,  15]]), array([[  1,  31],\n",
      "       [  2, 121]])]\n"
     ]
    },
    {
     "data": {
      "image/png": "[encoded data removed]",
      "text/plain": [
       "<Figure size 1080x1080 with 12 Axes>"
      ]
     },
     "metadata": {
      "needs_background": "light"
     },
     "output_type": "display_data"
    },
    {
     "data": {
      "text/plain": [
       "(None, None)"
      ]
     },
     "execution_count": 43,
     "metadata": {},
     "output_type": "execute_result"
    }
   ],
   "source": [
    "labels = ['Favourite', 'Non-Favourite']\n",
    "Title='Confusion matrix of Classifier Models'\n",
    "nrows=3\n",
    "ncols=2\n",
    "plot_confusion_matrix(Title,models,Y_test,y_pred,labels,nrows,ncols)"
   ]
  },
  {
   "cell_type": "code",
   "execution_count": 44,
   "metadata": {},
   "outputs": [],
   "source": [
    "#!pip install graphviz --user\n",
    "#!pip install pydotplus --user"
   ]
  },
  {
   "cell_type": "code",
   "execution_count": 45,
   "metadata": {
    "scrolled": true
   },
   "outputs": [],
   "source": [
    "#Visualizing Decision Trees\n",
    "#! pip install six --user\n",
    "from six import StringIO  \n",
    "from IPython.display import Image  \n",
    "from sklearn.tree import export_graphviz\n",
    "import pydotplus\n",
    "dot_data = StringIO()\n",
    "export_graphviz(clf[3], out_file=dot_data,  \n",
    "                filled=True, rounded=True,\n",
    "                special_characters=True, feature_names = columns,class_names=['Non-Favourite','Favourite'])\n",
    "#graph = pydotplus.graph_from_dot_data(dot_data.getvalue())  \n",
    "#graph.write_png('London_classifiers.png')\n",
    "#Image(graph.create_png())"
   ]
  },
  {
   "cell_type": "code",
   "execution_count": 46,
   "metadata": {},
   "outputs": [],
   "source": [
    "#! pip install tensorflow keras --user"
   ]
  },
  {
   "cell_type": "code",
   "execution_count": 2,
   "metadata": {},
   "outputs": [],
   "source": [
    "import tensorflow as tf"
   ]
  },
  {
   "cell_type": "code",
   "execution_count": 3,
   "metadata": {},
   "outputs": [
    {
     "name": "stderr",
     "output_type": "stream",
     "text": [
      "Using TensorFlow backend.\n"
     ]
    }
   ],
   "source": [
    "from keras.layers import Dense"
   ]
  },
  {
   "cell_type": "code",
   "execution_count": 4,
   "metadata": {},
   "outputs": [],
   "source": [
    "from keras.models import Model"
   ]
  },
  {
   "cell_type": "code",
   "execution_count": 5,
   "metadata": {},
   "outputs": [],
   "source": [
    "tf.keras.backend.set_floatx('float64')"
   ]
  },
  {
   "cell_type": "code",
   "execution_count": 6,
   "metadata": {},
   "outputs": [],
   "source": [
    "class MyModel(Model):\n",
    "  def __init__(self):\n",
    "    super(MyModel, self).__init__()\n",
    "    self.d1 =Dense(32, input_dim=9)\n",
    "    self.d2 = Dense(12, activation='relu')\n",
    "    self.d3 = Dense(1, activation='sigmoid')\n",
    "\n",
    "  def call(self, x):\n",
    "    x = self.d1(x)\n",
    "    x = self.d2(x)\n",
    "    return self.d3(x)\n",
    "\n",
    "# Create an instance of the model\n",
    "model = MyModel()"
   ]
  },
  {
   "cell_type": "markdown",
   "metadata": {},
   "source": [
    "Choose an optimizer and loss function for training:"
   ]
  },
  {
   "cell_type": "code",
   "execution_count": 7,
   "metadata": {},
   "outputs": [
    {
     "data": {
      "text/plain": [
       "['BinaryCrossentropy',\n",
       " 'CategoricalCrossentropy',\n",
       " 'CategoricalHinge',\n",
       " 'CosineSimilarity',\n",
       " 'Hinge',\n",
       " 'Huber',\n",
       " 'KLD',\n",
       " 'KLDivergence',\n",
       " 'LogCosh',\n",
       " 'Loss',\n",
       " 'MAE',\n",
       " 'MAPE',\n",
       " 'MSE',\n",
       " 'MSLE',\n",
       " 'MeanAbsoluteError',\n",
       " 'MeanAbsolutePercentageError',\n",
       " 'MeanSquaredError',\n",
       " 'MeanSquaredLogarithmicError',\n",
       " 'Poisson',\n",
       " 'Reduction',\n",
       " 'SparseCategoricalCrossentropy',\n",
       " 'SquaredHinge',\n",
       " '__builtins__',\n",
       " '__cached__',\n",
       " '__doc__',\n",
       " '__file__',\n",
       " '__loader__',\n",
       " '__name__',\n",
       " '__package__',\n",
       " '__path__',\n",
       " '__spec__',\n",
       " '_sys',\n",
       " 'binary_crossentropy',\n",
       " 'categorical_crossentropy',\n",
       " 'categorical_hinge',\n",
       " 'cosine_similarity',\n",
       " 'deserialize',\n",
       " 'get',\n",
       " 'hinge',\n",
       " 'kld',\n",
       " 'kullback_leibler_divergence',\n",
       " 'logcosh',\n",
       " 'mae',\n",
       " 'mape',\n",
       " 'mean_absolute_error',\n",
       " 'mean_absolute_percentage_error',\n",
       " 'mean_squared_error',\n",
       " 'mean_squared_logarithmic_error',\n",
       " 'mse',\n",
       " 'msle',\n",
       " 'poisson',\n",
       " 'serialize',\n",
       " 'sparse_categorical_crossentropy',\n",
       " 'squared_hinge']"
      ]
     },
     "execution_count": 7,
     "metadata": {},
     "output_type": "execute_result"
    }
   ],
   "source": [
    "\n",
    "dir(tf.keras.losses)"
   ]
  },
  {
   "cell_type": "code",
   "execution_count": 8,
   "metadata": {},
   "outputs": [],
   "source": [
    "loss_object = tf.keras.losses.BinaryCrossentropy()\n",
    "\n",
    "optimizer = tf.keras.optimizers.Adam()"
   ]
  },
  {
   "cell_type": "code",
   "execution_count": 9,
   "metadata": {},
   "outputs": [
    {
     "data": {
      "text/plain": [
       "['AUC',\n",
       " 'Accuracy',\n",
       " 'BinaryAccuracy',\n",
       " 'BinaryCrossentropy',\n",
       " 'CategoricalAccuracy',\n",
       " 'CategoricalCrossentropy',\n",
       " 'CategoricalHinge',\n",
       " 'CosineSimilarity',\n",
       " 'FalseNegatives',\n",
       " 'FalsePositives',\n",
       " 'Hinge',\n",
       " 'KLD',\n",
       " 'KLDivergence',\n",
       " 'LogCoshError',\n",
       " 'MAE',\n",
       " 'MAPE',\n",
       " 'MSE',\n",
       " 'MSLE',\n",
       " 'Mean',\n",
       " 'MeanAbsoluteError',\n",
       " 'MeanAbsolutePercentageError',\n",
       " 'MeanIoU',\n",
       " 'MeanRelativeError',\n",
       " 'MeanSquaredError',\n",
       " 'MeanSquaredLogarithmicError',\n",
       " 'MeanTensor',\n",
       " 'Metric',\n",
       " 'Poisson',\n",
       " 'Precision',\n",
       " 'Recall',\n",
       " 'RootMeanSquaredError',\n",
       " 'SensitivityAtSpecificity',\n",
       " 'SparseCategoricalAccuracy',\n",
       " 'SparseCategoricalCrossentropy',\n",
       " 'SparseTopKCategoricalAccuracy',\n",
       " 'SpecificityAtSensitivity',\n",
       " 'SquaredHinge',\n",
       " 'Sum',\n",
       " 'TopKCategoricalAccuracy',\n",
       " 'TrueNegatives',\n",
       " 'TruePositives',\n",
       " '__builtins__',\n",
       " '__cached__',\n",
       " '__doc__',\n",
       " '__file__',\n",
       " '__loader__',\n",
       " '__name__',\n",
       " '__package__',\n",
       " '__path__',\n",
       " '__spec__',\n",
       " '_sys',\n",
       " 'binary_accuracy',\n",
       " 'binary_crossentropy',\n",
       " 'categorical_accuracy',\n",
       " 'categorical_crossentropy',\n",
       " 'deserialize',\n",
       " 'get',\n",
       " 'hinge',\n",
       " 'kld',\n",
       " 'kullback_leibler_divergence',\n",
       " 'mae',\n",
       " 'mape',\n",
       " 'mean_absolute_error',\n",
       " 'mean_absolute_percentage_error',\n",
       " 'mean_squared_error',\n",
       " 'mean_squared_logarithmic_error',\n",
       " 'mse',\n",
       " 'msle',\n",
       " 'poisson',\n",
       " 'serialize',\n",
       " 'sparse_categorical_accuracy',\n",
       " 'sparse_categorical_crossentropy',\n",
       " 'sparse_top_k_categorical_accuracy',\n",
       " 'squared_hinge',\n",
       " 'top_k_categorical_accuracy']"
      ]
     },
     "execution_count": 9,
     "metadata": {},
     "output_type": "execute_result"
    }
   ],
   "source": [
    "dir(tf.keras.metrics)"
   ]
  },
  {
   "cell_type": "markdown",
   "metadata": {},
   "source": [
    "Metrics"
   ]
  },
  {
   "cell_type": "code",
   "execution_count": 10,
   "metadata": {},
   "outputs": [],
   "source": [
    "train_loss = tf.keras.metrics.Mean(name='train_loss')\n",
    "train_accuracy = tf.keras.metrics.BinaryAccuracy(name='train_accuracy')\n",
    "#train_cross_accuracy = tf.keras.metrics.BinaryCrossentropy(name='train_accuracy')\n",
    "test_loss = tf.keras.metrics.Mean(name='test_loss')\n",
    "test_accuracy = tf.keras.metrics.BinaryAccuracy(name='test_accuracy')\n",
    "#test_cross_accuracy = tf.keras.metrics.BinaryCrossentropy(name='train_accuracy')"
   ]
  },
  {
   "cell_type": "markdown",
   "metadata": {},
   "source": [
    "Gradient"
   ]
  },
  {
   "cell_type": "code",
   "execution_count": 11,
   "metadata": {},
   "outputs": [],
   "source": [
    "@tf.function\n",
    "def train_step(features, labels):\n",
    "  with tf.GradientTape() as tape:\n",
    "    predictions = model(features)\n",
    "    loss = loss_object(labels, predictions)\n",
    "  gradients = tape.gradient(loss, model.trainable_variables)\n",
    "  optimizer.apply_gradients(zip(gradients, model.trainable_variables))\n",
    "\n",
    "  train_loss(loss)\n",
    "  train_accuracy(labels, predictions)"
   ]
  },
  {
   "cell_type": "markdown",
   "metadata": {},
   "source": [
    "Test the model"
   ]
  },
  {
   "cell_type": "code",
   "execution_count": 12,
   "metadata": {},
   "outputs": [],
   "source": [
    "@tf.function\n",
    "def test_step(features, labels):\n",
    "  predictions = model(features)\n",
    "  t_loss = loss_object(labels, predictions)\n",
    "\n",
    "  test_loss(t_loss)\n",
    "  test_accuracy(labels, predictions)"
   ]
  },
  {
   "cell_type": "code",
   "execution_count": 13,
   "metadata": {},
   "outputs": [],
   "source": [
    "# A utility method to create a tf.data dataset from a Pandas Dataframe\n",
    "def df_to_dataset(dataframe, shuffle=True, batch_size=32):\n",
    "  dataframe = dataframe.copy()\n",
    "  labels = dataframe.pop('Favourite')\n",
    "  ds = tf.data.Dataset.from_tensor_slices((dict(dataframe), labels))\n",
    "  if shuffle:\n",
    "    ds = ds.shuffle(buffer_size=len(dataframe))\n",
    "  ds = ds.batch(batch_size)\n",
    "  return ds"
   ]
  },
  {
   "cell_type": "code",
   "execution_count": null,
   "metadata": {},
   "outputs": [],
   "source": [
    "batch_size = 2\n",
    "import pandas as pd\n",
    "\n",
    "london_data=pd.read_csv('/home/sedna/Downloads/london_data.csv',index_col=0)\n",
    "testsize=0.3\n",
    "from sklearn.model_selection import train_test_split\n",
    "train,test= train_test_split(london_data,test_size=testsize)\n",
    "train_ds = df_to_dataset(train,batch_size=batch_size)\n",
    "test_ds = df_to_dataset(test,batch_size=batch_size)"
   ]
  },
  {
   "cell_type": "markdown",
   "metadata": {},
   "source": []
  },
  {
   "cell_type": "code",
   "execution_count": null,
   "metadata": {},
   "outputs": [],
   "source": [
    "\n",
    "\n",
    "EPOCHS = 5\n",
    "\n",
    "\n",
    "for epoch in range(EPOCHS):\n",
    "  for features, labels in train_ds:\n",
    "      train_step(features, labels)\n",
    "\n",
    "  for test_featues, test_labels in test_ds:\n",
    "      test_step(test_featues, test_labels)\n",
    "\n",
    "  template = 'Epoch {}, Loss: {}, Accuracy: {}, Test Loss: {}, Test Accuracy: {}'\n",
    "  print(template.format(epoch+1,\n",
    "                        train_loss.result(),\n",
    "                        train_accuracy.result()*100,\n",
    "                        test_loss.result(),\n",
    "                        test_accuracy.result()*100))\n",
    "\n",
    "  # Reset the metrics for the next epoch\n",
    "  train_loss.reset_states()\n",
    "  train_accuracy.reset_states()\n",
    "  test_loss.reset_states()\n",
    "  test_accuracy.reset_states()"
   ]
  },
  {
   "cell_type": "code",
   "execution_count": null,
   "metadata": {},
   "outputs": [],
   "source": []
  }
 ],
 "metadata": {
  "kernelspec": {
   "display_name": "Python 3",
   "language": "python",
   "name": "python3"
  },
  "language_info": {
   "codemirror_mode": {
    "name": "ipython",
    "version": 3
   },
   "file_extension": ".py",
   "mimetype": "text/x-python",
   "name": "python",
   "nbconvert_exporter": "python",
   "pygments_lexer": "ipython3",
   "version": "3.7.3"
  }
 },
 "nbformat": 4,
 "nbformat_minor": 2
}
